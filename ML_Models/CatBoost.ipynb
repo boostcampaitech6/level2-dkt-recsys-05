{
 "cells": [
  {
   "cell_type": "markdown",
   "metadata": {},
   "source": [
    "## Package Import"
   ]
  },
  {
   "cell_type": "code",
   "execution_count": 1,
   "metadata": {},
   "outputs": [
    {
     "name": "stdout",
     "output_type": "stream",
     "text": [
      "True\n"
     ]
    }
   ],
   "source": [
    "import numpy as np\n",
    "import pandas as pd\n",
    "import matplotlib.pyplot as plt\n",
    "import seaborn as sns\n",
    "pd.pandas.set_option('display.max_columns', None) \n",
    "sns.set_theme(color_codes = True)\n",
    "\n",
    "import os\n",
    "import sys\n",
    "import tqdm\n",
    "import random\n",
    "import warnings\n",
    "warnings.filterwarnings('ignore')\n",
    "\n",
    "import time\n",
    "from datetime import datetime\n",
    "\n",
    "# ELO\n",
    "from ELO import ELO\n",
    "\n",
    "# sklearn\n",
    "from sklearn.metrics import roc_auc_score, accuracy_score, log_loss\n",
    "\n",
    "# pytorch\n",
    "import torch\n",
    "print(torch.cuda.is_available())\n",
    "\n",
    "# Wandb\n",
    "import wandb\n",
    "from CatBoostWandbCallback import CatBoostWandbCallback\n",
    "# wandb.login(key = 'Personal Key') # Personal Key 입력\n",
    "\n",
    "# Catboost\n",
    "from catboost import Pool, CatBoostClassifier\n",
    "\n",
    "# Optuna\n",
    "import optuna\n",
    "from optuna import Trial, visualization\n",
    "from optuna.samplers import TPESampler\n",
    "from optuna.integration import CatBoostPruningCallback\n",
    "\n",
    "# Seed 고정\n",
    "SEED = 42\n",
    "def seed_everything(seed) :\n",
    "    random.seed(seed)\n",
    "    np.random.seed(seed)\n",
    "    # tf.random.set_seed(seed)\n",
    "    torch.manual_seed(seed)\n",
    "    torch.cuda.manual_seed_all(seed)\n",
    "    torch.backends.cudnn.benchmark = True\n",
    "    torch.use_deterministic_algorithms(True)\n",
    "    os.environ['PYTHONHASHSEED'] = str(seed)\n",
    "    os.environ['TF_ENABLE_ONEDNN_OPTS'] = '0'\n",
    "    os.environ['CUBLAS_WORKSPACE_CONFIG'] = ':4096:8'\n",
    "seed_everything(SEED)"
   ]
  },
  {
   "cell_type": "markdown",
   "metadata": {},
   "source": [
    "## Load Preprocessed Data"
   ]
  },
  {
   "cell_type": "code",
   "execution_count": 2,
   "metadata": {},
   "outputs": [
    {
     "data": {
      "text/html": [
       "<div>\n",
       "<style scoped>\n",
       "    .dataframe tbody tr th:only-of-type {\n",
       "        vertical-align: middle;\n",
       "    }\n",
       "\n",
       "    .dataframe tbody tr th {\n",
       "        vertical-align: top;\n",
       "    }\n",
       "\n",
       "    .dataframe thead th {\n",
       "        text-align: right;\n",
       "    }\n",
       "</style>\n",
       "<table border=\"1\" class=\"dataframe\">\n",
       "  <thead>\n",
       "    <tr style=\"text-align: right;\">\n",
       "      <th></th>\n",
       "      <th>userID</th>\n",
       "      <th>assessmentItemID</th>\n",
       "      <th>answerCode</th>\n",
       "      <th>KnowledgeTag</th>\n",
       "      <th>testID</th>\n",
       "      <th>testCode</th>\n",
       "      <th>testNum</th>\n",
       "      <th>problemID</th>\n",
       "      <th>problemID_Norm</th>\n",
       "      <th>total_problem</th>\n",
       "      <th>year</th>\n",
       "      <th>quarter</th>\n",
       "      <th>month</th>\n",
       "      <th>day</th>\n",
       "      <th>hour</th>\n",
       "      <th>dow</th>\n",
       "      <th>weekday</th>\n",
       "      <th>LagTime</th>\n",
       "      <th>ElapsedTime</th>\n",
       "      <th>ElapsedTime_Rolling2</th>\n",
       "      <th>ElapsedTime_Rolling3</th>\n",
       "      <th>ElapsedTime_Rolling4</th>\n",
       "      <th>ElapsedTime_Rolling5</th>\n",
       "      <th>user_ElaspedTime_avg</th>\n",
       "      <th>item_ElaspedTime_avg</th>\n",
       "      <th>testID_ElaspedTime_avg</th>\n",
       "      <th>testCode_ElaspedTime_avg</th>\n",
       "      <th>testNum_ElaspedTime_avg</th>\n",
       "      <th>problemID_ElaspedTime_avg</th>\n",
       "      <th>tag_ElaspedTime_avg</th>\n",
       "      <th>Real_Solved</th>\n",
       "      <th>Correct_User_ElapsedTime</th>\n",
       "      <th>Wrong_User_ElapsedTime</th>\n",
       "      <th>user_sum</th>\n",
       "      <th>user_cnt</th>\n",
       "      <th>user_acc</th>\n",
       "      <th>user_itemID_sum</th>\n",
       "      <th>user_itemID_cnt</th>\n",
       "      <th>user_itemID_acc</th>\n",
       "      <th>user_testID_sum</th>\n",
       "      <th>user_testID_cnt</th>\n",
       "      <th>user_testID_acc</th>\n",
       "      <th>user_testCode_sum</th>\n",
       "      <th>user_testCode_cnt</th>\n",
       "      <th>user_testCode_acc</th>\n",
       "      <th>user_testNum_sum</th>\n",
       "      <th>user_testNum_cnt</th>\n",
       "      <th>user_testNum_acc</th>\n",
       "      <th>user_problemID_sum</th>\n",
       "      <th>user_problemID_cnt</th>\n",
       "      <th>user_problemID_acc</th>\n",
       "      <th>user_tag_sum</th>\n",
       "      <th>user_tag_cnt</th>\n",
       "      <th>user_tag_acc</th>\n",
       "      <th>itemID_sum</th>\n",
       "      <th>itemID_cnt</th>\n",
       "      <th>itemID_acc</th>\n",
       "      <th>testID_sum</th>\n",
       "      <th>testID_cnt</th>\n",
       "      <th>testID_acc</th>\n",
       "      <th>testCode_sum</th>\n",
       "      <th>testCode_cnt</th>\n",
       "      <th>testCode_acc</th>\n",
       "      <th>testNum_sum</th>\n",
       "      <th>testNum_cnt</th>\n",
       "      <th>testNum_acc</th>\n",
       "      <th>problemID_sum</th>\n",
       "      <th>problemID_cnt</th>\n",
       "      <th>problemID_acc</th>\n",
       "      <th>tag_sum</th>\n",
       "      <th>tag_cnt</th>\n",
       "      <th>tag_acc</th>\n",
       "      <th>itemID_high_freq</th>\n",
       "      <th>testID_high_freq</th>\n",
       "      <th>testCode_high_freq</th>\n",
       "      <th>testNum_high_freq</th>\n",
       "      <th>problemID_high_freq</th>\n",
       "      <th>tag_high_freq</th>\n",
       "      <th>user_past_solved</th>\n",
       "      <th>relative_correct_rate</th>\n",
       "      <th>is_correct_before1</th>\n",
       "      <th>correct_rate_before1</th>\n",
       "      <th>relative_correct_rate_before1</th>\n",
       "      <th>is_correct_before2</th>\n",
       "      <th>correct_rate_before2</th>\n",
       "      <th>relative_correct_rate_before2</th>\n",
       "      <th>is_correct_before3</th>\n",
       "      <th>correct_rate_before3</th>\n",
       "      <th>relative_correct_rate_before3</th>\n",
       "      <th>is_correct_before4</th>\n",
       "      <th>correct_rate_before4</th>\n",
       "      <th>relative_correct_rate_before4</th>\n",
       "      <th>is_correct_before5</th>\n",
       "      <th>correct_rate_before5</th>\n",
       "      <th>relative_correct_rate_before5</th>\n",
       "      <th>theta</th>\n",
       "      <th>beta</th>\n",
       "    </tr>\n",
       "  </thead>\n",
       "  <tbody>\n",
       "    <tr>\n",
       "      <th>0</th>\n",
       "      <td>0</td>\n",
       "      <td>A060001001</td>\n",
       "      <td>1</td>\n",
       "      <td>7224</td>\n",
       "      <td>060001</td>\n",
       "      <td>6</td>\n",
       "      <td>1</td>\n",
       "      <td>1</td>\n",
       "      <td>0.000000</td>\n",
       "      <td>7</td>\n",
       "      <td>2020</td>\n",
       "      <td>1</td>\n",
       "      <td>3</td>\n",
       "      <td>24</td>\n",
       "      <td>0</td>\n",
       "      <td>1</td>\n",
       "      <td>1</td>\n",
       "      <td>0.000000</td>\n",
       "      <td>0.0</td>\n",
       "      <td>0.0</td>\n",
       "      <td>0.000000</td>\n",
       "      <td>0.00</td>\n",
       "      <td>0.0</td>\n",
       "      <td>38.262057</td>\n",
       "      <td>0.079794</td>\n",
       "      <td>18.804632</td>\n",
       "      <td>66.971222</td>\n",
       "      <td>37.934893</td>\n",
       "      <td>3.989678</td>\n",
       "      <td>13.583961</td>\n",
       "      <td>0</td>\n",
       "      <td>0.081091</td>\n",
       "      <td>0.000000</td>\n",
       "      <td>0</td>\n",
       "      <td>0</td>\n",
       "      <td>0.000000</td>\n",
       "      <td>0</td>\n",
       "      <td>0</td>\n",
       "      <td>0.0</td>\n",
       "      <td>0</td>\n",
       "      <td>0</td>\n",
       "      <td>0.00</td>\n",
       "      <td>0</td>\n",
       "      <td>0</td>\n",
       "      <td>0.00</td>\n",
       "      <td>0</td>\n",
       "      <td>0</td>\n",
       "      <td>0.00</td>\n",
       "      <td>0</td>\n",
       "      <td>0</td>\n",
       "      <td>0.0</td>\n",
       "      <td>0</td>\n",
       "      <td>0</td>\n",
       "      <td>0.00</td>\n",
       "      <td>246</td>\n",
       "      <td>250</td>\n",
       "      <td>0.984000</td>\n",
       "      <td>1429</td>\n",
       "      <td>1500</td>\n",
       "      <td>0.952667</td>\n",
       "      <td>210971</td>\n",
       "      <td>296350</td>\n",
       "      <td>0.711898</td>\n",
       "      <td>11867</td>\n",
       "      <td>16750</td>\n",
       "      <td>0.708478</td>\n",
       "      <td>310634</td>\n",
       "      <td>414350</td>\n",
       "      <td>0.749690</td>\n",
       "      <td>718</td>\n",
       "      <td>750</td>\n",
       "      <td>0.957333</td>\n",
       "      <td>0</td>\n",
       "      <td>0</td>\n",
       "      <td>1</td>\n",
       "      <td>1</td>\n",
       "      <td>1</td>\n",
       "      <td>0</td>\n",
       "      <td>0</td>\n",
       "      <td>0.016000</td>\n",
       "      <td>1</td>\n",
       "      <td>1.000000</td>\n",
       "      <td>1.000000</td>\n",
       "      <td>1</td>\n",
       "      <td>1.000000</td>\n",
       "      <td>1.000000</td>\n",
       "      <td>1</td>\n",
       "      <td>1.000000</td>\n",
       "      <td>1.000000</td>\n",
       "      <td>1</td>\n",
       "      <td>1.000000</td>\n",
       "      <td>1.000000</td>\n",
       "      <td>1</td>\n",
       "      <td>1.0</td>\n",
       "      <td>1.0</td>\n",
       "      <td>0.578202</td>\n",
       "      <td>-3.342176</td>\n",
       "    </tr>\n",
       "    <tr>\n",
       "      <th>1</th>\n",
       "      <td>0</td>\n",
       "      <td>A060001002</td>\n",
       "      <td>1</td>\n",
       "      <td>7225</td>\n",
       "      <td>060001</td>\n",
       "      <td>6</td>\n",
       "      <td>1</td>\n",
       "      <td>2</td>\n",
       "      <td>0.083333</td>\n",
       "      <td>7</td>\n",
       "      <td>2020</td>\n",
       "      <td>1</td>\n",
       "      <td>3</td>\n",
       "      <td>24</td>\n",
       "      <td>0</td>\n",
       "      <td>1</td>\n",
       "      <td>1</td>\n",
       "      <td>0.000000</td>\n",
       "      <td>3.0</td>\n",
       "      <td>1.5</td>\n",
       "      <td>0.000000</td>\n",
       "      <td>0.00</td>\n",
       "      <td>0.0</td>\n",
       "      <td>38.262057</td>\n",
       "      <td>13.660000</td>\n",
       "      <td>18.804632</td>\n",
       "      <td>66.971222</td>\n",
       "      <td>37.934893</td>\n",
       "      <td>73.232491</td>\n",
       "      <td>28.919573</td>\n",
       "      <td>0</td>\n",
       "      <td>11.363636</td>\n",
       "      <td>83.125000</td>\n",
       "      <td>1</td>\n",
       "      <td>1</td>\n",
       "      <td>1.000000</td>\n",
       "      <td>0</td>\n",
       "      <td>0</td>\n",
       "      <td>0.0</td>\n",
       "      <td>1</td>\n",
       "      <td>1</td>\n",
       "      <td>1.00</td>\n",
       "      <td>1</td>\n",
       "      <td>1</td>\n",
       "      <td>1.00</td>\n",
       "      <td>1</td>\n",
       "      <td>1</td>\n",
       "      <td>1.00</td>\n",
       "      <td>0</td>\n",
       "      <td>0</td>\n",
       "      <td>0.0</td>\n",
       "      <td>0</td>\n",
       "      <td>0</td>\n",
       "      <td>0.00</td>\n",
       "      <td>242</td>\n",
       "      <td>250</td>\n",
       "      <td>0.968000</td>\n",
       "      <td>1429</td>\n",
       "      <td>1500</td>\n",
       "      <td>0.952667</td>\n",
       "      <td>210971</td>\n",
       "      <td>296350</td>\n",
       "      <td>0.711898</td>\n",
       "      <td>11867</td>\n",
       "      <td>16750</td>\n",
       "      <td>0.708478</td>\n",
       "      <td>297842</td>\n",
       "      <td>413500</td>\n",
       "      <td>0.720295</td>\n",
       "      <td>3439</td>\n",
       "      <td>3750</td>\n",
       "      <td>0.917067</td>\n",
       "      <td>0</td>\n",
       "      <td>0</td>\n",
       "      <td>1</td>\n",
       "      <td>1</td>\n",
       "      <td>1</td>\n",
       "      <td>1</td>\n",
       "      <td>0</td>\n",
       "      <td>0.032000</td>\n",
       "      <td>1</td>\n",
       "      <td>0.984000</td>\n",
       "      <td>0.016000</td>\n",
       "      <td>1</td>\n",
       "      <td>1.000000</td>\n",
       "      <td>1.000000</td>\n",
       "      <td>1</td>\n",
       "      <td>1.000000</td>\n",
       "      <td>1.000000</td>\n",
       "      <td>1</td>\n",
       "      <td>1.000000</td>\n",
       "      <td>1.000000</td>\n",
       "      <td>1</td>\n",
       "      <td>1.0</td>\n",
       "      <td>1.0</td>\n",
       "      <td>0.578202</td>\n",
       "      <td>-3.003042</td>\n",
       "    </tr>\n",
       "    <tr>\n",
       "      <th>2</th>\n",
       "      <td>0</td>\n",
       "      <td>A060001003</td>\n",
       "      <td>1</td>\n",
       "      <td>7225</td>\n",
       "      <td>060001</td>\n",
       "      <td>6</td>\n",
       "      <td>1</td>\n",
       "      <td>3</td>\n",
       "      <td>0.166667</td>\n",
       "      <td>7</td>\n",
       "      <td>2020</td>\n",
       "      <td>1</td>\n",
       "      <td>3</td>\n",
       "      <td>24</td>\n",
       "      <td>0</td>\n",
       "      <td>1</td>\n",
       "      <td>1</td>\n",
       "      <td>0.000000</td>\n",
       "      <td>8.0</td>\n",
       "      <td>5.5</td>\n",
       "      <td>3.666667</td>\n",
       "      <td>0.00</td>\n",
       "      <td>0.0</td>\n",
       "      <td>38.262057</td>\n",
       "      <td>26.112000</td>\n",
       "      <td>18.804632</td>\n",
       "      <td>66.971222</td>\n",
       "      <td>37.934893</td>\n",
       "      <td>73.933021</td>\n",
       "      <td>28.919573</td>\n",
       "      <td>0</td>\n",
       "      <td>24.637555</td>\n",
       "      <td>42.190476</td>\n",
       "      <td>2</td>\n",
       "      <td>2</td>\n",
       "      <td>1.000000</td>\n",
       "      <td>0</td>\n",
       "      <td>0</td>\n",
       "      <td>0.0</td>\n",
       "      <td>2</td>\n",
       "      <td>2</td>\n",
       "      <td>1.00</td>\n",
       "      <td>2</td>\n",
       "      <td>2</td>\n",
       "      <td>1.00</td>\n",
       "      <td>2</td>\n",
       "      <td>2</td>\n",
       "      <td>1.00</td>\n",
       "      <td>0</td>\n",
       "      <td>0</td>\n",
       "      <td>0.0</td>\n",
       "      <td>1</td>\n",
       "      <td>1</td>\n",
       "      <td>1.00</td>\n",
       "      <td>229</td>\n",
       "      <td>250</td>\n",
       "      <td>0.916000</td>\n",
       "      <td>1429</td>\n",
       "      <td>1500</td>\n",
       "      <td>0.952667</td>\n",
       "      <td>210971</td>\n",
       "      <td>296350</td>\n",
       "      <td>0.711898</td>\n",
       "      <td>11867</td>\n",
       "      <td>16750</td>\n",
       "      <td>0.708478</td>\n",
       "      <td>285143</td>\n",
       "      <td>414250</td>\n",
       "      <td>0.688336</td>\n",
       "      <td>3439</td>\n",
       "      <td>3750</td>\n",
       "      <td>0.917067</td>\n",
       "      <td>0</td>\n",
       "      <td>0</td>\n",
       "      <td>1</td>\n",
       "      <td>1</td>\n",
       "      <td>1</td>\n",
       "      <td>1</td>\n",
       "      <td>0</td>\n",
       "      <td>0.084000</td>\n",
       "      <td>1</td>\n",
       "      <td>0.968000</td>\n",
       "      <td>0.032000</td>\n",
       "      <td>1</td>\n",
       "      <td>0.984000</td>\n",
       "      <td>0.016000</td>\n",
       "      <td>1</td>\n",
       "      <td>1.000000</td>\n",
       "      <td>1.000000</td>\n",
       "      <td>1</td>\n",
       "      <td>1.000000</td>\n",
       "      <td>1.000000</td>\n",
       "      <td>1</td>\n",
       "      <td>1.0</td>\n",
       "      <td>1.0</td>\n",
       "      <td>0.578202</td>\n",
       "      <td>-2.298332</td>\n",
       "    </tr>\n",
       "    <tr>\n",
       "      <th>3</th>\n",
       "      <td>0</td>\n",
       "      <td>A060001004</td>\n",
       "      <td>1</td>\n",
       "      <td>7225</td>\n",
       "      <td>060001</td>\n",
       "      <td>6</td>\n",
       "      <td>1</td>\n",
       "      <td>4</td>\n",
       "      <td>0.250000</td>\n",
       "      <td>7</td>\n",
       "      <td>2020</td>\n",
       "      <td>1</td>\n",
       "      <td>3</td>\n",
       "      <td>24</td>\n",
       "      <td>0</td>\n",
       "      <td>1</td>\n",
       "      <td>1</td>\n",
       "      <td>0.000000</td>\n",
       "      <td>7.0</td>\n",
       "      <td>7.5</td>\n",
       "      <td>6.000000</td>\n",
       "      <td>4.50</td>\n",
       "      <td>0.0</td>\n",
       "      <td>38.262057</td>\n",
       "      <td>19.180000</td>\n",
       "      <td>18.804632</td>\n",
       "      <td>66.971222</td>\n",
       "      <td>37.934893</td>\n",
       "      <td>70.596414</td>\n",
       "      <td>28.919573</td>\n",
       "      <td>0</td>\n",
       "      <td>19.572016</td>\n",
       "      <td>5.571429</td>\n",
       "      <td>3</td>\n",
       "      <td>3</td>\n",
       "      <td>1.000000</td>\n",
       "      <td>0</td>\n",
       "      <td>0</td>\n",
       "      <td>0.0</td>\n",
       "      <td>3</td>\n",
       "      <td>3</td>\n",
       "      <td>1.00</td>\n",
       "      <td>3</td>\n",
       "      <td>3</td>\n",
       "      <td>1.00</td>\n",
       "      <td>3</td>\n",
       "      <td>3</td>\n",
       "      <td>1.00</td>\n",
       "      <td>0</td>\n",
       "      <td>0</td>\n",
       "      <td>0.0</td>\n",
       "      <td>2</td>\n",
       "      <td>2</td>\n",
       "      <td>1.00</td>\n",
       "      <td>243</td>\n",
       "      <td>250</td>\n",
       "      <td>0.972000</td>\n",
       "      <td>1429</td>\n",
       "      <td>1500</td>\n",
       "      <td>0.952667</td>\n",
       "      <td>210971</td>\n",
       "      <td>296350</td>\n",
       "      <td>0.711898</td>\n",
       "      <td>11867</td>\n",
       "      <td>16750</td>\n",
       "      <td>0.708478</td>\n",
       "      <td>273382</td>\n",
       "      <td>412050</td>\n",
       "      <td>0.663468</td>\n",
       "      <td>3439</td>\n",
       "      <td>3750</td>\n",
       "      <td>0.917067</td>\n",
       "      <td>0</td>\n",
       "      <td>0</td>\n",
       "      <td>1</td>\n",
       "      <td>1</td>\n",
       "      <td>1</td>\n",
       "      <td>1</td>\n",
       "      <td>0</td>\n",
       "      <td>0.028000</td>\n",
       "      <td>1</td>\n",
       "      <td>0.916000</td>\n",
       "      <td>0.084000</td>\n",
       "      <td>1</td>\n",
       "      <td>0.968000</td>\n",
       "      <td>0.032000</td>\n",
       "      <td>1</td>\n",
       "      <td>0.984000</td>\n",
       "      <td>0.016000</td>\n",
       "      <td>1</td>\n",
       "      <td>1.000000</td>\n",
       "      <td>1.000000</td>\n",
       "      <td>1</td>\n",
       "      <td>1.0</td>\n",
       "      <td>1.0</td>\n",
       "      <td>0.578202</td>\n",
       "      <td>-3.064188</td>\n",
       "    </tr>\n",
       "    <tr>\n",
       "      <th>4</th>\n",
       "      <td>0</td>\n",
       "      <td>A060001005</td>\n",
       "      <td>1</td>\n",
       "      <td>7225</td>\n",
       "      <td>060001</td>\n",
       "      <td>6</td>\n",
       "      <td>1</td>\n",
       "      <td>5</td>\n",
       "      <td>0.333333</td>\n",
       "      <td>7</td>\n",
       "      <td>2020</td>\n",
       "      <td>1</td>\n",
       "      <td>3</td>\n",
       "      <td>24</td>\n",
       "      <td>0</td>\n",
       "      <td>1</td>\n",
       "      <td>1</td>\n",
       "      <td>0.000000</td>\n",
       "      <td>7.0</td>\n",
       "      <td>7.0</td>\n",
       "      <td>7.333333</td>\n",
       "      <td>6.25</td>\n",
       "      <td>5.0</td>\n",
       "      <td>38.262057</td>\n",
       "      <td>18.076000</td>\n",
       "      <td>18.804632</td>\n",
       "      <td>66.971222</td>\n",
       "      <td>37.934893</td>\n",
       "      <td>69.928460</td>\n",
       "      <td>28.919573</td>\n",
       "      <td>0</td>\n",
       "      <td>18.569620</td>\n",
       "      <td>9.076923</td>\n",
       "      <td>4</td>\n",
       "      <td>4</td>\n",
       "      <td>1.000000</td>\n",
       "      <td>0</td>\n",
       "      <td>0</td>\n",
       "      <td>0.0</td>\n",
       "      <td>4</td>\n",
       "      <td>4</td>\n",
       "      <td>1.00</td>\n",
       "      <td>4</td>\n",
       "      <td>4</td>\n",
       "      <td>1.00</td>\n",
       "      <td>4</td>\n",
       "      <td>4</td>\n",
       "      <td>1.00</td>\n",
       "      <td>0</td>\n",
       "      <td>0</td>\n",
       "      <td>0.0</td>\n",
       "      <td>3</td>\n",
       "      <td>3</td>\n",
       "      <td>1.00</td>\n",
       "      <td>237</td>\n",
       "      <td>250</td>\n",
       "      <td>0.948000</td>\n",
       "      <td>1429</td>\n",
       "      <td>1500</td>\n",
       "      <td>0.952667</td>\n",
       "      <td>210971</td>\n",
       "      <td>296350</td>\n",
       "      <td>0.711898</td>\n",
       "      <td>11867</td>\n",
       "      <td>16750</td>\n",
       "      <td>0.708478</td>\n",
       "      <td>240452</td>\n",
       "      <td>401900</td>\n",
       "      <td>0.598288</td>\n",
       "      <td>3439</td>\n",
       "      <td>3750</td>\n",
       "      <td>0.917067</td>\n",
       "      <td>0</td>\n",
       "      <td>0</td>\n",
       "      <td>1</td>\n",
       "      <td>1</td>\n",
       "      <td>1</td>\n",
       "      <td>1</td>\n",
       "      <td>0</td>\n",
       "      <td>0.052000</td>\n",
       "      <td>1</td>\n",
       "      <td>0.972000</td>\n",
       "      <td>0.028000</td>\n",
       "      <td>1</td>\n",
       "      <td>0.916000</td>\n",
       "      <td>0.084000</td>\n",
       "      <td>1</td>\n",
       "      <td>0.968000</td>\n",
       "      <td>0.032000</td>\n",
       "      <td>1</td>\n",
       "      <td>0.984000</td>\n",
       "      <td>0.016000</td>\n",
       "      <td>1</td>\n",
       "      <td>1.0</td>\n",
       "      <td>1.0</td>\n",
       "      <td>0.578202</td>\n",
       "      <td>-2.647697</td>\n",
       "    </tr>\n",
       "    <tr>\n",
       "      <th>...</th>\n",
       "      <td>...</td>\n",
       "      <td>...</td>\n",
       "      <td>...</td>\n",
       "      <td>...</td>\n",
       "      <td>...</td>\n",
       "      <td>...</td>\n",
       "      <td>...</td>\n",
       "      <td>...</td>\n",
       "      <td>...</td>\n",
       "      <td>...</td>\n",
       "      <td>...</td>\n",
       "      <td>...</td>\n",
       "      <td>...</td>\n",
       "      <td>...</td>\n",
       "      <td>...</td>\n",
       "      <td>...</td>\n",
       "      <td>...</td>\n",
       "      <td>...</td>\n",
       "      <td>...</td>\n",
       "      <td>...</td>\n",
       "      <td>...</td>\n",
       "      <td>...</td>\n",
       "      <td>...</td>\n",
       "      <td>...</td>\n",
       "      <td>...</td>\n",
       "      <td>...</td>\n",
       "      <td>...</td>\n",
       "      <td>...</td>\n",
       "      <td>...</td>\n",
       "      <td>...</td>\n",
       "      <td>...</td>\n",
       "      <td>...</td>\n",
       "      <td>...</td>\n",
       "      <td>...</td>\n",
       "      <td>...</td>\n",
       "      <td>...</td>\n",
       "      <td>...</td>\n",
       "      <td>...</td>\n",
       "      <td>...</td>\n",
       "      <td>...</td>\n",
       "      <td>...</td>\n",
       "      <td>...</td>\n",
       "      <td>...</td>\n",
       "      <td>...</td>\n",
       "      <td>...</td>\n",
       "      <td>...</td>\n",
       "      <td>...</td>\n",
       "      <td>...</td>\n",
       "      <td>...</td>\n",
       "      <td>...</td>\n",
       "      <td>...</td>\n",
       "      <td>...</td>\n",
       "      <td>...</td>\n",
       "      <td>...</td>\n",
       "      <td>...</td>\n",
       "      <td>...</td>\n",
       "      <td>...</td>\n",
       "      <td>...</td>\n",
       "      <td>...</td>\n",
       "      <td>...</td>\n",
       "      <td>...</td>\n",
       "      <td>...</td>\n",
       "      <td>...</td>\n",
       "      <td>...</td>\n",
       "      <td>...</td>\n",
       "      <td>...</td>\n",
       "      <td>...</td>\n",
       "      <td>...</td>\n",
       "      <td>...</td>\n",
       "      <td>...</td>\n",
       "      <td>...</td>\n",
       "      <td>...</td>\n",
       "      <td>...</td>\n",
       "      <td>...</td>\n",
       "      <td>...</td>\n",
       "      <td>...</td>\n",
       "      <td>...</td>\n",
       "      <td>...</td>\n",
       "      <td>...</td>\n",
       "      <td>...</td>\n",
       "      <td>...</td>\n",
       "      <td>...</td>\n",
       "      <td>...</td>\n",
       "      <td>...</td>\n",
       "      <td>...</td>\n",
       "      <td>...</td>\n",
       "      <td>...</td>\n",
       "      <td>...</td>\n",
       "      <td>...</td>\n",
       "      <td>...</td>\n",
       "      <td>...</td>\n",
       "      <td>...</td>\n",
       "      <td>...</td>\n",
       "      <td>...</td>\n",
       "      <td>...</td>\n",
       "      <td>...</td>\n",
       "      <td>...</td>\n",
       "    </tr>\n",
       "    <tr>\n",
       "      <th>2526695</th>\n",
       "      <td>7441</td>\n",
       "      <td>A030071005</td>\n",
       "      <td>0</td>\n",
       "      <td>438</td>\n",
       "      <td>030071</td>\n",
       "      <td>3</td>\n",
       "      <td>71</td>\n",
       "      <td>5</td>\n",
       "      <td>0.333333</td>\n",
       "      <td>5</td>\n",
       "      <td>2020</td>\n",
       "      <td>2</td>\n",
       "      <td>6</td>\n",
       "      <td>5</td>\n",
       "      <td>6</td>\n",
       "      <td>4</td>\n",
       "      <td>1</td>\n",
       "      <td>0.000000</td>\n",
       "      <td>24.0</td>\n",
       "      <td>29.0</td>\n",
       "      <td>32.666667</td>\n",
       "      <td>55.00</td>\n",
       "      <td>44.0</td>\n",
       "      <td>38.888889</td>\n",
       "      <td>85.426428</td>\n",
       "      <td>54.101852</td>\n",
       "      <td>60.348466</td>\n",
       "      <td>50.247548</td>\n",
       "      <td>69.928460</td>\n",
       "      <td>54.958278</td>\n",
       "      <td>1</td>\n",
       "      <td>110.552239</td>\n",
       "      <td>65.144147</td>\n",
       "      <td>1</td>\n",
       "      <td>4</td>\n",
       "      <td>0.250000</td>\n",
       "      <td>0</td>\n",
       "      <td>0</td>\n",
       "      <td>0.0</td>\n",
       "      <td>1</td>\n",
       "      <td>4</td>\n",
       "      <td>0.25</td>\n",
       "      <td>1</td>\n",
       "      <td>4</td>\n",
       "      <td>0.25</td>\n",
       "      <td>1</td>\n",
       "      <td>4</td>\n",
       "      <td>0.25</td>\n",
       "      <td>0</td>\n",
       "      <td>0</td>\n",
       "      <td>0.0</td>\n",
       "      <td>1</td>\n",
       "      <td>4</td>\n",
       "      <td>0.25</td>\n",
       "      <td>134</td>\n",
       "      <td>300</td>\n",
       "      <td>0.446667</td>\n",
       "      <td>999</td>\n",
       "      <td>1500</td>\n",
       "      <td>0.666000</td>\n",
       "      <td>212941</td>\n",
       "      <td>303450</td>\n",
       "      <td>0.701733</td>\n",
       "      <td>9783</td>\n",
       "      <td>15250</td>\n",
       "      <td>0.641508</td>\n",
       "      <td>240452</td>\n",
       "      <td>401900</td>\n",
       "      <td>0.598288</td>\n",
       "      <td>3127</td>\n",
       "      <td>4500</td>\n",
       "      <td>0.694889</td>\n",
       "      <td>1</td>\n",
       "      <td>0</td>\n",
       "      <td>1</td>\n",
       "      <td>1</td>\n",
       "      <td>1</td>\n",
       "      <td>1</td>\n",
       "      <td>0</td>\n",
       "      <td>-0.446667</td>\n",
       "      <td>0</td>\n",
       "      <td>0.593333</td>\n",
       "      <td>-0.593333</td>\n",
       "      <td>1</td>\n",
       "      <td>0.843333</td>\n",
       "      <td>0.156667</td>\n",
       "      <td>0</td>\n",
       "      <td>0.870000</td>\n",
       "      <td>-0.870000</td>\n",
       "      <td>0</td>\n",
       "      <td>0.576667</td>\n",
       "      <td>-0.576667</td>\n",
       "      <td>1</td>\n",
       "      <td>1.0</td>\n",
       "      <td>1.0</td>\n",
       "      <td>0.152849</td>\n",
       "      <td>1.028286</td>\n",
       "    </tr>\n",
       "    <tr>\n",
       "      <th>2526696</th>\n",
       "      <td>7441</td>\n",
       "      <td>A040165001</td>\n",
       "      <td>1</td>\n",
       "      <td>8836</td>\n",
       "      <td>040165</td>\n",
       "      <td>4</td>\n",
       "      <td>165</td>\n",
       "      <td>1</td>\n",
       "      <td>0.000000</td>\n",
       "      <td>4</td>\n",
       "      <td>2020</td>\n",
       "      <td>3</td>\n",
       "      <td>8</td>\n",
       "      <td>21</td>\n",
       "      <td>1</td>\n",
       "      <td>4</td>\n",
       "      <td>1</td>\n",
       "      <td>110.539963</td>\n",
       "      <td>0.0</td>\n",
       "      <td>12.0</td>\n",
       "      <td>19.333333</td>\n",
       "      <td>24.50</td>\n",
       "      <td>44.0</td>\n",
       "      <td>38.888889</td>\n",
       "      <td>0.706391</td>\n",
       "      <td>48.476262</td>\n",
       "      <td>60.234290</td>\n",
       "      <td>59.901487</td>\n",
       "      <td>3.989678</td>\n",
       "      <td>46.705633</td>\n",
       "      <td>0</td>\n",
       "      <td>0.144703</td>\n",
       "      <td>1.719530</td>\n",
       "      <td>1</td>\n",
       "      <td>5</td>\n",
       "      <td>0.200000</td>\n",
       "      <td>0</td>\n",
       "      <td>0</td>\n",
       "      <td>0.0</td>\n",
       "      <td>0</td>\n",
       "      <td>0</td>\n",
       "      <td>0.00</td>\n",
       "      <td>0</td>\n",
       "      <td>0</td>\n",
       "      <td>0.00</td>\n",
       "      <td>0</td>\n",
       "      <td>0</td>\n",
       "      <td>0.00</td>\n",
       "      <td>0</td>\n",
       "      <td>1</td>\n",
       "      <td>0.0</td>\n",
       "      <td>0</td>\n",
       "      <td>0</td>\n",
       "      <td>0.00</td>\n",
       "      <td>193</td>\n",
       "      <td>300</td>\n",
       "      <td>0.643333</td>\n",
       "      <td>783</td>\n",
       "      <td>1200</td>\n",
       "      <td>0.652500</td>\n",
       "      <td>204254</td>\n",
       "      <td>300500</td>\n",
       "      <td>0.679714</td>\n",
       "      <td>5943</td>\n",
       "      <td>8400</td>\n",
       "      <td>0.707500</td>\n",
       "      <td>310634</td>\n",
       "      <td>414350</td>\n",
       "      <td>0.749690</td>\n",
       "      <td>2410</td>\n",
       "      <td>3450</td>\n",
       "      <td>0.698551</td>\n",
       "      <td>1</td>\n",
       "      <td>0</td>\n",
       "      <td>1</td>\n",
       "      <td>0</td>\n",
       "      <td>1</td>\n",
       "      <td>1</td>\n",
       "      <td>0</td>\n",
       "      <td>0.356667</td>\n",
       "      <td>1</td>\n",
       "      <td>1.000000</td>\n",
       "      <td>1.000000</td>\n",
       "      <td>1</td>\n",
       "      <td>1.000000</td>\n",
       "      <td>1.000000</td>\n",
       "      <td>1</td>\n",
       "      <td>1.000000</td>\n",
       "      <td>1.000000</td>\n",
       "      <td>1</td>\n",
       "      <td>1.000000</td>\n",
       "      <td>1.000000</td>\n",
       "      <td>1</td>\n",
       "      <td>1.0</td>\n",
       "      <td>1.0</td>\n",
       "      <td>0.152849</td>\n",
       "      <td>0.411999</td>\n",
       "    </tr>\n",
       "    <tr>\n",
       "      <th>2526697</th>\n",
       "      <td>7441</td>\n",
       "      <td>A040165002</td>\n",
       "      <td>1</td>\n",
       "      <td>8836</td>\n",
       "      <td>040165</td>\n",
       "      <td>4</td>\n",
       "      <td>165</td>\n",
       "      <td>2</td>\n",
       "      <td>0.083333</td>\n",
       "      <td>4</td>\n",
       "      <td>2020</td>\n",
       "      <td>3</td>\n",
       "      <td>8</td>\n",
       "      <td>21</td>\n",
       "      <td>1</td>\n",
       "      <td>4</td>\n",
       "      <td>1</td>\n",
       "      <td>110.539963</td>\n",
       "      <td>11.0</td>\n",
       "      <td>5.5</td>\n",
       "      <td>11.666667</td>\n",
       "      <td>17.25</td>\n",
       "      <td>21.8</td>\n",
       "      <td>38.888889</td>\n",
       "      <td>46.220000</td>\n",
       "      <td>48.476262</td>\n",
       "      <td>60.234290</td>\n",
       "      <td>59.901487</td>\n",
       "      <td>73.232491</td>\n",
       "      <td>46.705633</td>\n",
       "      <td>1</td>\n",
       "      <td>43.744792</td>\n",
       "      <td>50.620370</td>\n",
       "      <td>2</td>\n",
       "      <td>6</td>\n",
       "      <td>0.333333</td>\n",
       "      <td>0</td>\n",
       "      <td>0</td>\n",
       "      <td>0.0</td>\n",
       "      <td>1</td>\n",
       "      <td>1</td>\n",
       "      <td>1.00</td>\n",
       "      <td>1</td>\n",
       "      <td>1</td>\n",
       "      <td>1.00</td>\n",
       "      <td>1</td>\n",
       "      <td>1</td>\n",
       "      <td>1.00</td>\n",
       "      <td>0</td>\n",
       "      <td>1</td>\n",
       "      <td>0.0</td>\n",
       "      <td>1</td>\n",
       "      <td>1</td>\n",
       "      <td>1.00</td>\n",
       "      <td>192</td>\n",
       "      <td>300</td>\n",
       "      <td>0.640000</td>\n",
       "      <td>783</td>\n",
       "      <td>1200</td>\n",
       "      <td>0.652500</td>\n",
       "      <td>204254</td>\n",
       "      <td>300500</td>\n",
       "      <td>0.679714</td>\n",
       "      <td>5943</td>\n",
       "      <td>8400</td>\n",
       "      <td>0.707500</td>\n",
       "      <td>297842</td>\n",
       "      <td>413500</td>\n",
       "      <td>0.720295</td>\n",
       "      <td>2410</td>\n",
       "      <td>3450</td>\n",
       "      <td>0.698551</td>\n",
       "      <td>1</td>\n",
       "      <td>0</td>\n",
       "      <td>1</td>\n",
       "      <td>0</td>\n",
       "      <td>1</td>\n",
       "      <td>1</td>\n",
       "      <td>0</td>\n",
       "      <td>0.360000</td>\n",
       "      <td>1</td>\n",
       "      <td>0.643333</td>\n",
       "      <td>0.356667</td>\n",
       "      <td>1</td>\n",
       "      <td>1.000000</td>\n",
       "      <td>1.000000</td>\n",
       "      <td>1</td>\n",
       "      <td>1.000000</td>\n",
       "      <td>1.000000</td>\n",
       "      <td>1</td>\n",
       "      <td>1.000000</td>\n",
       "      <td>1.000000</td>\n",
       "      <td>1</td>\n",
       "      <td>1.0</td>\n",
       "      <td>1.0</td>\n",
       "      <td>0.152849</td>\n",
       "      <td>-1.192515</td>\n",
       "    </tr>\n",
       "    <tr>\n",
       "      <th>2526698</th>\n",
       "      <td>7441</td>\n",
       "      <td>A040165003</td>\n",
       "      <td>1</td>\n",
       "      <td>8836</td>\n",
       "      <td>040165</td>\n",
       "      <td>4</td>\n",
       "      <td>165</td>\n",
       "      <td>3</td>\n",
       "      <td>0.166667</td>\n",
       "      <td>4</td>\n",
       "      <td>2020</td>\n",
       "      <td>3</td>\n",
       "      <td>8</td>\n",
       "      <td>21</td>\n",
       "      <td>1</td>\n",
       "      <td>4</td>\n",
       "      <td>1</td>\n",
       "      <td>110.539963</td>\n",
       "      <td>46.0</td>\n",
       "      <td>28.5</td>\n",
       "      <td>19.000000</td>\n",
       "      <td>20.25</td>\n",
       "      <td>23.0</td>\n",
       "      <td>38.888889</td>\n",
       "      <td>34.720000</td>\n",
       "      <td>48.476262</td>\n",
       "      <td>60.234290</td>\n",
       "      <td>59.901487</td>\n",
       "      <td>73.933021</td>\n",
       "      <td>46.705633</td>\n",
       "      <td>1</td>\n",
       "      <td>35.144068</td>\n",
       "      <td>33.156250</td>\n",
       "      <td>3</td>\n",
       "      <td>7</td>\n",
       "      <td>0.428571</td>\n",
       "      <td>0</td>\n",
       "      <td>0</td>\n",
       "      <td>0.0</td>\n",
       "      <td>2</td>\n",
       "      <td>2</td>\n",
       "      <td>1.00</td>\n",
       "      <td>2</td>\n",
       "      <td>2</td>\n",
       "      <td>1.00</td>\n",
       "      <td>2</td>\n",
       "      <td>2</td>\n",
       "      <td>1.00</td>\n",
       "      <td>1</td>\n",
       "      <td>1</td>\n",
       "      <td>1.0</td>\n",
       "      <td>2</td>\n",
       "      <td>2</td>\n",
       "      <td>1.00</td>\n",
       "      <td>236</td>\n",
       "      <td>300</td>\n",
       "      <td>0.786667</td>\n",
       "      <td>783</td>\n",
       "      <td>1200</td>\n",
       "      <td>0.652500</td>\n",
       "      <td>204254</td>\n",
       "      <td>300500</td>\n",
       "      <td>0.679714</td>\n",
       "      <td>5943</td>\n",
       "      <td>8400</td>\n",
       "      <td>0.707500</td>\n",
       "      <td>285143</td>\n",
       "      <td>414250</td>\n",
       "      <td>0.688336</td>\n",
       "      <td>2410</td>\n",
       "      <td>3450</td>\n",
       "      <td>0.698551</td>\n",
       "      <td>1</td>\n",
       "      <td>0</td>\n",
       "      <td>1</td>\n",
       "      <td>0</td>\n",
       "      <td>1</td>\n",
       "      <td>1</td>\n",
       "      <td>0</td>\n",
       "      <td>0.213333</td>\n",
       "      <td>1</td>\n",
       "      <td>0.640000</td>\n",
       "      <td>0.360000</td>\n",
       "      <td>1</td>\n",
       "      <td>0.643333</td>\n",
       "      <td>0.356667</td>\n",
       "      <td>1</td>\n",
       "      <td>1.000000</td>\n",
       "      <td>1.000000</td>\n",
       "      <td>1</td>\n",
       "      <td>1.000000</td>\n",
       "      <td>1.000000</td>\n",
       "      <td>1</td>\n",
       "      <td>1.0</td>\n",
       "      <td>1.0</td>\n",
       "      <td>0.152849</td>\n",
       "      <td>-1.313112</td>\n",
       "    </tr>\n",
       "    <tr>\n",
       "      <th>2526699</th>\n",
       "      <td>7441</td>\n",
       "      <td>A040165004</td>\n",
       "      <td>1</td>\n",
       "      <td>8836</td>\n",
       "      <td>040165</td>\n",
       "      <td>4</td>\n",
       "      <td>165</td>\n",
       "      <td>4</td>\n",
       "      <td>0.250000</td>\n",
       "      <td>4</td>\n",
       "      <td>2020</td>\n",
       "      <td>3</td>\n",
       "      <td>8</td>\n",
       "      <td>21</td>\n",
       "      <td>1</td>\n",
       "      <td>4</td>\n",
       "      <td>1</td>\n",
       "      <td>110.539963</td>\n",
       "      <td>73.0</td>\n",
       "      <td>59.5</td>\n",
       "      <td>43.333333</td>\n",
       "      <td>32.50</td>\n",
       "      <td>30.8</td>\n",
       "      <td>38.888889</td>\n",
       "      <td>112.258655</td>\n",
       "      <td>48.476262</td>\n",
       "      <td>60.234290</td>\n",
       "      <td>59.901487</td>\n",
       "      <td>70.596414</td>\n",
       "      <td>46.705633</td>\n",
       "      <td>1</td>\n",
       "      <td>113.687117</td>\n",
       "      <td>110.651444</td>\n",
       "      <td>4</td>\n",
       "      <td>8</td>\n",
       "      <td>0.500000</td>\n",
       "      <td>0</td>\n",
       "      <td>0</td>\n",
       "      <td>0.0</td>\n",
       "      <td>3</td>\n",
       "      <td>3</td>\n",
       "      <td>1.00</td>\n",
       "      <td>3</td>\n",
       "      <td>3</td>\n",
       "      <td>1.00</td>\n",
       "      <td>3</td>\n",
       "      <td>3</td>\n",
       "      <td>1.00</td>\n",
       "      <td>0</td>\n",
       "      <td>1</td>\n",
       "      <td>0.0</td>\n",
       "      <td>3</td>\n",
       "      <td>3</td>\n",
       "      <td>1.00</td>\n",
       "      <td>162</td>\n",
       "      <td>300</td>\n",
       "      <td>0.540000</td>\n",
       "      <td>783</td>\n",
       "      <td>1200</td>\n",
       "      <td>0.652500</td>\n",
       "      <td>204254</td>\n",
       "      <td>300500</td>\n",
       "      <td>0.679714</td>\n",
       "      <td>5943</td>\n",
       "      <td>8400</td>\n",
       "      <td>0.707500</td>\n",
       "      <td>273382</td>\n",
       "      <td>412050</td>\n",
       "      <td>0.663468</td>\n",
       "      <td>2410</td>\n",
       "      <td>3450</td>\n",
       "      <td>0.698551</td>\n",
       "      <td>1</td>\n",
       "      <td>0</td>\n",
       "      <td>1</td>\n",
       "      <td>0</td>\n",
       "      <td>1</td>\n",
       "      <td>1</td>\n",
       "      <td>0</td>\n",
       "      <td>0.460000</td>\n",
       "      <td>1</td>\n",
       "      <td>0.786667</td>\n",
       "      <td>0.213333</td>\n",
       "      <td>1</td>\n",
       "      <td>0.640000</td>\n",
       "      <td>0.360000</td>\n",
       "      <td>1</td>\n",
       "      <td>0.643333</td>\n",
       "      <td>0.356667</td>\n",
       "      <td>1</td>\n",
       "      <td>1.000000</td>\n",
       "      <td>1.000000</td>\n",
       "      <td>1</td>\n",
       "      <td>1.0</td>\n",
       "      <td>1.0</td>\n",
       "      <td>0.152849</td>\n",
       "      <td>0.118106</td>\n",
       "    </tr>\n",
       "  </tbody>\n",
       "</table>\n",
       "<p>2526700 rows × 97 columns</p>\n",
       "</div>"
      ],
      "text/plain": [
       "         userID assessmentItemID  answerCode  KnowledgeTag  testID  testCode  \\\n",
       "0             0       A060001001           1          7224  060001         6   \n",
       "1             0       A060001002           1          7225  060001         6   \n",
       "2             0       A060001003           1          7225  060001         6   \n",
       "3             0       A060001004           1          7225  060001         6   \n",
       "4             0       A060001005           1          7225  060001         6   \n",
       "...         ...              ...         ...           ...     ...       ...   \n",
       "2526695    7441       A030071005           0           438  030071         3   \n",
       "2526696    7441       A040165001           1          8836  040165         4   \n",
       "2526697    7441       A040165002           1          8836  040165         4   \n",
       "2526698    7441       A040165003           1          8836  040165         4   \n",
       "2526699    7441       A040165004           1          8836  040165         4   \n",
       "\n",
       "         testNum  problemID  problemID_Norm  total_problem  year  quarter  \\\n",
       "0              1          1        0.000000              7  2020        1   \n",
       "1              1          2        0.083333              7  2020        1   \n",
       "2              1          3        0.166667              7  2020        1   \n",
       "3              1          4        0.250000              7  2020        1   \n",
       "4              1          5        0.333333              7  2020        1   \n",
       "...          ...        ...             ...            ...   ...      ...   \n",
       "2526695       71          5        0.333333              5  2020        2   \n",
       "2526696      165          1        0.000000              4  2020        3   \n",
       "2526697      165          2        0.083333              4  2020        3   \n",
       "2526698      165          3        0.166667              4  2020        3   \n",
       "2526699      165          4        0.250000              4  2020        3   \n",
       "\n",
       "         month  day  hour  dow  weekday     LagTime  ElapsedTime  \\\n",
       "0            3   24     0    1        1    0.000000          0.0   \n",
       "1            3   24     0    1        1    0.000000          3.0   \n",
       "2            3   24     0    1        1    0.000000          8.0   \n",
       "3            3   24     0    1        1    0.000000          7.0   \n",
       "4            3   24     0    1        1    0.000000          7.0   \n",
       "...        ...  ...   ...  ...      ...         ...          ...   \n",
       "2526695      6    5     6    4        1    0.000000         24.0   \n",
       "2526696      8   21     1    4        1  110.539963          0.0   \n",
       "2526697      8   21     1    4        1  110.539963         11.0   \n",
       "2526698      8   21     1    4        1  110.539963         46.0   \n",
       "2526699      8   21     1    4        1  110.539963         73.0   \n",
       "\n",
       "         ElapsedTime_Rolling2  ElapsedTime_Rolling3  ElapsedTime_Rolling4  \\\n",
       "0                         0.0              0.000000                  0.00   \n",
       "1                         1.5              0.000000                  0.00   \n",
       "2                         5.5              3.666667                  0.00   \n",
       "3                         7.5              6.000000                  4.50   \n",
       "4                         7.0              7.333333                  6.25   \n",
       "...                       ...                   ...                   ...   \n",
       "2526695                  29.0             32.666667                 55.00   \n",
       "2526696                  12.0             19.333333                 24.50   \n",
       "2526697                   5.5             11.666667                 17.25   \n",
       "2526698                  28.5             19.000000                 20.25   \n",
       "2526699                  59.5             43.333333                 32.50   \n",
       "\n",
       "         ElapsedTime_Rolling5  user_ElaspedTime_avg  item_ElaspedTime_avg  \\\n",
       "0                         0.0             38.262057              0.079794   \n",
       "1                         0.0             38.262057             13.660000   \n",
       "2                         0.0             38.262057             26.112000   \n",
       "3                         0.0             38.262057             19.180000   \n",
       "4                         5.0             38.262057             18.076000   \n",
       "...                       ...                   ...                   ...   \n",
       "2526695                  44.0             38.888889             85.426428   \n",
       "2526696                  44.0             38.888889              0.706391   \n",
       "2526697                  21.8             38.888889             46.220000   \n",
       "2526698                  23.0             38.888889             34.720000   \n",
       "2526699                  30.8             38.888889            112.258655   \n",
       "\n",
       "         testID_ElaspedTime_avg  testCode_ElaspedTime_avg  \\\n",
       "0                     18.804632                 66.971222   \n",
       "1                     18.804632                 66.971222   \n",
       "2                     18.804632                 66.971222   \n",
       "3                     18.804632                 66.971222   \n",
       "4                     18.804632                 66.971222   \n",
       "...                         ...                       ...   \n",
       "2526695               54.101852                 60.348466   \n",
       "2526696               48.476262                 60.234290   \n",
       "2526697               48.476262                 60.234290   \n",
       "2526698               48.476262                 60.234290   \n",
       "2526699               48.476262                 60.234290   \n",
       "\n",
       "         testNum_ElaspedTime_avg  problemID_ElaspedTime_avg  \\\n",
       "0                      37.934893                   3.989678   \n",
       "1                      37.934893                  73.232491   \n",
       "2                      37.934893                  73.933021   \n",
       "3                      37.934893                  70.596414   \n",
       "4                      37.934893                  69.928460   \n",
       "...                          ...                        ...   \n",
       "2526695                50.247548                  69.928460   \n",
       "2526696                59.901487                   3.989678   \n",
       "2526697                59.901487                  73.232491   \n",
       "2526698                59.901487                  73.933021   \n",
       "2526699                59.901487                  70.596414   \n",
       "\n",
       "         tag_ElaspedTime_avg  Real_Solved  Correct_User_ElapsedTime  \\\n",
       "0                  13.583961            0                  0.081091   \n",
       "1                  28.919573            0                 11.363636   \n",
       "2                  28.919573            0                 24.637555   \n",
       "3                  28.919573            0                 19.572016   \n",
       "4                  28.919573            0                 18.569620   \n",
       "...                      ...          ...                       ...   \n",
       "2526695            54.958278            1                110.552239   \n",
       "2526696            46.705633            0                  0.144703   \n",
       "2526697            46.705633            1                 43.744792   \n",
       "2526698            46.705633            1                 35.144068   \n",
       "2526699            46.705633            1                113.687117   \n",
       "\n",
       "         Wrong_User_ElapsedTime  user_sum  user_cnt  user_acc  \\\n",
       "0                      0.000000         0         0  0.000000   \n",
       "1                     83.125000         1         1  1.000000   \n",
       "2                     42.190476         2         2  1.000000   \n",
       "3                      5.571429         3         3  1.000000   \n",
       "4                      9.076923         4         4  1.000000   \n",
       "...                         ...       ...       ...       ...   \n",
       "2526695               65.144147         1         4  0.250000   \n",
       "2526696                1.719530         1         5  0.200000   \n",
       "2526697               50.620370         2         6  0.333333   \n",
       "2526698               33.156250         3         7  0.428571   \n",
       "2526699              110.651444         4         8  0.500000   \n",
       "\n",
       "         user_itemID_sum  user_itemID_cnt  user_itemID_acc  user_testID_sum  \\\n",
       "0                      0                0              0.0                0   \n",
       "1                      0                0              0.0                1   \n",
       "2                      0                0              0.0                2   \n",
       "3                      0                0              0.0                3   \n",
       "4                      0                0              0.0                4   \n",
       "...                  ...              ...              ...              ...   \n",
       "2526695                0                0              0.0                1   \n",
       "2526696                0                0              0.0                0   \n",
       "2526697                0                0              0.0                1   \n",
       "2526698                0                0              0.0                2   \n",
       "2526699                0                0              0.0                3   \n",
       "\n",
       "         user_testID_cnt  user_testID_acc  user_testCode_sum  \\\n",
       "0                      0             0.00                  0   \n",
       "1                      1             1.00                  1   \n",
       "2                      2             1.00                  2   \n",
       "3                      3             1.00                  3   \n",
       "4                      4             1.00                  4   \n",
       "...                  ...              ...                ...   \n",
       "2526695                4             0.25                  1   \n",
       "2526696                0             0.00                  0   \n",
       "2526697                1             1.00                  1   \n",
       "2526698                2             1.00                  2   \n",
       "2526699                3             1.00                  3   \n",
       "\n",
       "         user_testCode_cnt  user_testCode_acc  user_testNum_sum  \\\n",
       "0                        0               0.00                 0   \n",
       "1                        1               1.00                 1   \n",
       "2                        2               1.00                 2   \n",
       "3                        3               1.00                 3   \n",
       "4                        4               1.00                 4   \n",
       "...                    ...                ...               ...   \n",
       "2526695                  4               0.25                 1   \n",
       "2526696                  0               0.00                 0   \n",
       "2526697                  1               1.00                 1   \n",
       "2526698                  2               1.00                 2   \n",
       "2526699                  3               1.00                 3   \n",
       "\n",
       "         user_testNum_cnt  user_testNum_acc  user_problemID_sum  \\\n",
       "0                       0              0.00                   0   \n",
       "1                       1              1.00                   0   \n",
       "2                       2              1.00                   0   \n",
       "3                       3              1.00                   0   \n",
       "4                       4              1.00                   0   \n",
       "...                   ...               ...                 ...   \n",
       "2526695                 4              0.25                   0   \n",
       "2526696                 0              0.00                   0   \n",
       "2526697                 1              1.00                   0   \n",
       "2526698                 2              1.00                   1   \n",
       "2526699                 3              1.00                   0   \n",
       "\n",
       "         user_problemID_cnt  user_problemID_acc  user_tag_sum  user_tag_cnt  \\\n",
       "0                         0                 0.0             0             0   \n",
       "1                         0                 0.0             0             0   \n",
       "2                         0                 0.0             1             1   \n",
       "3                         0                 0.0             2             2   \n",
       "4                         0                 0.0             3             3   \n",
       "...                     ...                 ...           ...           ...   \n",
       "2526695                   0                 0.0             1             4   \n",
       "2526696                   1                 0.0             0             0   \n",
       "2526697                   1                 0.0             1             1   \n",
       "2526698                   1                 1.0             2             2   \n",
       "2526699                   1                 0.0             3             3   \n",
       "\n",
       "         user_tag_acc  itemID_sum  itemID_cnt  itemID_acc  testID_sum  \\\n",
       "0                0.00         246         250    0.984000        1429   \n",
       "1                0.00         242         250    0.968000        1429   \n",
       "2                1.00         229         250    0.916000        1429   \n",
       "3                1.00         243         250    0.972000        1429   \n",
       "4                1.00         237         250    0.948000        1429   \n",
       "...               ...         ...         ...         ...         ...   \n",
       "2526695          0.25         134         300    0.446667         999   \n",
       "2526696          0.00         193         300    0.643333         783   \n",
       "2526697          1.00         192         300    0.640000         783   \n",
       "2526698          1.00         236         300    0.786667         783   \n",
       "2526699          1.00         162         300    0.540000         783   \n",
       "\n",
       "         testID_cnt  testID_acc  testCode_sum  testCode_cnt  testCode_acc  \\\n",
       "0              1500    0.952667        210971        296350      0.711898   \n",
       "1              1500    0.952667        210971        296350      0.711898   \n",
       "2              1500    0.952667        210971        296350      0.711898   \n",
       "3              1500    0.952667        210971        296350      0.711898   \n",
       "4              1500    0.952667        210971        296350      0.711898   \n",
       "...             ...         ...           ...           ...           ...   \n",
       "2526695        1500    0.666000        212941        303450      0.701733   \n",
       "2526696        1200    0.652500        204254        300500      0.679714   \n",
       "2526697        1200    0.652500        204254        300500      0.679714   \n",
       "2526698        1200    0.652500        204254        300500      0.679714   \n",
       "2526699        1200    0.652500        204254        300500      0.679714   \n",
       "\n",
       "         testNum_sum  testNum_cnt  testNum_acc  problemID_sum  problemID_cnt  \\\n",
       "0              11867        16750     0.708478         310634         414350   \n",
       "1              11867        16750     0.708478         297842         413500   \n",
       "2              11867        16750     0.708478         285143         414250   \n",
       "3              11867        16750     0.708478         273382         412050   \n",
       "4              11867        16750     0.708478         240452         401900   \n",
       "...              ...          ...          ...            ...            ...   \n",
       "2526695         9783        15250     0.641508         240452         401900   \n",
       "2526696         5943         8400     0.707500         310634         414350   \n",
       "2526697         5943         8400     0.707500         297842         413500   \n",
       "2526698         5943         8400     0.707500         285143         414250   \n",
       "2526699         5943         8400     0.707500         273382         412050   \n",
       "\n",
       "         problemID_acc  tag_sum  tag_cnt   tag_acc  itemID_high_freq  \\\n",
       "0             0.749690      718      750  0.957333                 0   \n",
       "1             0.720295     3439     3750  0.917067                 0   \n",
       "2             0.688336     3439     3750  0.917067                 0   \n",
       "3             0.663468     3439     3750  0.917067                 0   \n",
       "4             0.598288     3439     3750  0.917067                 0   \n",
       "...                ...      ...      ...       ...               ...   \n",
       "2526695       0.598288     3127     4500  0.694889                 1   \n",
       "2526696       0.749690     2410     3450  0.698551                 1   \n",
       "2526697       0.720295     2410     3450  0.698551                 1   \n",
       "2526698       0.688336     2410     3450  0.698551                 1   \n",
       "2526699       0.663468     2410     3450  0.698551                 1   \n",
       "\n",
       "         testID_high_freq  testCode_high_freq  testNum_high_freq  \\\n",
       "0                       0                   1                  1   \n",
       "1                       0                   1                  1   \n",
       "2                       0                   1                  1   \n",
       "3                       0                   1                  1   \n",
       "4                       0                   1                  1   \n",
       "...                   ...                 ...                ...   \n",
       "2526695                 0                   1                  1   \n",
       "2526696                 0                   1                  0   \n",
       "2526697                 0                   1                  0   \n",
       "2526698                 0                   1                  0   \n",
       "2526699                 0                   1                  0   \n",
       "\n",
       "         problemID_high_freq  tag_high_freq  user_past_solved  \\\n",
       "0                          1              0                 0   \n",
       "1                          1              1                 0   \n",
       "2                          1              1                 0   \n",
       "3                          1              1                 0   \n",
       "4                          1              1                 0   \n",
       "...                      ...            ...               ...   \n",
       "2526695                    1              1                 0   \n",
       "2526696                    1              1                 0   \n",
       "2526697                    1              1                 0   \n",
       "2526698                    1              1                 0   \n",
       "2526699                    1              1                 0   \n",
       "\n",
       "         relative_correct_rate  is_correct_before1  correct_rate_before1  \\\n",
       "0                     0.016000                   1              1.000000   \n",
       "1                     0.032000                   1              0.984000   \n",
       "2                     0.084000                   1              0.968000   \n",
       "3                     0.028000                   1              0.916000   \n",
       "4                     0.052000                   1              0.972000   \n",
       "...                        ...                 ...                   ...   \n",
       "2526695              -0.446667                   0              0.593333   \n",
       "2526696               0.356667                   1              1.000000   \n",
       "2526697               0.360000                   1              0.643333   \n",
       "2526698               0.213333                   1              0.640000   \n",
       "2526699               0.460000                   1              0.786667   \n",
       "\n",
       "         relative_correct_rate_before1  is_correct_before2  \\\n",
       "0                             1.000000                   1   \n",
       "1                             0.016000                   1   \n",
       "2                             0.032000                   1   \n",
       "3                             0.084000                   1   \n",
       "4                             0.028000                   1   \n",
       "...                                ...                 ...   \n",
       "2526695                      -0.593333                   1   \n",
       "2526696                       1.000000                   1   \n",
       "2526697                       0.356667                   1   \n",
       "2526698                       0.360000                   1   \n",
       "2526699                       0.213333                   1   \n",
       "\n",
       "         correct_rate_before2  relative_correct_rate_before2  \\\n",
       "0                    1.000000                       1.000000   \n",
       "1                    1.000000                       1.000000   \n",
       "2                    0.984000                       0.016000   \n",
       "3                    0.968000                       0.032000   \n",
       "4                    0.916000                       0.084000   \n",
       "...                       ...                            ...   \n",
       "2526695              0.843333                       0.156667   \n",
       "2526696              1.000000                       1.000000   \n",
       "2526697              1.000000                       1.000000   \n",
       "2526698              0.643333                       0.356667   \n",
       "2526699              0.640000                       0.360000   \n",
       "\n",
       "         is_correct_before3  correct_rate_before3  \\\n",
       "0                         1              1.000000   \n",
       "1                         1              1.000000   \n",
       "2                         1              1.000000   \n",
       "3                         1              0.984000   \n",
       "4                         1              0.968000   \n",
       "...                     ...                   ...   \n",
       "2526695                   0              0.870000   \n",
       "2526696                   1              1.000000   \n",
       "2526697                   1              1.000000   \n",
       "2526698                   1              1.000000   \n",
       "2526699                   1              0.643333   \n",
       "\n",
       "         relative_correct_rate_before3  is_correct_before4  \\\n",
       "0                             1.000000                   1   \n",
       "1                             1.000000                   1   \n",
       "2                             1.000000                   1   \n",
       "3                             0.016000                   1   \n",
       "4                             0.032000                   1   \n",
       "...                                ...                 ...   \n",
       "2526695                      -0.870000                   0   \n",
       "2526696                       1.000000                   1   \n",
       "2526697                       1.000000                   1   \n",
       "2526698                       1.000000                   1   \n",
       "2526699                       0.356667                   1   \n",
       "\n",
       "         correct_rate_before4  relative_correct_rate_before4  \\\n",
       "0                    1.000000                       1.000000   \n",
       "1                    1.000000                       1.000000   \n",
       "2                    1.000000                       1.000000   \n",
       "3                    1.000000                       1.000000   \n",
       "4                    0.984000                       0.016000   \n",
       "...                       ...                            ...   \n",
       "2526695              0.576667                      -0.576667   \n",
       "2526696              1.000000                       1.000000   \n",
       "2526697              1.000000                       1.000000   \n",
       "2526698              1.000000                       1.000000   \n",
       "2526699              1.000000                       1.000000   \n",
       "\n",
       "         is_correct_before5  correct_rate_before5  \\\n",
       "0                         1                   1.0   \n",
       "1                         1                   1.0   \n",
       "2                         1                   1.0   \n",
       "3                         1                   1.0   \n",
       "4                         1                   1.0   \n",
       "...                     ...                   ...   \n",
       "2526695                   1                   1.0   \n",
       "2526696                   1                   1.0   \n",
       "2526697                   1                   1.0   \n",
       "2526698                   1                   1.0   \n",
       "2526699                   1                   1.0   \n",
       "\n",
       "         relative_correct_rate_before5     theta      beta  \n",
       "0                                  1.0  0.578202 -3.342176  \n",
       "1                                  1.0  0.578202 -3.003042  \n",
       "2                                  1.0  0.578202 -2.298332  \n",
       "3                                  1.0  0.578202 -3.064188  \n",
       "4                                  1.0  0.578202 -2.647697  \n",
       "...                                ...       ...       ...  \n",
       "2526695                            1.0  0.152849  1.028286  \n",
       "2526696                            1.0  0.152849  0.411999  \n",
       "2526697                            1.0  0.152849 -1.192515  \n",
       "2526698                            1.0  0.152849 -1.313112  \n",
       "2526699                            1.0  0.152849  0.118106  \n",
       "\n",
       "[2526700 rows x 97 columns]"
      ]
     },
     "execution_count": 2,
     "metadata": {},
     "output_type": "execute_result"
    }
   ],
   "source": [
    "data = pd.read_parquet('/data/ephemeral/data/Feature_Selection.parquet')\n",
    "data"
   ]
  },
  {
   "cell_type": "code",
   "execution_count": 3,
   "metadata": {},
   "outputs": [
    {
     "name": "stdout",
     "output_type": "stream",
     "text": [
      "Row 개수 : 2526700 / Columns 개수 : 97\n"
     ]
    },
    {
     "data": {
      "text/html": [
       "<div>\n",
       "<style scoped>\n",
       "    .dataframe tbody tr th:only-of-type {\n",
       "        vertical-align: middle;\n",
       "    }\n",
       "\n",
       "    .dataframe tbody tr th {\n",
       "        vertical-align: top;\n",
       "    }\n",
       "\n",
       "    .dataframe thead th {\n",
       "        text-align: right;\n",
       "    }\n",
       "</style>\n",
       "<table border=\"1\" class=\"dataframe\">\n",
       "  <thead>\n",
       "    <tr style=\"text-align: right;\">\n",
       "      <th></th>\n",
       "      <th>userID</th>\n",
       "      <th>assessmentItemID</th>\n",
       "      <th>answerCode</th>\n",
       "      <th>KnowledgeTag</th>\n",
       "      <th>testID</th>\n",
       "      <th>testCode</th>\n",
       "      <th>testNum</th>\n",
       "      <th>problemID</th>\n",
       "      <th>problemID_Norm</th>\n",
       "      <th>total_problem</th>\n",
       "      <th>year</th>\n",
       "      <th>quarter</th>\n",
       "      <th>month</th>\n",
       "      <th>day</th>\n",
       "      <th>hour</th>\n",
       "      <th>dow</th>\n",
       "      <th>weekday</th>\n",
       "      <th>LagTime</th>\n",
       "      <th>ElapsedTime</th>\n",
       "      <th>ElapsedTime_Rolling2</th>\n",
       "      <th>ElapsedTime_Rolling3</th>\n",
       "      <th>ElapsedTime_Rolling4</th>\n",
       "      <th>ElapsedTime_Rolling5</th>\n",
       "      <th>user_ElaspedTime_avg</th>\n",
       "      <th>item_ElaspedTime_avg</th>\n",
       "      <th>testID_ElaspedTime_avg</th>\n",
       "      <th>testCode_ElaspedTime_avg</th>\n",
       "      <th>testNum_ElaspedTime_avg</th>\n",
       "      <th>problemID_ElaspedTime_avg</th>\n",
       "      <th>tag_ElaspedTime_avg</th>\n",
       "      <th>Real_Solved</th>\n",
       "      <th>Correct_User_ElapsedTime</th>\n",
       "      <th>Wrong_User_ElapsedTime</th>\n",
       "      <th>user_sum</th>\n",
       "      <th>user_cnt</th>\n",
       "      <th>user_acc</th>\n",
       "      <th>user_itemID_sum</th>\n",
       "      <th>user_itemID_cnt</th>\n",
       "      <th>user_itemID_acc</th>\n",
       "      <th>user_testID_sum</th>\n",
       "      <th>user_testID_cnt</th>\n",
       "      <th>user_testID_acc</th>\n",
       "      <th>user_testCode_sum</th>\n",
       "      <th>user_testCode_cnt</th>\n",
       "      <th>user_testCode_acc</th>\n",
       "      <th>user_testNum_sum</th>\n",
       "      <th>user_testNum_cnt</th>\n",
       "      <th>user_testNum_acc</th>\n",
       "      <th>user_problemID_sum</th>\n",
       "      <th>user_problemID_cnt</th>\n",
       "      <th>user_problemID_acc</th>\n",
       "      <th>user_tag_sum</th>\n",
       "      <th>user_tag_cnt</th>\n",
       "      <th>user_tag_acc</th>\n",
       "      <th>itemID_sum</th>\n",
       "      <th>itemID_cnt</th>\n",
       "      <th>itemID_acc</th>\n",
       "      <th>testID_sum</th>\n",
       "      <th>testID_cnt</th>\n",
       "      <th>testID_acc</th>\n",
       "      <th>testCode_sum</th>\n",
       "      <th>testCode_cnt</th>\n",
       "      <th>testCode_acc</th>\n",
       "      <th>testNum_sum</th>\n",
       "      <th>testNum_cnt</th>\n",
       "      <th>testNum_acc</th>\n",
       "      <th>problemID_sum</th>\n",
       "      <th>problemID_cnt</th>\n",
       "      <th>problemID_acc</th>\n",
       "      <th>tag_sum</th>\n",
       "      <th>tag_cnt</th>\n",
       "      <th>tag_acc</th>\n",
       "      <th>itemID_high_freq</th>\n",
       "      <th>testID_high_freq</th>\n",
       "      <th>testCode_high_freq</th>\n",
       "      <th>testNum_high_freq</th>\n",
       "      <th>problemID_high_freq</th>\n",
       "      <th>tag_high_freq</th>\n",
       "      <th>user_past_solved</th>\n",
       "      <th>relative_correct_rate</th>\n",
       "      <th>is_correct_before1</th>\n",
       "      <th>correct_rate_before1</th>\n",
       "      <th>relative_correct_rate_before1</th>\n",
       "      <th>is_correct_before2</th>\n",
       "      <th>correct_rate_before2</th>\n",
       "      <th>relative_correct_rate_before2</th>\n",
       "      <th>is_correct_before3</th>\n",
       "      <th>correct_rate_before3</th>\n",
       "      <th>relative_correct_rate_before3</th>\n",
       "      <th>is_correct_before4</th>\n",
       "      <th>correct_rate_before4</th>\n",
       "      <th>relative_correct_rate_before4</th>\n",
       "      <th>is_correct_before5</th>\n",
       "      <th>correct_rate_before5</th>\n",
       "      <th>relative_correct_rate_before5</th>\n",
       "      <th>theta</th>\n",
       "      <th>beta</th>\n",
       "    </tr>\n",
       "  </thead>\n",
       "  <tbody>\n",
       "    <tr>\n",
       "      <th>Dtype</th>\n",
       "      <td>int16</td>\n",
       "      <td>object</td>\n",
       "      <td>int8</td>\n",
       "      <td>int16</td>\n",
       "      <td>object</td>\n",
       "      <td>int8</td>\n",
       "      <td>int32</td>\n",
       "      <td>int8</td>\n",
       "      <td>float64</td>\n",
       "      <td>int8</td>\n",
       "      <td>int32</td>\n",
       "      <td>int8</td>\n",
       "      <td>int8</td>\n",
       "      <td>int8</td>\n",
       "      <td>int8</td>\n",
       "      <td>int8</td>\n",
       "      <td>int8</td>\n",
       "      <td>float32</td>\n",
       "      <td>float64</td>\n",
       "      <td>float64</td>\n",
       "      <td>float64</td>\n",
       "      <td>float64</td>\n",
       "      <td>float64</td>\n",
       "      <td>float64</td>\n",
       "      <td>float64</td>\n",
       "      <td>float64</td>\n",
       "      <td>float64</td>\n",
       "      <td>float64</td>\n",
       "      <td>float64</td>\n",
       "      <td>float64</td>\n",
       "      <td>int8</td>\n",
       "      <td>float64</td>\n",
       "      <td>float64</td>\n",
       "      <td>int32</td>\n",
       "      <td>int32</td>\n",
       "      <td>float64</td>\n",
       "      <td>int32</td>\n",
       "      <td>int32</td>\n",
       "      <td>float64</td>\n",
       "      <td>int32</td>\n",
       "      <td>int32</td>\n",
       "      <td>float64</td>\n",
       "      <td>int32</td>\n",
       "      <td>int32</td>\n",
       "      <td>float64</td>\n",
       "      <td>int32</td>\n",
       "      <td>int32</td>\n",
       "      <td>float64</td>\n",
       "      <td>int32</td>\n",
       "      <td>int32</td>\n",
       "      <td>float64</td>\n",
       "      <td>int32</td>\n",
       "      <td>int32</td>\n",
       "      <td>float64</td>\n",
       "      <td>int64</td>\n",
       "      <td>int64</td>\n",
       "      <td>float64</td>\n",
       "      <td>int64</td>\n",
       "      <td>int64</td>\n",
       "      <td>float64</td>\n",
       "      <td>int64</td>\n",
       "      <td>int64</td>\n",
       "      <td>float64</td>\n",
       "      <td>int64</td>\n",
       "      <td>int64</td>\n",
       "      <td>float64</td>\n",
       "      <td>int64</td>\n",
       "      <td>int64</td>\n",
       "      <td>float64</td>\n",
       "      <td>int64</td>\n",
       "      <td>int64</td>\n",
       "      <td>float64</td>\n",
       "      <td>int8</td>\n",
       "      <td>int8</td>\n",
       "      <td>int8</td>\n",
       "      <td>int8</td>\n",
       "      <td>int8</td>\n",
       "      <td>int8</td>\n",
       "      <td>int8</td>\n",
       "      <td>float64</td>\n",
       "      <td>int8</td>\n",
       "      <td>float64</td>\n",
       "      <td>float64</td>\n",
       "      <td>int8</td>\n",
       "      <td>float64</td>\n",
       "      <td>float64</td>\n",
       "      <td>int8</td>\n",
       "      <td>float64</td>\n",
       "      <td>float64</td>\n",
       "      <td>int8</td>\n",
       "      <td>float64</td>\n",
       "      <td>float64</td>\n",
       "      <td>int8</td>\n",
       "      <td>float64</td>\n",
       "      <td>float64</td>\n",
       "      <td>float64</td>\n",
       "      <td>float64</td>\n",
       "    </tr>\n",
       "    <tr>\n",
       "      <th>Null</th>\n",
       "      <td>0</td>\n",
       "      <td>0</td>\n",
       "      <td>0</td>\n",
       "      <td>0</td>\n",
       "      <td>0</td>\n",
       "      <td>0</td>\n",
       "      <td>0</td>\n",
       "      <td>0</td>\n",
       "      <td>0</td>\n",
       "      <td>0</td>\n",
       "      <td>0</td>\n",
       "      <td>0</td>\n",
       "      <td>0</td>\n",
       "      <td>0</td>\n",
       "      <td>0</td>\n",
       "      <td>0</td>\n",
       "      <td>0</td>\n",
       "      <td>0</td>\n",
       "      <td>0</td>\n",
       "      <td>0</td>\n",
       "      <td>0</td>\n",
       "      <td>0</td>\n",
       "      <td>0</td>\n",
       "      <td>0</td>\n",
       "      <td>0</td>\n",
       "      <td>0</td>\n",
       "      <td>0</td>\n",
       "      <td>0</td>\n",
       "      <td>0</td>\n",
       "      <td>0</td>\n",
       "      <td>0</td>\n",
       "      <td>0</td>\n",
       "      <td>0</td>\n",
       "      <td>0</td>\n",
       "      <td>0</td>\n",
       "      <td>0</td>\n",
       "      <td>0</td>\n",
       "      <td>0</td>\n",
       "      <td>0</td>\n",
       "      <td>0</td>\n",
       "      <td>0</td>\n",
       "      <td>0</td>\n",
       "      <td>0</td>\n",
       "      <td>0</td>\n",
       "      <td>0</td>\n",
       "      <td>0</td>\n",
       "      <td>0</td>\n",
       "      <td>0</td>\n",
       "      <td>0</td>\n",
       "      <td>0</td>\n",
       "      <td>0</td>\n",
       "      <td>0</td>\n",
       "      <td>0</td>\n",
       "      <td>0</td>\n",
       "      <td>0</td>\n",
       "      <td>0</td>\n",
       "      <td>0</td>\n",
       "      <td>0</td>\n",
       "      <td>0</td>\n",
       "      <td>0</td>\n",
       "      <td>0</td>\n",
       "      <td>0</td>\n",
       "      <td>0</td>\n",
       "      <td>0</td>\n",
       "      <td>0</td>\n",
       "      <td>0</td>\n",
       "      <td>0</td>\n",
       "      <td>0</td>\n",
       "      <td>0</td>\n",
       "      <td>0</td>\n",
       "      <td>0</td>\n",
       "      <td>0</td>\n",
       "      <td>0</td>\n",
       "      <td>0</td>\n",
       "      <td>0</td>\n",
       "      <td>0</td>\n",
       "      <td>0</td>\n",
       "      <td>0</td>\n",
       "      <td>0</td>\n",
       "      <td>0</td>\n",
       "      <td>0</td>\n",
       "      <td>0</td>\n",
       "      <td>0</td>\n",
       "      <td>0</td>\n",
       "      <td>0</td>\n",
       "      <td>0</td>\n",
       "      <td>0</td>\n",
       "      <td>0</td>\n",
       "      <td>0</td>\n",
       "      <td>0</td>\n",
       "      <td>0</td>\n",
       "      <td>0</td>\n",
       "      <td>0</td>\n",
       "      <td>0</td>\n",
       "      <td>0</td>\n",
       "      <td>0</td>\n",
       "      <td>0</td>\n",
       "    </tr>\n",
       "  </tbody>\n",
       "</table>\n",
       "</div>"
      ],
      "text/plain": [
       "      userID assessmentItemID answerCode KnowledgeTag  testID testCode  \\\n",
       "Dtype  int16           object       int8        int16  object     int8   \n",
       "Null       0                0          0            0       0        0   \n",
       "\n",
       "      testNum problemID problemID_Norm total_problem   year quarter month  \\\n",
       "Dtype   int32      int8        float64          int8  int32    int8  int8   \n",
       "Null        0         0              0             0      0       0     0   \n",
       "\n",
       "        day  hour   dow weekday  LagTime ElapsedTime ElapsedTime_Rolling2  \\\n",
       "Dtype  int8  int8  int8    int8  float32     float64              float64   \n",
       "Null      0     0     0       0        0           0                    0   \n",
       "\n",
       "      ElapsedTime_Rolling3 ElapsedTime_Rolling4 ElapsedTime_Rolling5  \\\n",
       "Dtype              float64              float64              float64   \n",
       "Null                     0                    0                    0   \n",
       "\n",
       "      user_ElaspedTime_avg item_ElaspedTime_avg testID_ElaspedTime_avg  \\\n",
       "Dtype              float64              float64                float64   \n",
       "Null                     0                    0                      0   \n",
       "\n",
       "      testCode_ElaspedTime_avg testNum_ElaspedTime_avg  \\\n",
       "Dtype                  float64                 float64   \n",
       "Null                         0                       0   \n",
       "\n",
       "      problemID_ElaspedTime_avg tag_ElaspedTime_avg Real_Solved  \\\n",
       "Dtype                   float64             float64        int8   \n",
       "Null                          0                   0           0   \n",
       "\n",
       "      Correct_User_ElapsedTime Wrong_User_ElapsedTime user_sum user_cnt  \\\n",
       "Dtype                  float64                float64    int32    int32   \n",
       "Null                         0                      0        0        0   \n",
       "\n",
       "      user_acc user_itemID_sum user_itemID_cnt user_itemID_acc  \\\n",
       "Dtype  float64           int32           int32         float64   \n",
       "Null         0               0               0               0   \n",
       "\n",
       "      user_testID_sum user_testID_cnt user_testID_acc user_testCode_sum  \\\n",
       "Dtype           int32           int32         float64             int32   \n",
       "Null                0               0               0                 0   \n",
       "\n",
       "      user_testCode_cnt user_testCode_acc user_testNum_sum user_testNum_cnt  \\\n",
       "Dtype             int32           float64            int32            int32   \n",
       "Null                  0                 0                0                0   \n",
       "\n",
       "      user_testNum_acc user_problemID_sum user_problemID_cnt  \\\n",
       "Dtype          float64              int32              int32   \n",
       "Null                 0                  0                  0   \n",
       "\n",
       "      user_problemID_acc user_tag_sum user_tag_cnt user_tag_acc itemID_sum  \\\n",
       "Dtype            float64        int32        int32      float64      int64   \n",
       "Null                   0            0            0            0          0   \n",
       "\n",
       "      itemID_cnt itemID_acc testID_sum testID_cnt testID_acc testCode_sum  \\\n",
       "Dtype      int64    float64      int64      int64    float64        int64   \n",
       "Null           0          0          0          0          0            0   \n",
       "\n",
       "      testCode_cnt testCode_acc testNum_sum testNum_cnt testNum_acc  \\\n",
       "Dtype        int64      float64       int64       int64     float64   \n",
       "Null             0            0           0           0           0   \n",
       "\n",
       "      problemID_sum problemID_cnt problemID_acc tag_sum tag_cnt  tag_acc  \\\n",
       "Dtype         int64         int64       float64   int64   int64  float64   \n",
       "Null              0             0             0       0       0        0   \n",
       "\n",
       "      itemID_high_freq testID_high_freq testCode_high_freq testNum_high_freq  \\\n",
       "Dtype             int8             int8               int8              int8   \n",
       "Null                 0                0                  0                 0   \n",
       "\n",
       "      problemID_high_freq tag_high_freq user_past_solved  \\\n",
       "Dtype                int8          int8             int8   \n",
       "Null                    0             0                0   \n",
       "\n",
       "      relative_correct_rate is_correct_before1 correct_rate_before1  \\\n",
       "Dtype               float64               int8              float64   \n",
       "Null                      0                  0                    0   \n",
       "\n",
       "      relative_correct_rate_before1 is_correct_before2 correct_rate_before2  \\\n",
       "Dtype                       float64               int8              float64   \n",
       "Null                              0                  0                    0   \n",
       "\n",
       "      relative_correct_rate_before2 is_correct_before3 correct_rate_before3  \\\n",
       "Dtype                       float64               int8              float64   \n",
       "Null                              0                  0                    0   \n",
       "\n",
       "      relative_correct_rate_before3 is_correct_before4 correct_rate_before4  \\\n",
       "Dtype                       float64               int8              float64   \n",
       "Null                              0                  0                    0   \n",
       "\n",
       "      relative_correct_rate_before4 is_correct_before5 correct_rate_before5  \\\n",
       "Dtype                       float64               int8              float64   \n",
       "Null                              0                  0                    0   \n",
       "\n",
       "      relative_correct_rate_before5    theta     beta  \n",
       "Dtype                       float64  float64  float64  \n",
       "Null                              0        0        0  "
      ]
     },
     "execution_count": 3,
     "metadata": {},
     "output_type": "execute_result"
    }
   ],
   "source": [
    "data_dtype = data.dtypes.to_frame().T\n",
    "data_isnull = data.isnull().sum().to_frame().T\n",
    "print(f'Row 개수 : {data.shape[0]} / Columns 개수 : {data.shape[1]}')\n",
    "\n",
    "data_info = pd.concat([data_dtype, data_isnull], axis = 0).set_index(pd.Index(['Dtype', 'Null']))\n",
    "data_info"
   ]
  },
  {
   "cell_type": "code",
   "execution_count": 4,
   "metadata": {},
   "outputs": [
    {
     "name": "stdout",
     "output_type": "stream",
     "text": [
      "94\n"
     ]
    }
   ],
   "source": [
    "use_col = [\n",
    "    'userID', 'assessmentItemID', 'KnowledgeTag', 'testID',\n",
    "    'testCode', 'testNum', 'problemID', 'total_problem', # 'problemID_Norm'\n",
    "    \n",
    "    'year', 'quarter', 'month', 'day', 'hour', 'dow', 'weekday', 'ElapsedTime', 'LagTime',\n",
    "    'ElapsedTime_Rolling2', 'ElapsedTime_Rolling3', 'ElapsedTime_Rolling4', 'ElapsedTime_Rolling5',\n",
    "    'user_ElaspedTime_avg', 'item_ElaspedTime_avg', 'testID_ElaspedTime_avg', 'testCode_ElaspedTime_avg',\n",
    "    'testNum_ElaspedTime_avg', 'problemID_ElaspedTime_avg', 'tag_ElaspedTime_avg',\n",
    "    'Real_Solved', 'Correct_User_ElapsedTime', 'Wrong_User_ElapsedTime',\n",
    "    \n",
    "    'user_sum', 'user_cnt', 'user_acc', 'user_itemID_sum', 'user_itemID_cnt', 'user_itemID_acc',\n",
    "    'user_testID_sum', 'user_testID_cnt', 'user_testID_acc', 'user_testCode_sum', 'user_testCode_cnt', 'user_testCode_acc',\n",
    "    'user_testNum_sum', 'user_testNum_cnt', 'user_testNum_acc', 'user_problemID_sum', 'user_problemID_cnt', 'user_problemID_acc',\n",
    "    'user_tag_sum', 'user_tag_cnt', 'user_tag_acc',\n",
    "    \n",
    "    'itemID_sum', 'itemID_cnt', 'itemID_acc', 'testID_sum', 'testID_cnt', 'testID_acc',\n",
    "    'testCode_sum', 'testCode_cnt', 'testCode_acc', 'testNum_sum', 'testNum_cnt', 'testNum_acc',\n",
    "    'problemID_sum', 'problemID_cnt', 'problemID_acc', 'tag_sum', 'tag_cnt', 'tag_acc',\n",
    "    'itemID_high_freq', 'testID_high_freq', 'testCode_high_freq',\n",
    "    'testNum_high_freq', 'problemID_high_freq', 'tag_high_freq',\n",
    "\n",
    "    'user_past_solved',\n",
    "    # 'relative_correct_rate',\n",
    "    'is_correct_before1', 'correct_rate_before1', 'relative_correct_rate_before1',\n",
    "    'is_correct_before2', 'correct_rate_before2', 'relative_correct_rate_before2',\n",
    "    'is_correct_before3', 'correct_rate_before3', 'relative_correct_rate_before3',\n",
    "    'is_correct_before4', 'correct_rate_before4', 'relative_correct_rate_before4',\n",
    "    'is_correct_before5', 'correct_rate_before5', 'relative_correct_rate_before5',\n",
    "    \n",
    "    'theta', 'beta'\n",
    "]\n",
    "print(len(use_col))"
   ]
  },
  {
   "cell_type": "code",
   "execution_count": 5,
   "metadata": {},
   "outputs": [
    {
     "name": "stdout",
     "output_type": "stream",
     "text": [
      "53 ['userID' 'assessmentItemID' 'KnowledgeTag' 'testID' 'testCode' 'testNum'\n",
      " 'problemID' 'total_problem' 'quarter' 'month' 'day' 'hour' 'dow'\n",
      " 'LagTime' 'ElapsedTime' 'ElapsedTime_Rolling2' 'ElapsedTime_Rolling3'\n",
      " 'ElapsedTime_Rolling4' 'ElapsedTime_Rolling5' 'user_ElaspedTime_avg'\n",
      " 'item_ElaspedTime_avg' 'testID_ElaspedTime_avg'\n",
      " 'testCode_ElaspedTime_avg' 'testNum_ElaspedTime_avg'\n",
      " 'problemID_ElaspedTime_avg' 'tag_ElaspedTime_avg'\n",
      " 'Correct_User_ElapsedTime' 'Wrong_User_ElapsedTime' 'user_sum' 'user_cnt'\n",
      " 'user_testID_sum' 'user_testID_cnt' 'user_testCode_sum'\n",
      " 'user_testCode_cnt' 'user_testNum_sum' 'user_testNum_cnt'\n",
      " 'user_problemID_sum' 'user_problemID_cnt' 'user_tag_sum' 'user_tag_cnt'\n",
      " 'itemID_sum' 'itemID_cnt' 'testID_sum' 'testID_cnt' 'testCode_sum'\n",
      " 'testCode_cnt' 'testNum_sum' 'testNum_cnt' 'problemID_sum'\n",
      " 'problemID_cnt' 'tag_sum' 'tag_cnt' 'beta']\n"
     ]
    }
   ],
   "source": [
    "from sklearn.feature_selection import VarianceThreshold\n",
    "feats = data.drop(columns = ['answerCode'])\n",
    "feats['assessmentItemID'] = feats['assessmentItemID'].map({v : (k+1) for k, v in enumerate(feats['assessmentItemID'].unique())})\n",
    "feats['testID'] = feats['testID'].map({v : (k+1) for k, v in enumerate(feats['testID'].unique())})\n",
    "selector = VarianceThreshold(threshold = 0.8)\n",
    "selector.fit_transform(feats)\n",
    "feats_filtered = selector.get_feature_names_out()\n",
    "print(len(feats_filtered), feats_filtered)"
   ]
  },
  {
   "cell_type": "markdown",
   "metadata": {},
   "source": [
    "## Data Split"
   ]
  },
  {
   "cell_type": "code",
   "execution_count": 6,
   "metadata": {},
   "outputs": [
    {
     "name": "stdout",
     "output_type": "stream",
     "text": [
      "(2519258, 97) (6698, 97) (744, 96)\n"
     ]
    }
   ],
   "source": [
    "train_data = data[data['answerCode'] != -1]\n",
    "valid_indices = set(data[data['answerCode'] != -1].index).intersection(set(data.reset_index().groupby('userID', as_index = False).last().set_index('index').index))\n",
    "\n",
    "train_df = train_data.loc[~train_data.index.isin(valid_indices)]\n",
    "valid_df = train_data.loc[train_data.index.isin(valid_indices)]\n",
    "test_df = data[data['answerCode'] == -1].drop(columns = 'answerCode')\n",
    "print(train_df.shape, valid_df.shape, test_df.shape)"
   ]
  },
  {
   "cell_type": "code",
   "execution_count": 7,
   "metadata": {},
   "outputs": [
    {
     "name": "stderr",
     "output_type": "stream",
     "text": [
      "100%|██████████| 28/28 [00:01<00:00, 24.90it/s]\n"
     ]
    }
   ],
   "source": [
    "cat_col = ['userID', 'assessmentItemID', 'KnowledgeTag', 'testID', 'testCode', 'testNum', 'problemID', 'total_problem',\n",
    "           'year', 'quarter', 'month', 'day', 'hour', 'dow', 'weekday', 'Real_Solved', \n",
    "           'itemID_high_freq', 'testID_high_freq', 'testCode_high_freq',\n",
    "           'testNum_high_freq', 'problemID_high_freq', 'tag_high_freq',\n",
    "           'user_past_solved', 'is_correct_before1', 'is_correct_before2',\n",
    "           'is_correct_before3', 'is_correct_before4', 'is_correct_before5']\n",
    "\n",
    "for col in tqdm.tqdm(cat_col) :\n",
    "    train_df[col] = train_df[col].astype('category')\n",
    "    test_df[col] = test_df[col].astype('category')"
   ]
  },
  {
   "cell_type": "code",
   "execution_count": 8,
   "metadata": {},
   "outputs": [
    {
     "name": "stdout",
     "output_type": "stream",
     "text": [
      "(2519258, 94) (2519258,) (6698, 94) (6698,) (744, 94)\n"
     ]
    }
   ],
   "source": [
    "X_train, y_train = train_df[use_col], train_df['answerCode'] # use_col\n",
    "X_valid, y_valid = valid_df[use_col], valid_df['answerCode'] # feats_filtered\n",
    "test_df = test_df[use_col]\n",
    "print(X_train.shape, y_train.shape, X_valid.shape, y_valid.shape, test_df.shape)"
   ]
  },
  {
   "cell_type": "markdown",
   "metadata": {},
   "source": [
    "## CatboostClassifier"
   ]
  },
  {
   "cell_type": "markdown",
   "metadata": {},
   "source": [
    "### Optuna HPO"
   ]
  },
  {
   "cell_type": "code",
   "execution_count": 78,
   "metadata": {},
   "outputs": [],
   "source": [
    "def objective_CAT_CLF(trial : Trial, X_train, y_train, X_valid, y_valid) :\n",
    "    param = {\n",
    "        'learning_rate' : trial.suggest_categorical('learning_rate', [1e-3, 0.01, 0.05, 0.1, 0.5]),\n",
    "        'depth' : trial.suggest_int('depth', 1, 15),\n",
    "        # 'colsample_bylevel' : trial.suggest_categorical('colsample_bylevel', [1e-3, 0.01, 0.1, 0.5]),\n",
    "        'boosting_type' : trial.suggest_categorical('boosting_type', ['Ordered', 'Plain']),\n",
    "        'bootstrap_type' : trial.suggest_categorical('bootstrap_type', ['Bayesian', 'Bernoulli', 'MVS']),\n",
    "        'l2_leaf_reg' : trial.suggest_categorical('l2_leaf_reg', [1e-3, 1, 3, 5]),\n",
    "        'random_strength' : trial.suggest_categorical('random_strength', [1e-5, 1e-3, 0.1, 1]),\n",
    "        'min_data_in_leaf' : trial.suggest_int('min_data_in_leaf', 1, 10),\n",
    "    }\n",
    "\n",
    "    if param['bootstrap_type'] == 'Bayesian' :\n",
    "        param['bagging_temperature'] = trial.suggest_float('bagging_temperature', 0, 10)\n",
    "    elif param['bootstrap_type'] == 'Bernoulli' :\n",
    "        param['subsample'] = trial.suggest_float('subsample', 0.1, 1)\n",
    "        \n",
    "    train_data = Pool(data = X_train, label = y_train, cat_features = cat_col)\n",
    "    valid_data = Pool(data = X_valid, label = y_valid, cat_features = cat_col)\n",
    "    \n",
    "    model = CatBoostClassifier(**param, iterations = 5000, loss_function = 'Logloss', eval_metric = 'AUC',\n",
    "                               use_best_model = True, random_state = SEED, # task_type = 'GPU', devices = '0',\n",
    "                               cat_features = [X_train.columns.get_loc(col) for col in X_train.select_dtypes('category').columns])\n",
    "    pruning_callback = CatBoostPruningCallback(trial, 'AUC', eval_set_index = 1)\n",
    "    cat_model = model.fit(train_data, eval_set = [train_data, valid_data], verbose = 300,\n",
    "                          early_stopping_rounds = 100, callbacks = [pruning_callback])\n",
    "    pruning_callback.check_pruned()\n",
    "    \n",
    "    proba = cat_model.predict_proba(X_valid)\n",
    "    # score = log_loss(y_valid, proba[:, 1])\n",
    "    # score = accuracy_score(y_valid, np.where(proba[:, 1] >= 0.5, 1, 0))\n",
    "    score = roc_auc_score(y_valid, proba[:, 1]) # pred\n",
    "    return score"
   ]
  },
  {
   "cell_type": "code",
   "execution_count": 10,
   "metadata": {},
   "outputs": [
    {
     "name": "stderr",
     "output_type": "stream",
     "text": [
      "[I 2024-01-20 01:00:04,936] A new study created in memory with name: no-name-4c731d96-8136-4a53-a659-838c6543caa7\n",
      "  0%|          | 0/100 [00:00<?, ?it/s]"
     ]
    },
    {
     "name": "stdout",
     "output_type": "stream",
     "text": [
      "0:\ttest: 0.7856278\ttest1: 0.7383691\tbest: 0.7383691 (0)\ttotal: 1.55s\tremaining: 2h 8m 51s\n",
      "300:\ttest: 0.8374227\ttest1: 0.8087141\tbest: 0.8087141 (300)\ttotal: 5m 36s\tremaining: 1h 27m 27s\n",
      "600:\ttest: 0.8538063\ttest1: 0.8177996\tbest: 0.8177996 (600)\ttotal: 11m 32s\tremaining: 1h 24m 26s\n",
      "900:\ttest: 0.8589423\ttest1: 0.8218501\tbest: 0.8218501 (900)\ttotal: 17m 24s\tremaining: 1h 19m 13s\n",
      "1200:\ttest: 0.8618947\ttest1: 0.8238121\tbest: 0.8238121 (1200)\ttotal: 23m 17s\tremaining: 1h 13m 40s\n",
      "1500:\ttest: 0.8652326\ttest1: 0.8250125\tbest: 0.8250253 (1499)\ttotal: 29m 31s\tremaining: 1h 8m 49s\n",
      "1800:\ttest: 0.8685800\ttest1: 0.8263182\tbest: 0.8263268 (1796)\ttotal: 36m 8s\tremaining: 1h 4m 11s\n",
      "2100:\ttest: 0.8709164\ttest1: 0.8273673\tbest: 0.8273673 (2100)\ttotal: 42m 22s\tremaining: 58m 27s\n",
      "2400:\ttest: 0.8730106\ttest1: 0.8280239\tbest: 0.8280295 (2399)\ttotal: 49m\tremaining: 53m 2s\n",
      "2700:\ttest: 0.8745757\ttest1: 0.8286314\tbest: 0.8286314 (2700)\ttotal: 55m 34s\tremaining: 47m 18s\n",
      "3000:\ttest: 0.8760059\ttest1: 0.8290788\tbest: 0.8290818 (2998)\ttotal: 1h 2m 19s\tremaining: 41m 30s\n",
      "3300:\ttest: 0.8770357\ttest1: 0.8295242\tbest: 0.8295242 (3300)\ttotal: 1h 8m 57s\tremaining: 35m 29s\n",
      "3600:\ttest: 0.8779508\ttest1: 0.8299037\tbest: 0.8299104 (3597)\ttotal: 1h 15m 36s\tremaining: 29m 22s\n",
      "3900:\ttest: 0.8788677\ttest1: 0.8301799\tbest: 0.8301968 (3896)\ttotal: 1h 22m 18s\tremaining: 23m 11s\n",
      "4200:\ttest: 0.8797629\ttest1: 0.8302684\tbest: 0.8303179 (4178)\ttotal: 1h 29m 14s\tremaining: 16m 58s\n",
      "4500:\ttest: 0.8805007\ttest1: 0.8304901\tbest: 0.8304926 (4498)\ttotal: 1h 35m 53s\tremaining: 10m 37s\n",
      "4800:\ttest: 0.8811702\ttest1: 0.8306943\tbest: 0.8306943 (4800)\ttotal: 1h 42m 42s\tremaining: 4m 15s\n",
      "4999:\ttest: 0.8816035\ttest1: 0.8307872\tbest: 0.8307991 (4960)\ttotal: 1h 47m 26s\tremaining: 0us\n",
      "\n",
      "bestTest = 0.8307990768\n",
      "bestIteration = 4960\n",
      "\n",
      "Shrink model to first 4961 iterations.\n"
     ]
    },
    {
     "name": "stderr",
     "output_type": "stream",
     "text": [
      "Best trial: 0. Best value: 0.830799:   1%|          | 1/100 [1:48:50<179:34:32, 6530.03s/it]"
     ]
    },
    {
     "name": "stdout",
     "output_type": "stream",
     "text": [
      "[I 2024-01-20 02:48:54,953] Trial 0 finished with value: 0.830799076806551 and parameters: {'learning_rate': 0.01, 'depth': 3, 'boosting_type': 'Plain', 'bootstrap_type': 'Bernoulli', 'l2_leaf_reg': 0.001, 'random_strength': 0.1, 'min_data_in_leaf': 3, 'subsample': 0.6506676052501416}. Best is trial 0 with value: 0.830799076806551.\n",
      "0:\ttest: 0.7856278\ttest1: 0.7383691\tbest: 0.7383691 (0)\ttotal: 1.25s\tremaining: 1h 44m 31s\n",
      "Stopped by overfitting detector  (100 iterations wait)\n",
      "\n",
      "bestTest = 0.8312637104\n",
      "bestIteration = 152\n",
      "\n",
      "Shrink model to first 153 iterations.\n"
     ]
    },
    {
     "name": "stderr",
     "output_type": "stream",
     "text": [
      "Best trial: 1. Best value: 0.831264:   2%|▏         | 2/100 [1:54:27<78:36:28, 2887.64s/it] "
     ]
    },
    {
     "name": "stdout",
     "output_type": "stream",
     "text": [
      "[I 2024-01-20 02:54:32,924] Trial 1 finished with value: 0.831263710351628 and parameters: {'learning_rate': 0.5, 'depth': 3, 'boosting_type': 'Plain', 'bootstrap_type': 'Bernoulli', 'l2_leaf_reg': 3, 'random_strength': 0.1, 'min_data_in_leaf': 2, 'subsample': 0.5456592191001431}. Best is trial 1 with value: 0.831263710351628.\n",
      "0:\ttest: 0.8166140\ttest1: 0.7847198\tbest: 0.7847198 (0)\ttotal: 5.93s\tremaining: 8h 14m 15s\n",
      "300:\ttest: 0.8481404\ttest1: 0.8204620\tbest: 0.8204620 (300)\ttotal: 28m 48s\tremaining: 7h 29m 47s\n",
      "600:\ttest: 0.8501590\ttest1: 0.8220696\tbest: 0.8220696 (600)\ttotal: 57m 38s\tremaining: 7h 1m 57s\n",
      "900:\ttest: 0.8517861\ttest1: 0.8230305\tbest: 0.8230305 (900)\ttotal: 1h 26m 50s\tremaining: 6h 35m 3s\n",
      "1200:\ttest: 0.8526526\ttest1: 0.8237490\tbest: 0.8237490 (1200)\ttotal: 1h 55m 40s\tremaining: 6h 5m 55s\n",
      "1500:\ttest: 0.8533604\ttest1: 0.8244459\tbest: 0.8244459 (1500)\ttotal: 2h 24m 36s\tremaining: 5h 37m 5s\n",
      "1800:\ttest: 0.8539312\ttest1: 0.8249667\tbest: 0.8249674 (1798)\ttotal: 2h 53m 44s\tremaining: 5h 8m 36s\n",
      "2100:\ttest: 0.8545416\ttest1: 0.8253613\tbest: 0.8253613 (2099)\ttotal: 3h 22m 59s\tremaining: 4h 40m 5s\n",
      "2400:\ttest: 0.8571725\ttest1: 0.8257766\tbest: 0.8257767 (2395)\ttotal: 3h 52m 14s\tremaining: 4h 11m 23s\n",
      "2700:\ttest: 0.8602615\ttest1: 0.8262940\tbest: 0.8262940 (2700)\ttotal: 4h 21m 1s\tremaining: 3h 42m 10s\n",
      "3000:\ttest: 0.8607833\ttest1: 0.8266400\tbest: 0.8266400 (3000)\ttotal: 4h 50m 6s\tremaining: 3h 13m 14s\n",
      "3300:\ttest: 0.8612441\ttest1: 0.8269105\tbest: 0.8269105 (3300)\ttotal: 5h 19m 8s\tremaining: 2h 44m 15s\n",
      "3600:\ttest: 0.8616113\ttest1: 0.8271939\tbest: 0.8271969 (3598)\ttotal: 5h 48m 52s\tremaining: 2h 15m 32s\n",
      "3900:\ttest: 0.8618585\ttest1: 0.8273881\tbest: 0.8273881 (3900)\ttotal: 6h 18m\tremaining: 1h 46m 29s\n",
      "4200:\ttest: 0.8620995\ttest1: 0.8275245\tbest: 0.8275261 (4198)\ttotal: 6h 47m 16s\tremaining: 1h 17m 27s\n",
      "4500:\ttest: 0.8623710\ttest1: 0.8277700\tbest: 0.8277729 (4497)\ttotal: 7h 16m 32s\tremaining: 48m 23s\n",
      "4800:\ttest: 0.8625877\ttest1: 0.8278807\tbest: 0.8278850 (4783)\ttotal: 7h 45m 37s\tremaining: 19m 17s\n",
      "4999:\ttest: 0.8626869\ttest1: 0.8279773\tbest: 0.8279780 (4998)\ttotal: 8h 5m 8s\tremaining: 0us\n",
      "\n",
      "bestTest = 0.8279779598\n",
      "bestIteration = 4998\n",
      "\n",
      "Shrink model to first 4999 iterations.\n"
     ]
    },
    {
     "name": "stderr",
     "output_type": "stream",
     "text": [
      "Best trial: 1. Best value: 0.831264:   3%|▎         | 3/100 [10:01:48<402:02:13, 14920.96s/it]"
     ]
    },
    {
     "name": "stdout",
     "output_type": "stream",
     "text": [
      "[I 2024-01-20 11:01:53,540] Trial 2 finished with value: 0.8279779598282231 and parameters: {'learning_rate': 0.01, 'depth': 8, 'boosting_type': 'Ordered', 'bootstrap_type': 'Bayesian', 'l2_leaf_reg': 3, 'random_strength': 1, 'min_data_in_leaf': 3, 'bagging_temperature': 8.287375091519294}. Best is trial 1 with value: 0.831263710351628.\n",
      "0:\ttest: 0.7562063\ttest1: 0.7103322\tbest: 0.7103322 (0)\ttotal: 1.39s\tremaining: 1h 55m 39s\n"
     ]
    },
    {
     "name": "stderr",
     "output_type": "stream",
     "text": [
      "                                                                                              "
     ]
    },
    {
     "name": "stdout",
     "output_type": "stream",
     "text": [
      "Stopped by overfitting detector  (100 iterations wait)\n",
      "\n",
      "bestTest = 0.8249936584\n",
      "bestIteration = 107\n",
      "\n",
      "Shrink model to first 108 iterations.\n"
     ]
    },
    {
     "name": "stderr",
     "output_type": "stream",
     "text": [
      "Best trial: 1. Best value: 0.831264:   4%|▍         | 4/100 [10:05:25<243:05:48, 9116.13s/it] "
     ]
    },
    {
     "name": "stdout",
     "output_type": "stream",
     "text": [
      "[I 2024-01-20 11:05:30,870] Trial 3 finished with value: 0.8249936584041329 and parameters: {'learning_rate': 0.5, 'depth': 2, 'boosting_type': 'Ordered', 'bootstrap_type': 'MVS', 'l2_leaf_reg': 3, 'random_strength': 0.1, 'min_data_in_leaf': 4}. Best is trial 1 with value: 0.831263710351628.\n",
      "0:\ttest: 0.8370776\ttest1: 0.8108981\tbest: 0.8108981 (0)\ttotal: 29.7s\tremaining: 1d 17h 15m 17s\n",
      "Stopped by overfitting detector  (100 iterations wait)\n",
      "\n",
      "bestTest = 0.8328671069\n",
      "bestIteration = 46\n",
      "\n",
      "Shrink model to first 47 iterations.\n"
     ]
    },
    {
     "name": "stderr",
     "output_type": "stream",
     "text": [
      "Best trial: 4. Best value: 0.832867:   5%|▌         | 5/100 [10:39:36<173:19:50, 6568.32s/it]"
     ]
    },
    {
     "name": "stdout",
     "output_type": "stream",
     "text": [
      "[I 2024-01-20 11:39:41,656] Trial 4 finished with value: 0.832867106946102 and parameters: {'learning_rate': 0.1, 'depth': 14, 'boosting_type': 'Ordered', 'bootstrap_type': 'Bernoulli', 'l2_leaf_reg': 0.001, 'random_strength': 1, 'min_data_in_leaf': 4, 'subsample': 0.5577136220482325}. Best is trial 4 with value: 0.832867106946102.\n"
     ]
    },
    {
     "name": "stderr",
     "output_type": "stream",
     "text": [
      "Best trial: 4. Best value: 0.832867:   6%|▌         | 6/100 [10:39:48<113:17:53, 4339.08s/it]"
     ]
    },
    {
     "name": "stdout",
     "output_type": "stream",
     "text": [
      "0:\ttest: 0.7557456\ttest1: 0.7124401\tbest: 0.7124401 (0)\ttotal: 1.38s\tremaining: 1h 55m 12s\n",
      "\n",
      "bestTest = 0.7124401121\n",
      "bestIteration = 0\n",
      "\n",
      "Shrink model to first 1 iterations.\n",
      "[I 2024-01-20 11:39:53,403] Trial 5 pruned. Trial was pruned at iteration 0.\n",
      "0:\ttest: 0.8171626\ttest1: 0.7946844\tbest: 0.7946844 (0)\ttotal: 3.13s\tremaining: 4h 20m 42s\n"
     ]
    },
    {
     "name": "stderr",
     "output_type": "stream",
     "text": [
      "Best trial: 4. Best value: 0.832867:   7%|▋         | 7/100 [10:40:19<75:42:44, 2930.80s/it] "
     ]
    },
    {
     "name": "stdout",
     "output_type": "stream",
     "text": [
      "\n",
      "bestTest = 0.8056279877\n",
      "bestIteration = 6\n",
      "\n",
      "Shrink model to first 7 iterations.\n",
      "[I 2024-01-20 11:40:24,814] Trial 6 pruned. Trial was pruned at iteration 6.\n",
      "0:\ttest: 0.7972000\ttest1: 0.7610458\tbest: 0.7610458 (0)\ttotal: 1.81s\tremaining: 2h 30m 45s\n",
      "300:\ttest: 0.8767337\ttest1: 0.8329207\tbest: 0.8330187 (287)\ttotal: 8m 39s\tremaining: 2h 15m 13s\n",
      "Stopped by overfitting detector  (100 iterations wait)\n",
      "\n",
      "bestTest = 0.8341344883\n",
      "bestIteration = 471\n",
      "\n",
      "Shrink model to first 472 iterations.\n"
     ]
    },
    {
     "name": "stderr",
     "output_type": "stream",
     "text": [
      "Best trial: 7. Best value: 0.834134:   8%|▊         | 8/100 [10:56:59<59:11:22, 2316.12s/it]"
     ]
    },
    {
     "name": "stdout",
     "output_type": "stream",
     "text": [
      "[I 2024-01-20 11:57:04,781] Trial 7 finished with value: 0.8341344882778727 and parameters: {'learning_rate': 0.5, 'depth': 4, 'boosting_type': 'Plain', 'bootstrap_type': 'Bayesian', 'l2_leaf_reg': 0.001, 'random_strength': 0.001, 'min_data_in_leaf': 9, 'bagging_temperature': 3.2078006497173583}. Best is trial 7 with value: 0.8341344882778727.\n",
      "0:\ttest: 0.8267180\ttest1: 0.7975335\tbest: 0.7975335 (0)\ttotal: 3.72s\tremaining: 5h 9m 58s\n",
      "300:\ttest: 0.9058765\ttest1: 0.8386895\tbest: 0.8388697 (294)\ttotal: 20m 22s\tremaining: 5h 18m 12s\n",
      "Stopped by overfitting detector  (100 iterations wait)\n",
      "\n",
      "bestTest = 0.8410956849\n",
      "bestIteration = 490\n",
      "\n",
      "Shrink model to first 491 iterations.\n"
     ]
    },
    {
     "name": "stderr",
     "output_type": "stream",
     "text": [
      "Best trial: 8. Best value: 0.841096:   9%|▉         | 9/100 [11:36:10<58:48:56, 2326.78s/it]"
     ]
    },
    {
     "name": "stdout",
     "output_type": "stream",
     "text": [
      "[I 2024-01-20 12:36:15,000] Trial 8 finished with value: 0.8410956848566263 and parameters: {'learning_rate': 0.1, 'depth': 8, 'boosting_type': 'Plain', 'bootstrap_type': 'Bernoulli', 'l2_leaf_reg': 0.001, 'random_strength': 1e-05, 'min_data_in_leaf': 9, 'subsample': 0.5996807304395161}. Best is trial 8 with value: 0.8410956848566263.\n",
      "0:\ttest: 0.8333079\ttest1: 0.8048231\tbest: 0.8048231 (0)\ttotal: 4.46s\tremaining: 6h 11m 57s\n",
      "Stopped by overfitting detector  (100 iterations wait)\n",
      "\n",
      "bestTest = 0.8337099586\n",
      "bestIteration = 23\n",
      "\n",
      "Shrink model to first 24 iterations.\n"
     ]
    },
    {
     "name": "stderr",
     "output_type": "stream",
     "text": [
      "Best trial: 8. Best value: 0.841096:  10%|█         | 10/100 [11:45:17<44:26:09, 1777.44s/it]"
     ]
    },
    {
     "name": "stdout",
     "output_type": "stream",
     "text": [
      "[I 2024-01-20 12:45:22,375] Trial 9 finished with value: 0.8337099586277859 and parameters: {'learning_rate': 0.5, 'depth': 10, 'boosting_type': 'Plain', 'bootstrap_type': 'Bernoulli', 'l2_leaf_reg': 0.001, 'random_strength': 1e-05, 'min_data_in_leaf': 7, 'subsample': 0.10455542546159682}. Best is trial 8 with value: 0.8410956848566263.\n",
      "0:\ttest: 0.8365620\ttest1: 0.8075560\tbest: 0.8075560 (0)\ttotal: 7.23s\tremaining: 10h 2m 5s\n",
      "Stopped by overfitting detector  (100 iterations wait)\n",
      "\n",
      "bestTest = 0.8411109583\n",
      "bestIteration = 112\n",
      "\n",
      "Shrink model to first 113 iterations.\n"
     ]
    },
    {
     "name": "stderr",
     "output_type": "stream",
     "text": [
      "Best trial: 10. Best value: 0.841111:  11%|█         | 11/100 [12:13:47<43:26:07, 1756.93s/it]"
     ]
    },
    {
     "name": "stdout",
     "output_type": "stream",
     "text": [
      "[I 2024-01-20 13:13:52,821] Trial 10 finished with value: 0.8411109582776584 and parameters: {'learning_rate': 0.1, 'depth': 12, 'boosting_type': 'Plain', 'bootstrap_type': 'MVS', 'l2_leaf_reg': 1, 'random_strength': 1e-05, 'min_data_in_leaf': 10}. Best is trial 10 with value: 0.8411109582776584.\n",
      "0:\ttest: 0.8365620\ttest1: 0.8075560\tbest: 0.8075560 (0)\ttotal: 7.25s\tremaining: 10h 3m 51s\n",
      "Stopped by overfitting detector  (100 iterations wait)\n",
      "\n",
      "bestTest = 0.8411109583\n",
      "bestIteration = 112\n",
      "\n",
      "Shrink model to first 113 iterations.\n"
     ]
    },
    {
     "name": "stderr",
     "output_type": "stream",
     "text": [
      "Best trial: 10. Best value: 0.841111:  12%|█▏        | 12/100 [12:42:10<42:32:43, 1740.50s/it]"
     ]
    },
    {
     "name": "stdout",
     "output_type": "stream",
     "text": [
      "[I 2024-01-20 13:42:15,725] Trial 11 finished with value: 0.8411109582776584 and parameters: {'learning_rate': 0.1, 'depth': 12, 'boosting_type': 'Plain', 'bootstrap_type': 'MVS', 'l2_leaf_reg': 1, 'random_strength': 1e-05, 'min_data_in_leaf': 10}. Best is trial 10 with value: 0.8411109582776584.\n",
      "0:\ttest: 0.8384170\ttest1: 0.8099137\tbest: 0.8099137 (0)\ttotal: 8.26s\tremaining: 11h 28m 34s\n",
      "Stopped by overfitting detector  (100 iterations wait)\n",
      "\n",
      "bestTest = 0.840326744\n",
      "bestIteration = 92\n",
      "\n",
      "Shrink model to first 93 iterations.\n"
     ]
    },
    {
     "name": "stderr",
     "output_type": "stream",
     "text": [
      "Best trial: 10. Best value: 0.841111:  13%|█▎        | 13/100 [13:11:18<42:06:54, 1742.69s/it]"
     ]
    },
    {
     "name": "stdout",
     "output_type": "stream",
     "text": [
      "[I 2024-01-20 14:11:23,460] Trial 12 finished with value: 0.8403267440281816 and parameters: {'learning_rate': 0.1, 'depth': 13, 'boosting_type': 'Plain', 'bootstrap_type': 'MVS', 'l2_leaf_reg': 1, 'random_strength': 1e-05, 'min_data_in_leaf': 10}. Best is trial 10 with value: 0.8411109582776584.\n",
      "0:\ttest: 0.8349060\ttest1: 0.8059446\tbest: 0.8059446 (0)\ttotal: 6.23s\tremaining: 8h 39m 16s\n",
      "Stopped by overfitting detector  (100 iterations wait)\n",
      "\n",
      "bestTest = 0.8423748115\n",
      "bestIteration = 168\n",
      "\n",
      "Shrink model to first 169 iterations.\n"
     ]
    },
    {
     "name": "stderr",
     "output_type": "stream",
     "text": [
      "Best trial: 13. Best value: 0.842375:  14%|█▍        | 14/100 [13:42:33<42:35:15, 1782.74s/it]"
     ]
    },
    {
     "name": "stdout",
     "output_type": "stream",
     "text": [
      "[I 2024-01-20 14:42:38,742] Trial 13 finished with value: 0.8423748115384891 and parameters: {'learning_rate': 0.1, 'depth': 11, 'boosting_type': 'Plain', 'bootstrap_type': 'MVS', 'l2_leaf_reg': 1, 'random_strength': 1e-05, 'min_data_in_leaf': 7}. Best is trial 13 with value: 0.8423748115384891.\n",
      "0:\ttest: 0.8349060\ttest1: 0.8059446\tbest: 0.8059446 (0)\ttotal: 6.24s\tremaining: 8h 39m 36s\n",
      "Stopped by overfitting detector  (100 iterations wait)\n",
      "\n",
      "bestTest = 0.840332907\n",
      "bestIteration = 138\n",
      "\n",
      "Shrink model to first 139 iterations.\n"
     ]
    },
    {
     "name": "stderr",
     "output_type": "stream",
     "text": [
      "Best trial: 13. Best value: 0.842375:  15%|█▌        | 15/100 [14:10:29<41:20:01, 1750.61s/it]"
     ]
    },
    {
     "name": "stdout",
     "output_type": "stream",
     "text": [
      "[I 2024-01-20 15:10:34,882] Trial 14 finished with value: 0.8403329069875456 and parameters: {'learning_rate': 0.1, 'depth': 11, 'boosting_type': 'Plain', 'bootstrap_type': 'MVS', 'l2_leaf_reg': 1, 'random_strength': 0.001, 'min_data_in_leaf': 7}. Best is trial 13 with value: 0.8423748115384891.\n",
      "0:\ttest: 0.8414064\ttest1: 0.8118048\tbest: 0.8118048 (0)\ttotal: 12.2s\tremaining: 16h 54m\n"
     ]
    },
    {
     "name": "stderr",
     "output_type": "stream",
     "text": [
      "Best trial: 13. Best value: 0.842375:  16%|█▌        | 16/100 [14:11:27<28:57:20, 1240.96s/it]"
     ]
    },
    {
     "name": "stdout",
     "output_type": "stream",
     "text": [
      "\n",
      "bestTest = 0.8126517071\n",
      "bestIteration = 3\n",
      "\n",
      "Shrink model to first 4 iterations.\n",
      "[I 2024-01-20 15:11:32,319] Trial 15 pruned. Trial was pruned at iteration 3.\n"
     ]
    },
    {
     "name": "stderr",
     "output_type": "stream",
     "text": [
      "Best trial: 13. Best value: 0.842375:  17%|█▋        | 17/100 [14:11:43<20:07:18, 872.75s/it] "
     ]
    },
    {
     "name": "stdout",
     "output_type": "stream",
     "text": [
      "0:\ttest: 0.8335362\ttest1: 0.8040776\tbest: 0.8040776 (0)\ttotal: 5.55s\tremaining: 7h 42m 5s\n",
      "\n",
      "bestTest = 0.8040775568\n",
      "bestIteration = 0\n",
      "\n",
      "Shrink model to first 1 iterations.\n",
      "[I 2024-01-20 15:11:48,773] Trial 16 pruned. Trial was pruned at iteration 0.\n"
     ]
    },
    {
     "name": "stderr",
     "output_type": "stream",
     "text": [
      "Best trial: 13. Best value: 0.842375:  18%|█▊        | 18/100 [14:11:57<13:59:57, 614.61s/it]"
     ]
    },
    {
     "name": "stdout",
     "output_type": "stream",
     "text": [
      "0:\ttest: 0.8128194\ttest1: 0.7875460\tbest: 0.7875460 (0)\ttotal: 2.75s\tremaining: 3h 49m 14s\n",
      "\n",
      "bestTest = 0.7875459989\n",
      "bestIteration = 0\n",
      "\n",
      "Shrink model to first 1 iterations.\n",
      "[I 2024-01-20 15:12:02,447] Trial 17 pruned. Trial was pruned at iteration 0.\n"
     ]
    },
    {
     "name": "stderr",
     "output_type": "stream",
     "text": [
      "Best trial: 13. Best value: 0.842375:  19%|█▉        | 19/100 [14:12:13<9:47:08, 434.92s/it] "
     ]
    },
    {
     "name": "stdout",
     "output_type": "stream",
     "text": [
      "0:\ttest: 0.8329348\ttest1: 0.8044401\tbest: 0.8044401 (0)\ttotal: 5.43s\tremaining: 7h 32m 26s\n",
      "\n",
      "bestTest = 0.8044400996\n",
      "bestIteration = 0\n",
      "\n",
      "Shrink model to first 1 iterations.\n",
      "[I 2024-01-20 15:12:18,773] Trial 18 pruned. Trial was pruned at iteration 0.\n",
      "0:\ttest: 0.8365620\ttest1: 0.8075560\tbest: 0.8075560 (0)\ttotal: 7.11s\tremaining: 9h 52m 5s\n"
     ]
    },
    {
     "name": "stderr",
     "output_type": "stream",
     "text": [
      "Best trial: 13. Best value: 0.842375:  20%|██        | 20/100 [14:14:24<7:38:08, 343.60s/it]"
     ]
    },
    {
     "name": "stdout",
     "output_type": "stream",
     "text": [
      "\n",
      "bestTest = 0.825659124\n",
      "bestIteration = 15\n",
      "\n",
      "Shrink model to first 16 iterations.\n",
      "[I 2024-01-20 15:14:29,542] Trial 19 pruned. Trial was pruned at iteration 16.\n",
      "0:\ttest: 0.8413477\ttest1: 0.8117490\tbest: 0.8117490 (0)\ttotal: 12.2s\tremaining: 16h 53m 17s\n"
     ]
    },
    {
     "name": "stderr",
     "output_type": "stream",
     "text": [
      "Best trial: 13. Best value: 0.842375:  21%|██        | 21/100 [14:15:22<5:39:34, 257.91s/it]"
     ]
    },
    {
     "name": "stdout",
     "output_type": "stream",
     "text": [
      "\n",
      "bestTest = 0.8125586374\n",
      "bestIteration = 3\n",
      "\n",
      "Shrink model to first 4 iterations.\n",
      "[I 2024-01-20 15:15:27,654] Trial 20 pruned. Trial was pruned at iteration 3.\n",
      "0:\ttest: 0.8384170\ttest1: 0.8099137\tbest: 0.8099137 (0)\ttotal: 8.37s\tremaining: 11h 37m 23s\n",
      "Stopped by overfitting detector  (100 iterations wait)\n",
      "\n",
      "bestTest = 0.840326744\n",
      "bestIteration = 92\n",
      "\n",
      "Shrink model to first 93 iterations.\n"
     ]
    },
    {
     "name": "stderr",
     "output_type": "stream",
     "text": [
      "Best trial: 13. Best value: 0.842375:  22%|██▏       | 22/100 [14:44:21<15:13:05, 702.37s/it]"
     ]
    },
    {
     "name": "stdout",
     "output_type": "stream",
     "text": [
      "[I 2024-01-20 15:44:26,536] Trial 21 finished with value: 0.8403267440281816 and parameters: {'learning_rate': 0.1, 'depth': 13, 'boosting_type': 'Plain', 'bootstrap_type': 'MVS', 'l2_leaf_reg': 1, 'random_strength': 1e-05, 'min_data_in_leaf': 10}. Best is trial 13 with value: 0.8423748115384891.\n",
      "0:\ttest: 0.8365620\ttest1: 0.8075560\tbest: 0.8075560 (0)\ttotal: 7.19s\tremaining: 9h 59m 20s\n",
      "Stopped by overfitting detector  (100 iterations wait)\n",
      "\n",
      "bestTest = 0.8411109583\n",
      "bestIteration = 112\n",
      "\n",
      "Shrink model to first 113 iterations.\n"
     ]
    },
    {
     "name": "stderr",
     "output_type": "stream",
     "text": [
      "Best trial: 13. Best value: 0.842375:  23%|██▎       | 23/100 [15:12:48<21:28:02, 1003.67s/it]"
     ]
    },
    {
     "name": "stdout",
     "output_type": "stream",
     "text": [
      "[I 2024-01-20 16:12:52,945] Trial 22 finished with value: 0.8411109582776584 and parameters: {'learning_rate': 0.1, 'depth': 12, 'boosting_type': 'Plain', 'bootstrap_type': 'MVS', 'l2_leaf_reg': 1, 'random_strength': 1e-05, 'min_data_in_leaf': 10}. Best is trial 13 with value: 0.8423748115384891.\n",
      "0:\ttest: 0.8349060\ttest1: 0.8059446\tbest: 0.8059446 (0)\ttotal: 6.28s\tremaining: 8h 43m 14s\n"
     ]
    },
    {
     "name": "stderr",
     "output_type": "stream",
     "text": [
      "Best trial: 13. Best value: 0.842375:  23%|██▎       | 23/100 [15:15:26<21:28:02, 1003.67s/it]"
     ]
    },
    {
     "name": "stdout",
     "output_type": "stream",
     "text": [
      "\n",
      "bestTest = 0.8270397163\n",
      "bestIteration = 22\n",
      "\n",
      "Shrink model to first 23 iterations.\n",
      "[I 2024-01-20 16:15:31,733] Trial 23 pruned. Trial was pruned at iteration 22.\n"
     ]
    },
    {
     "name": "stderr",
     "output_type": "stream",
     "text": [
      "Best trial: 13. Best value: 0.842375:  25%|██▌       | 25/100 [15:15:41<11:02:01, 529.63s/it] "
     ]
    },
    {
     "name": "stdout",
     "output_type": "stream",
     "text": [
      "0:\ttest: 0.8314476\ttest1: 0.8006151\tbest: 0.8006151 (0)\ttotal: 4.55s\tremaining: 6h 19m 17s\n",
      "\n",
      "bestTest = 0.8006151348\n",
      "bestIteration = 0\n",
      "\n",
      "Shrink model to first 1 iterations.\n",
      "[I 2024-01-20 16:15:46,890] Trial 24 pruned. Trial was pruned at iteration 0.\n"
     ]
    },
    {
     "name": "stderr",
     "output_type": "stream",
     "text": [
      "Best trial: 13. Best value: 0.842375:  26%|██▌       | 26/100 [15:16:01<7:44:35, 376.69s/it] "
     ]
    },
    {
     "name": "stdout",
     "output_type": "stream",
     "text": [
      "0:\ttest: 0.8120658\ttest1: 0.7785981\tbest: 0.7785981 (0)\ttotal: 9.07s\tremaining: 12h 35m 50s\n",
      "\n",
      "bestTest = 0.7785980518\n",
      "bestIteration = 0\n",
      "\n",
      "Shrink model to first 1 iterations.\n",
      "[I 2024-01-20 16:16:06,778] Trial 25 pruned. Trial was pruned at iteration 0.\n",
      "0:\ttest: 0.8365620\ttest1: 0.8075560\tbest: 0.8075560 (0)\ttotal: 7.12s\tremaining: 9h 52m 49s\n"
     ]
    },
    {
     "name": "stderr",
     "output_type": "stream",
     "text": [
      "Best trial: 13. Best value: 0.842375:  27%|██▋       | 27/100 [15:16:34<5:32:35, 273.36s/it]"
     ]
    },
    {
     "name": "stdout",
     "output_type": "stream",
     "text": [
      "\n",
      "bestTest = 0.8094353568\n",
      "bestIteration = 2\n",
      "\n",
      "Shrink model to first 3 iterations.\n",
      "[I 2024-01-20 16:16:39,056] Trial 26 pruned. Trial was pruned at iteration 2.\n",
      "0:\ttest: 0.8380403\ttest1: 0.8129319\tbest: 0.8129319 (0)\ttotal: 30.8s\tremaining: 1d 18h 43m 41s\n"
     ]
    },
    {
     "name": "stderr",
     "output_type": "stream",
     "text": [
      "Best trial: 13. Best value: 0.842375:  28%|██▊       | 28/100 [15:24:52<6:48:57, 340.80s/it]"
     ]
    },
    {
     "name": "stdout",
     "output_type": "stream",
     "text": [
      "\n",
      "bestTest = 0.8256069622\n",
      "bestIteration = 14\n",
      "\n",
      "Shrink model to first 15 iterations.\n",
      "[I 2024-01-20 16:24:57,208] Trial 27 pruned. Trial was pruned at iteration 16.\n",
      "0:\ttest: 0.8349060\ttest1: 0.8059446\tbest: 0.8059446 (0)\ttotal: 6.22s\tremaining: 8h 38m 42s\n"
     ]
    },
    {
     "name": "stderr",
     "output_type": "stream",
     "text": [
      "Best trial: 13. Best value: 0.842375:  29%|██▉       | 29/100 [15:25:14<4:50:09, 245.20s/it]"
     ]
    },
    {
     "name": "stdout",
     "output_type": "stream",
     "text": [
      "\n",
      "bestTest = 0.8086899513\n",
      "bestIteration = 1\n",
      "\n",
      "Shrink model to first 2 iterations.\n",
      "[I 2024-01-20 16:25:19,344] Trial 28 pruned. Trial was pruned at iteration 1.\n"
     ]
    },
    {
     "name": "stderr",
     "output_type": "stream",
     "text": [
      "Best trial: 13. Best value: 0.842375:  30%|███       | 30/100 [15:25:28<3:25:03, 175.77s/it]"
     ]
    },
    {
     "name": "stdout",
     "output_type": "stream",
     "text": [
      "0:\ttest: 0.8138374\ttest1: 0.7890284\tbest: 0.7890284 (0)\ttotal: 2.9s\tremaining: 4h 1m 34s\n",
      "\n",
      "bestTest = 0.7890283693\n",
      "bestIteration = 0\n",
      "\n",
      "Shrink model to first 1 iterations.\n",
      "[I 2024-01-20 16:25:33,108] Trial 29 pruned. Trial was pruned at iteration 0.\n"
     ]
    },
    {
     "name": "stderr",
     "output_type": "stream",
     "text": [
      "Best trial: 13. Best value: 0.842375:  31%|███       | 31/100 [15:25:43<2:26:48, 127.65s/it]"
     ]
    },
    {
     "name": "stdout",
     "output_type": "stream",
     "text": [
      "0:\ttest: 0.8314476\ttest1: 0.8006151\tbest: 0.8006151 (0)\ttotal: 4.46s\tremaining: 6h 12m 3s\n",
      "\n",
      "bestTest = 0.8006151348\n",
      "bestIteration = 0\n",
      "\n",
      "Shrink model to first 1 iterations.\n",
      "[I 2024-01-20 16:25:48,505] Trial 30 pruned. Trial was pruned at iteration 0.\n",
      "0:\ttest: 0.8365620\ttest1: 0.8075560\tbest: 0.8075560 (0)\ttotal: 7.11s\tremaining: 9h 52m 6s\n",
      "Stopped by overfitting detector  (100 iterations wait)\n",
      "\n",
      "bestTest = 0.8411109583\n",
      "bestIteration = 112\n",
      "\n",
      "Shrink model to first 113 iterations.\n"
     ]
    },
    {
     "name": "stderr",
     "output_type": "stream",
     "text": [
      "Best trial: 13. Best value: 0.842375:  32%|███▏      | 32/100 [15:54:05<11:20:05, 600.09s/it]"
     ]
    },
    {
     "name": "stdout",
     "output_type": "stream",
     "text": [
      "[I 2024-01-20 16:54:10,919] Trial 31 finished with value: 0.8411109582776584 and parameters: {'learning_rate': 0.1, 'depth': 12, 'boosting_type': 'Plain', 'bootstrap_type': 'MVS', 'l2_leaf_reg': 1, 'random_strength': 1e-05, 'min_data_in_leaf': 10}. Best is trial 13 with value: 0.8423748115384891.\n",
      "0:\ttest: 0.8396967\ttest1: 0.8113513\tbest: 0.8113513 (0)\ttotal: 10.1s\tremaining: 13h 58m 12s\n",
      "Stopped by overfitting detector  (100 iterations wait)\n",
      "\n",
      "bestTest = 0.8404573273\n",
      "bestIteration = 92\n",
      "\n",
      "Shrink model to first 93 iterations.\n"
     ]
    },
    {
     "name": "stderr",
     "output_type": "stream",
     "text": [
      "Best trial: 13. Best value: 0.842375:  33%|███▎      | 33/100 [16:28:32<19:21:17, 1039.96s/it]"
     ]
    },
    {
     "name": "stdout",
     "output_type": "stream",
     "text": [
      "[I 2024-01-20 17:28:37,249] Trial 32 finished with value: 0.8404573273120923 and parameters: {'learning_rate': 0.1, 'depth': 14, 'boosting_type': 'Plain', 'bootstrap_type': 'MVS', 'l2_leaf_reg': 1, 'random_strength': 1e-05, 'min_data_in_leaf': 10}. Best is trial 13 with value: 0.8423748115384891.\n",
      "0:\ttest: 0.8365620\ttest1: 0.8075560\tbest: 0.8075560 (0)\ttotal: 7.35s\tremaining: 10h 12m 28s\n",
      "Stopped by overfitting detector  (100 iterations wait)\n",
      "\n",
      "bestTest = 0.8411109583\n",
      "bestIteration = 112\n",
      "\n",
      "Shrink model to first 113 iterations.\n"
     ]
    },
    {
     "name": "stderr",
     "output_type": "stream",
     "text": [
      "Best trial: 13. Best value: 0.842375:  34%|███▍      | 34/100 [16:56:57<22:43:38, 1239.68s/it]"
     ]
    },
    {
     "name": "stdout",
     "output_type": "stream",
     "text": [
      "[I 2024-01-20 17:57:02,927] Trial 33 finished with value: 0.8411109582776584 and parameters: {'learning_rate': 0.1, 'depth': 12, 'boosting_type': 'Plain', 'bootstrap_type': 'MVS', 'l2_leaf_reg': 1, 'random_strength': 1e-05, 'min_data_in_leaf': 10}. Best is trial 13 with value: 0.8423748115384891.\n"
     ]
    },
    {
     "name": "stderr",
     "output_type": "stream",
     "text": [
      "Best trial: 13. Best value: 0.842375:  35%|███▌      | 35/100 [16:57:14<15:45:33, 872.82s/it] "
     ]
    },
    {
     "name": "stdout",
     "output_type": "stream",
     "text": [
      "0:\ttest: 0.8349400\ttest1: 0.8060380\tbest: 0.8060380 (0)\ttotal: 6.28s\tremaining: 8h 43m 23s\n",
      "\n",
      "bestTest = 0.8060380031\n",
      "bestIteration = 0\n",
      "\n",
      "Shrink model to first 1 iterations.\n",
      "[I 2024-01-20 17:57:19,739] Trial 34 pruned. Trial was pruned at iteration 0.\n"
     ]
    },
    {
     "name": "stderr",
     "output_type": "stream",
     "text": [
      "Best trial: 13. Best value: 0.842375:  36%|███▌      | 36/100 [16:57:31<10:57:09, 616.09s/it]"
     ]
    },
    {
     "name": "stdout",
     "output_type": "stream",
     "text": [
      "0:\ttest: 0.8314476\ttest1: 0.8006151\tbest: 0.8006151 (0)\ttotal: 6.46s\tremaining: 8h 57m 58s\n",
      "\n",
      "bestTest = 0.8006151348\n",
      "bestIteration = 0\n",
      "\n",
      "Shrink model to first 1 iterations.\n",
      "[I 2024-01-20 17:57:36,782] Trial 35 pruned. Trial was pruned at iteration 0.\n",
      "0:\ttest: 0.8373946\ttest1: 0.8117240\tbest: 0.8117240 (0)\ttotal: 8.59s\tremaining: 11h 55m 21s\n",
      "\n",
      "bestTest = 0.8337058053\n",
      "bestIteration = 23\n",
      "\n",
      "Shrink model to first 24 iterations.\n"
     ]
    },
    {
     "name": "stderr",
     "output_type": "stream",
     "text": [
      "Best trial: 13. Best value: 0.842375:  37%|███▋      | 37/100 [17:04:45<9:49:28, 561.40s/it] "
     ]
    },
    {
     "name": "stdout",
     "output_type": "stream",
     "text": [
      "[I 2024-01-20 18:04:50,577] Trial 36 pruned. Trial was pruned at iteration 44.\n"
     ]
    },
    {
     "name": "stderr",
     "output_type": "stream",
     "text": [
      "Best trial: 13. Best value: 0.842375:  38%|███▊      | 38/100 [17:05:28<6:59:21, 405.83s/it]"
     ]
    },
    {
     "name": "stdout",
     "output_type": "stream",
     "text": [
      "0:\ttest: 0.8315305\ttest1: 0.8030785\tbest: 0.8030785 (0)\ttotal: 32s\tremaining: 1d 20h 26m 59s\n",
      "\n",
      "bestTest = 0.8030785322\n",
      "bestIteration = 0\n",
      "\n",
      "Shrink model to first 1 iterations.\n",
      "[I 2024-01-20 18:05:33,415] Trial 37 pruned. Trial was pruned at iteration 0.\n"
     ]
    },
    {
     "name": "stderr",
     "output_type": "stream",
     "text": [
      "Best trial: 13. Best value: 0.842375:  39%|███▉      | 39/100 [17:05:44<4:53:45, 288.94s/it]"
     ]
    },
    {
     "name": "stdout",
     "output_type": "stream",
     "text": [
      "0:\ttest: 0.8335360\ttest1: 0.8040776\tbest: 0.8040776 (0)\ttotal: 5.54s\tremaining: 7h 41m 16s\n",
      "\n",
      "bestTest = 0.8040775568\n",
      "bestIteration = 0\n",
      "\n",
      "Shrink model to first 1 iterations.\n",
      "[I 2024-01-20 18:05:49,604] Trial 38 pruned. Trial was pruned at iteration 0.\n"
     ]
    },
    {
     "name": "stderr",
     "output_type": "stream",
     "text": [
      "Best trial: 13. Best value: 0.842375:  40%|████      | 40/100 [17:05:56<3:25:49, 205.83s/it]"
     ]
    },
    {
     "name": "stdout",
     "output_type": "stream",
     "text": [
      "0:\ttest: 0.6747601\ttest1: 0.6540909\tbest: 0.6540909 (0)\ttotal: 912ms\tremaining: 1h 15m 56s\n",
      "\n",
      "bestTest = 0.6540908652\n",
      "bestIteration = 0\n",
      "\n",
      "Shrink model to first 1 iterations.\n",
      "[I 2024-01-20 18:06:01,508] Trial 39 pruned. Trial was pruned at iteration 0.\n"
     ]
    },
    {
     "name": "stderr",
     "output_type": "stream",
     "text": [
      "Best trial: 13. Best value: 0.842375:  41%|████      | 41/100 [17:06:10<2:25:53, 148.37s/it]"
     ]
    },
    {
     "name": "stdout",
     "output_type": "stream",
     "text": [
      "0:\ttest: 0.8271466\ttest1: 0.7999282\tbest: 0.7999282 (0)\ttotal: 3.9s\tremaining: 5h 25m 22s\n",
      "\n",
      "bestTest = 0.7999282328\n",
      "bestIteration = 0\n",
      "\n",
      "Shrink model to first 1 iterations.\n",
      "[I 2024-01-20 18:06:15,815] Trial 40 pruned. Trial was pruned at iteration 0.\n",
      "0:\ttest: 0.8365620\ttest1: 0.8075560\tbest: 0.8075560 (0)\ttotal: 7.23s\tremaining: 10h 2m 5s\n",
      "Stopped by overfitting detector  (100 iterations wait)\n",
      "\n",
      "bestTest = 0.8411109583\n",
      "bestIteration = 112\n",
      "\n",
      "Shrink model to first 113 iterations.\n"
     ]
    },
    {
     "name": "stderr",
     "output_type": "stream",
     "text": [
      "Best trial: 13. Best value: 0.842375:  42%|████▏     | 42/100 [17:34:39<9:55:52, 616.42s/it]"
     ]
    },
    {
     "name": "stdout",
     "output_type": "stream",
     "text": [
      "[I 2024-01-20 18:34:44,363] Trial 41 finished with value: 0.8411109582776584 and parameters: {'learning_rate': 0.1, 'depth': 12, 'boosting_type': 'Plain', 'bootstrap_type': 'MVS', 'l2_leaf_reg': 1, 'random_strength': 1e-05, 'min_data_in_leaf': 10}. Best is trial 13 with value: 0.8423748115384891.\n",
      "0:\ttest: 0.8365620\ttest1: 0.8075560\tbest: 0.8075560 (0)\ttotal: 7.17s\tremaining: 9h 57m 26s\n",
      "Stopped by overfitting detector  (100 iterations wait)\n",
      "\n",
      "bestTest = 0.8411109583\n",
      "bestIteration = 112\n",
      "\n",
      "Shrink model to first 113 iterations.\n"
     ]
    },
    {
     "name": "stderr",
     "output_type": "stream",
     "text": [
      "Best trial: 13. Best value: 0.842375:  43%|████▎     | 43/100 [18:03:09<14:57:17, 944.52s/it]"
     ]
    },
    {
     "name": "stdout",
     "output_type": "stream",
     "text": [
      "[I 2024-01-20 19:03:14,424] Trial 42 finished with value: 0.8411109582776584 and parameters: {'learning_rate': 0.1, 'depth': 12, 'boosting_type': 'Plain', 'bootstrap_type': 'MVS', 'l2_leaf_reg': 1, 'random_strength': 1e-05, 'min_data_in_leaf': 10}. Best is trial 13 with value: 0.8423748115384891.\n",
      "0:\ttest: 0.8384170\ttest1: 0.8099137\tbest: 0.8099137 (0)\ttotal: 8.31s\tremaining: 11h 32m 10s\n",
      "Stopped by overfitting detector  (100 iterations wait)\n",
      "\n",
      "bestTest = 0.840326744\n",
      "bestIteration = 92\n",
      "\n",
      "Shrink model to first 93 iterations.\n"
     ]
    },
    {
     "name": "stderr",
     "output_type": "stream",
     "text": [
      "Best trial: 13. Best value: 0.842375:  44%|████▍     | 44/100 [18:32:07<18:23:44, 1182.58s/it]"
     ]
    },
    {
     "name": "stdout",
     "output_type": "stream",
     "text": [
      "[I 2024-01-20 19:32:12,476] Trial 43 finished with value: 0.8403267440281816 and parameters: {'learning_rate': 0.1, 'depth': 13, 'boosting_type': 'Plain', 'bootstrap_type': 'MVS', 'l2_leaf_reg': 1, 'random_strength': 1e-05, 'min_data_in_leaf': 9}. Best is trial 13 with value: 0.8423748115384891.\n"
     ]
    },
    {
     "name": "stderr",
     "output_type": "stream",
     "text": [
      "Best trial: 13. Best value: 0.842375:  45%|████▌     | 45/100 [18:32:24<12:43:26, 832.84s/it] "
     ]
    },
    {
     "name": "stdout",
     "output_type": "stream",
     "text": [
      "0:\ttest: 0.8349060\ttest1: 0.8059446\tbest: 0.8059446 (0)\ttotal: 6.26s\tremaining: 8h 41m 24s\n",
      "\n",
      "bestTest = 0.8059445762\n",
      "bestIteration = 0\n",
      "\n",
      "Shrink model to first 1 iterations.\n",
      "[I 2024-01-20 19:32:29,269] Trial 44 pruned. Trial was pruned at iteration 0.\n"
     ]
    },
    {
     "name": "stderr",
     "output_type": "stream",
     "text": [
      "Best trial: 13. Best value: 0.842375:  46%|████▌     | 46/100 [18:32:46<8:50:46, 589.74s/it] "
     ]
    },
    {
     "name": "stdout",
     "output_type": "stream",
     "text": [
      "0:\ttest: 0.8260981\ttest1: 0.7950297\tbest: 0.7950297 (0)\ttotal: 11.8s\tremaining: 16h 21m 56s\n",
      "\n",
      "bestTest = 0.7950296626\n",
      "bestIteration = 0\n",
      "\n",
      "Shrink model to first 1 iterations.\n",
      "[I 2024-01-20 19:32:51,777] Trial 45 pruned. Trial was pruned at iteration 0.\n",
      "0:\ttest: 0.8364339\ttest1: 0.8090584\tbest: 0.8090584 (0)\ttotal: 6.13s\tremaining: 8h 30m 50s\n"
     ]
    },
    {
     "name": "stderr",
     "output_type": "stream",
     "text": [
      "Best trial: 13. Best value: 0.842375:  47%|████▋     | 47/100 [18:33:40<6:18:56, 428.99s/it]"
     ]
    },
    {
     "name": "stdout",
     "output_type": "stream",
     "text": [
      "\n",
      "bestTest = 0.8214457588\n",
      "bestIteration = 6\n",
      "\n",
      "Shrink model to first 7 iterations.\n",
      "[I 2024-01-20 19:33:45,675] Trial 46 pruned. Trial was pruned at iteration 6.\n",
      "0:\ttest: 0.8396636\ttest1: 0.8116175\tbest: 0.8116175 (0)\ttotal: 53.2s\tremaining: 3d 1h 54m 20s\n"
     ]
    },
    {
     "name": "stderr",
     "output_type": "stream",
     "text": [
      "Best trial: 13. Best value: 0.842375:  48%|████▊     | 48/100 [18:35:39<4:51:03, 335.84s/it]"
     ]
    },
    {
     "name": "stdout",
     "output_type": "stream",
     "text": [
      "\n",
      "bestTest = 0.8118358295\n",
      "bestIteration = 1\n",
      "\n",
      "Shrink model to first 2 iterations.\n",
      "[I 2024-01-20 19:35:44,166] Trial 47 pruned. Trial was pruned at iteration 1.\n"
     ]
    },
    {
     "name": "stderr",
     "output_type": "stream",
     "text": [
      "Best trial: 13. Best value: 0.842375:  49%|████▉     | 49/100 [18:35:55<3:23:58, 239.98s/it]"
     ]
    },
    {
     "name": "stdout",
     "output_type": "stream",
     "text": [
      "0:\ttest: 0.8327554\ttest1: 0.8037394\tbest: 0.8037394 (0)\ttotal: 5.45s\tremaining: 7h 33m 45s\n",
      "\n",
      "bestTest = 0.8037393979\n",
      "bestIteration = 0\n",
      "\n",
      "Shrink model to first 1 iterations.\n",
      "[I 2024-01-20 19:36:00,469] Trial 48 pruned. Trial was pruned at iteration 0.\n"
     ]
    },
    {
     "name": "stderr",
     "output_type": "stream",
     "text": [
      "Best trial: 13. Best value: 0.842375:  50%|█████     | 50/100 [18:36:07<2:23:02, 171.64s/it]"
     ]
    },
    {
     "name": "stdout",
     "output_type": "stream",
     "text": [
      "0:\ttest: 0.7976412\ttest1: 0.7583573\tbest: 0.7583573 (0)\ttotal: 1.72s\tremaining: 2h 23m 23s\n",
      "\n",
      "bestTest = 0.7583572855\n",
      "bestIteration = 0\n",
      "\n",
      "Shrink model to first 1 iterations.\n",
      "[I 2024-01-20 19:36:12,654] Trial 49 pruned. Trial was pruned at iteration 0.\n"
     ]
    },
    {
     "name": "stderr",
     "output_type": "stream",
     "text": [
      "Best trial: 13. Best value: 0.842375:  51%|█████     | 51/100 [18:36:21<1:41:34, 124.38s/it]"
     ]
    },
    {
     "name": "stdout",
     "output_type": "stream",
     "text": [
      "0:\ttest: 0.8176054\ttest1: 0.7946863\tbest: 0.7946863 (0)\ttotal: 3.28s\tremaining: 4h 33m 14s\n",
      "\n",
      "bestTest = 0.7946862786\n",
      "bestIteration = 0\n",
      "\n",
      "Shrink model to first 1 iterations.\n",
      "[I 2024-01-20 19:36:26,745] Trial 50 pruned. Trial was pruned at iteration 0.\n",
      "0:\ttest: 0.8365620\ttest1: 0.8075560\tbest: 0.8075560 (0)\ttotal: 7.33s\tremaining: 10h 10m 44s\n",
      "Stopped by overfitting detector  (100 iterations wait)\n",
      "\n",
      "bestTest = 0.8411109583\n",
      "bestIteration = 112\n",
      "\n",
      "Shrink model to first 113 iterations.\n"
     ]
    },
    {
     "name": "stderr",
     "output_type": "stream",
     "text": [
      "Best trial: 13. Best value: 0.842375:  52%|█████▏    | 52/100 [19:04:50<7:59:49, 599.78s/it]"
     ]
    },
    {
     "name": "stdout",
     "output_type": "stream",
     "text": [
      "[I 2024-01-20 20:04:55,807] Trial 51 finished with value: 0.8411109582776584 and parameters: {'learning_rate': 0.1, 'depth': 12, 'boosting_type': 'Plain', 'bootstrap_type': 'MVS', 'l2_leaf_reg': 1, 'random_strength': 1e-05, 'min_data_in_leaf': 10}. Best is trial 13 with value: 0.8423748115384891.\n",
      "0:\ttest: 0.8384170\ttest1: 0.8099137\tbest: 0.8099137 (0)\ttotal: 8.59s\tremaining: 11h 55m 29s\n",
      "Stopped by overfitting detector  (100 iterations wait)\n",
      "\n",
      "bestTest = 0.840326744\n",
      "bestIteration = 92\n",
      "\n",
      "Shrink model to first 93 iterations.\n"
     ]
    },
    {
     "name": "stderr",
     "output_type": "stream",
     "text": [
      "Best trial: 13. Best value: 0.842375:  53%|█████▎    | 53/100 [19:33:52<12:18:05, 942.25s/it]"
     ]
    },
    {
     "name": "stdout",
     "output_type": "stream",
     "text": [
      "[I 2024-01-20 20:33:57,165] Trial 52 finished with value: 0.8403267440281816 and parameters: {'learning_rate': 0.1, 'depth': 13, 'boosting_type': 'Plain', 'bootstrap_type': 'MVS', 'l2_leaf_reg': 1, 'random_strength': 1e-05, 'min_data_in_leaf': 10}. Best is trial 13 with value: 0.8423748115384891.\n"
     ]
    },
    {
     "name": "stderr",
     "output_type": "stream",
     "text": [
      "Best trial: 13. Best value: 0.842375:  54%|█████▍    | 54/100 [19:34:08<8:29:31, 664.59s/it] "
     ]
    },
    {
     "name": "stdout",
     "output_type": "stream",
     "text": [
      "0:\ttest: 0.8349060\ttest1: 0.8059446\tbest: 0.8059446 (0)\ttotal: 6.13s\tremaining: 8h 30m 55s\n",
      "\n",
      "bestTest = 0.8059445762\n",
      "bestIteration = 0\n",
      "\n",
      "Shrink model to first 1 iterations.\n",
      "[I 2024-01-20 20:34:13,881] Trial 53 pruned. Trial was pruned at iteration 0.\n",
      "0:\ttest: 0.8365620\ttest1: 0.8075560\tbest: 0.8075560 (0)\ttotal: 7.32s\tremaining: 10h 10m 14s\n",
      "Stopped by overfitting detector  (100 iterations wait)\n",
      "\n",
      "bestTest = 0.8411109583\n",
      "bestIteration = 112\n",
      "\n",
      "Shrink model to first 113 iterations.\n"
     ]
    },
    {
     "name": "stderr",
     "output_type": "stream",
     "text": [
      "Best trial: 13. Best value: 0.842375:  55%|█████▌    | 55/100 [20:02:39<12:13:41, 978.27s/it]"
     ]
    },
    {
     "name": "stdout",
     "output_type": "stream",
     "text": [
      "[I 2024-01-20 21:02:44,052] Trial 54 finished with value: 0.8411109582776584 and parameters: {'learning_rate': 0.1, 'depth': 12, 'boosting_type': 'Plain', 'bootstrap_type': 'MVS', 'l2_leaf_reg': 1, 'random_strength': 1e-05, 'min_data_in_leaf': 10}. Best is trial 13 with value: 0.8423748115384891.\n"
     ]
    },
    {
     "name": "stderr",
     "output_type": "stream",
     "text": [
      "Best trial: 13. Best value: 0.842375:  56%|█████▌    | 56/100 [20:02:55<8:25:52, 689.83s/it] "
     ]
    },
    {
     "name": "stdout",
     "output_type": "stream",
     "text": [
      "0:\ttest: 0.8349060\ttest1: 0.8059446\tbest: 0.8059446 (0)\ttotal: 6.32s\tremaining: 8h 46m 15s\n",
      "\n",
      "bestTest = 0.8059445762\n",
      "bestIteration = 0\n",
      "\n",
      "Shrink model to first 1 iterations.\n",
      "[I 2024-01-20 21:03:00,857] Trial 55 pruned. Trial was pruned at iteration 0.\n"
     ]
    },
    {
     "name": "stderr",
     "output_type": "stream",
     "text": [
      "Best trial: 13. Best value: 0.842375:  57%|█████▋    | 57/100 [20:03:11<5:49:30, 487.68s/it]"
     ]
    },
    {
     "name": "stdout",
     "output_type": "stream",
     "text": [
      "0:\ttest: 0.8335074\ttest1: 0.8037169\tbest: 0.8037169 (0)\ttotal: 5.49s\tremaining: 7h 37m 16s\n",
      "\n",
      "bestTest = 0.8037169344\n",
      "bestIteration = 0\n",
      "\n",
      "Shrink model to first 1 iterations.\n",
      "[I 2024-01-20 21:03:16,843] Trial 56 pruned. Trial was pruned at iteration 0.\n",
      "0:\ttest: 0.8384170\ttest1: 0.8099137\tbest: 0.8099137 (0)\ttotal: 8.36s\tremaining: 11h 36m 9s\n",
      "Stopped by overfitting detector  (100 iterations wait)\n",
      "\n",
      "bestTest = 0.840326744\n",
      "bestIteration = 92\n",
      "\n",
      "Shrink model to first 93 iterations.\n"
     ]
    },
    {
     "name": "stderr",
     "output_type": "stream",
     "text": [
      "Best trial: 13. Best value: 0.842375:  58%|█████▊    | 58/100 [20:32:20<10:06:05, 865.83s/it]"
     ]
    },
    {
     "name": "stdout",
     "output_type": "stream",
     "text": [
      "[I 2024-01-20 21:32:25,043] Trial 57 finished with value: 0.8403267440281816 and parameters: {'learning_rate': 0.1, 'depth': 13, 'boosting_type': 'Plain', 'bootstrap_type': 'MVS', 'l2_leaf_reg': 1, 'random_strength': 1e-05, 'min_data_in_leaf': 10}. Best is trial 13 with value: 0.8423748115384891.\n",
      "0:\ttest: 0.8396993\ttest1: 0.8113502\tbest: 0.8113502 (0)\ttotal: 10.4s\tremaining: 14h 27m 58s\n",
      "Stopped by overfitting detector  (100 iterations wait)\n",
      "\n",
      "bestTest = 0.8428486449\n",
      "bestIteration = 110\n",
      "\n",
      "Shrink model to first 111 iterations.\n"
     ]
    },
    {
     "name": "stderr",
     "output_type": "stream",
     "text": [
      "Best trial: 58. Best value: 0.842849:  59%|█████▉    | 59/100 [21:11:29<14:55:47, 1310.90s/it]"
     ]
    },
    {
     "name": "stdout",
     "output_type": "stream",
     "text": [
      "[I 2024-01-20 22:11:34,444] Trial 58 finished with value: 0.842848644863486 and parameters: {'learning_rate': 0.1, 'depth': 14, 'boosting_type': 'Plain', 'bootstrap_type': 'Bayesian', 'l2_leaf_reg': 1, 'random_strength': 1e-05, 'min_data_in_leaf': 10, 'bagging_temperature': 0.08355159789317312}. Best is trial 58 with value: 0.842848644863486.\n",
      "0:\ttest: 0.8370234\ttest1: 0.8093568\tbest: 0.8093568 (0)\ttotal: 55.3s\tremaining: 3d 4h 48m 1s\n"
     ]
    },
    {
     "name": "stderr",
     "output_type": "stream",
     "text": [
      "Best trial: 58. Best value: 0.842849:  60%|██████    | 60/100 [21:15:25<10:58:54, 988.37s/it] "
     ]
    },
    {
     "name": "stdout",
     "output_type": "stream",
     "text": [
      "\n",
      "bestTest = 0.8175624245\n",
      "bestIteration = 3\n",
      "\n",
      "Shrink model to first 4 iterations.\n",
      "[I 2024-01-20 22:15:30,253] Trial 59 pruned. Trial was pruned at iteration 3.\n",
      "0:\ttest: 0.8384851\ttest1: 0.8118114\tbest: 0.8118114 (0)\ttotal: 10.5s\tremaining: 14h 31m 37s\n"
     ]
    },
    {
     "name": "stderr",
     "output_type": "stream",
     "text": [
      "Best trial: 58. Best value: 0.842849:  61%|██████    | 61/100 [21:17:09<7:50:04, 723.19s/it] "
     ]
    },
    {
     "name": "stdout",
     "output_type": "stream",
     "text": [
      "\n",
      "bestTest = 0.8225988128\n",
      "bestIteration = 7\n",
      "\n",
      "Shrink model to first 8 iterations.\n",
      "[I 2024-01-20 22:17:14,690] Trial 60 pruned. Trial was pruned at iteration 8.\n"
     ]
    },
    {
     "name": "stderr",
     "output_type": "stream",
     "text": [
      "Best trial: 58. Best value: 0.842849:  62%|██████▏   | 62/100 [21:17:30<5:24:28, 512.33s/it]"
     ]
    },
    {
     "name": "stdout",
     "output_type": "stream",
     "text": [
      "0:\ttest: 0.8260346\ttest1: 0.8003059\tbest: 0.8003059 (0)\ttotal: 9.32s\tremaining: 12h 56m 39s\n",
      "\n",
      "bestTest = 0.800305915\n",
      "bestIteration = 0\n",
      "\n",
      "Shrink model to first 1 iterations.\n",
      "[I 2024-01-20 22:17:34,999] Trial 61 pruned. Trial was pruned at iteration 0.\n",
      "0:\ttest: 0.8362467\ttest1: 0.8089025\tbest: 0.8089025 (0)\ttotal: 7.7s\tremaining: 10h 41m 42s\n"
     ]
    },
    {
     "name": "stderr",
     "output_type": "stream",
     "text": [
      "Best trial: 58. Best value: 0.842849:  63%|██████▎   | 63/100 [21:18:31<3:52:26, 376.93s/it]"
     ]
    },
    {
     "name": "stdout",
     "output_type": "stream",
     "text": [
      "\n",
      "bestTest = 0.8211635578\n",
      "bestIteration = 6\n",
      "\n",
      "Shrink model to first 7 iterations.\n",
      "[I 2024-01-20 22:18:35,999] Trial 62 pruned. Trial was pruned at iteration 6.\n"
     ]
    },
    {
     "name": "stderr",
     "output_type": "stream",
     "text": [
      "Best trial: 58. Best value: 0.842849:  64%|██████▍   | 64/100 [21:18:48<2:41:24, 269.03s/it]"
     ]
    },
    {
     "name": "stdout",
     "output_type": "stream",
     "text": [
      "0:\ttest: 0.8348378\ttest1: 0.8060278\tbest: 0.8060278 (0)\ttotal: 6.38s\tremaining: 8h 51m 36s\n",
      "\n",
      "bestTest = 0.8060278208\n",
      "bestIteration = 0\n",
      "\n",
      "Shrink model to first 1 iterations.\n",
      "[I 2024-01-20 22:18:53,251] Trial 63 pruned. Trial was pruned at iteration 0.\n",
      "0:\ttest: 0.8365620\ttest1: 0.8075560\tbest: 0.8075560 (0)\ttotal: 7.18s\tremaining: 9h 58m 3s\n",
      "Stopped by overfitting detector  (100 iterations wait)\n",
      "\n",
      "bestTest = 0.8411109583\n",
      "bestIteration = 112\n",
      "\n",
      "Shrink model to first 113 iterations.\n"
     ]
    },
    {
     "name": "stderr",
     "output_type": "stream",
     "text": [
      "Best trial: 58. Best value: 0.842849:  65%|██████▌   | 65/100 [21:47:08<6:47:24, 698.43s/it]"
     ]
    },
    {
     "name": "stdout",
     "output_type": "stream",
     "text": [
      "[I 2024-01-20 22:47:13,613] Trial 64 finished with value: 0.8411109582776584 and parameters: {'learning_rate': 0.1, 'depth': 12, 'boosting_type': 'Plain', 'bootstrap_type': 'MVS', 'l2_leaf_reg': 1, 'random_strength': 1e-05, 'min_data_in_leaf': 10}. Best is trial 58 with value: 0.842848644863486.\n",
      "0:\ttest: 0.8396967\ttest1: 0.8113513\tbest: 0.8113513 (0)\ttotal: 10.2s\tremaining: 14h 9m 43s\n",
      "\n",
      "bestTest = 0.8302411503\n",
      "bestIteration = 22\n",
      "\n",
      "Shrink model to first 23 iterations.\n"
     ]
    },
    {
     "name": "stderr",
     "output_type": "stream",
     "text": [
      "Best trial: 58. Best value: 0.842849:  66%|██████▌   | 66/100 [21:51:06<5:17:27, 560.22s/it]"
     ]
    },
    {
     "name": "stdout",
     "output_type": "stream",
     "text": [
      "[I 2024-01-20 22:51:11,344] Trial 65 pruned. Trial was pruned at iteration 22.\n"
     ]
    },
    {
     "name": "stderr",
     "output_type": "stream",
     "text": [
      "Best trial: 58. Best value: 0.842849:  67%|██████▋   | 67/100 [21:51:21<3:38:13, 396.77s/it]"
     ]
    },
    {
     "name": "stdout",
     "output_type": "stream",
     "text": [
      "0:\ttest: 0.8314476\ttest1: 0.8006151\tbest: 0.8006151 (0)\ttotal: 4.54s\tremaining: 6h 18m 41s\n",
      "\n",
      "bestTest = 0.8006151348\n",
      "bestIteration = 0\n",
      "\n",
      "Shrink model to first 1 iterations.\n",
      "[I 2024-01-20 22:51:26,730] Trial 66 pruned. Trial was pruned at iteration 0.\n",
      "0:\ttest: 0.8384170\ttest1: 0.8099137\tbest: 0.8099137 (0)\ttotal: 8.21s\tremaining: 11h 23m 46s\n",
      "\n",
      "bestTest = 0.8290356666\n",
      "bestIteration = 20\n",
      "\n",
      "Shrink model to first 21 iterations.\n"
     ]
    },
    {
     "name": "stderr",
     "output_type": "stream",
     "text": [
      "Best trial: 58. Best value: 0.842849:  68%|██████▊   | 68/100 [21:54:25<2:57:28, 332.78s/it]"
     ]
    },
    {
     "name": "stdout",
     "output_type": "stream",
     "text": [
      "[I 2024-01-20 22:54:30,196] Trial 67 pruned. Trial was pruned at iteration 20.\n",
      "0:\ttest: 0.8334572\ttest1: 0.8080630\tbest: 0.8080630 (0)\ttotal: 6.28s\tremaining: 8h 43m 12s\n"
     ]
    },
    {
     "name": "stderr",
     "output_type": "stream",
     "text": [
      "Best trial: 58. Best value: 0.842849:  69%|██████▉   | 69/100 [21:54:47<2:03:52, 239.74s/it]"
     ]
    },
    {
     "name": "stdout",
     "output_type": "stream",
     "text": [
      "\n",
      "bestTest = 0.8102500732\n",
      "bestIteration = 1\n",
      "\n",
      "Shrink model to first 2 iterations.\n",
      "[I 2024-01-20 22:54:52,862] Trial 68 pruned. Trial was pruned at iteration 1.\n"
     ]
    },
    {
     "name": "stderr",
     "output_type": "stream",
     "text": [
      "Best trial: 58. Best value: 0.842849:  70%|███████   | 70/100 [21:55:04<1:26:20, 172.67s/it]"
     ]
    },
    {
     "name": "stdout",
     "output_type": "stream",
     "text": [
      "0:\ttest: 0.8335362\ttest1: 0.8040776\tbest: 0.8040776 (0)\ttotal: 5.59s\tremaining: 7h 45m 29s\n",
      "\n",
      "bestTest = 0.8040775568\n",
      "bestIteration = 0\n",
      "\n",
      "Shrink model to first 1 iterations.\n",
      "[I 2024-01-20 22:55:09,027] Trial 69 pruned. Trial was pruned at iteration 0.\n",
      "0:\ttest: 0.8379640\ttest1: 0.8112584\tbest: 0.8112584 (0)\ttotal: 27.5s\tremaining: 1d 14h 11m 51s\n",
      "\n",
      "bestTest = 0.8343325515\n",
      "bestIteration = 9\n",
      "\n",
      "Shrink model to first 10 iterations.\n"
     ]
    },
    {
     "name": "stderr",
     "output_type": "stream",
     "text": [
      "Best trial: 58. Best value: 0.842849:  71%|███████   | 71/100 [22:14:41<3:49:06, 474.01s/it]"
     ]
    },
    {
     "name": "stdout",
     "output_type": "stream",
     "text": [
      "[I 2024-01-20 23:14:46,149] Trial 70 pruned. Trial was pruned at iteration 39.\n",
      "0:\ttest: 0.8365620\ttest1: 0.8075560\tbest: 0.8075560 (0)\ttotal: 7.19s\tremaining: 9h 59m 11s\n",
      "Stopped by overfitting detector  (100 iterations wait)\n",
      "\n",
      "bestTest = 0.8411109583\n",
      "bestIteration = 112\n",
      "\n",
      "Shrink model to first 113 iterations.\n"
     ]
    },
    {
     "name": "stderr",
     "output_type": "stream",
     "text": [
      "Best trial: 58. Best value: 0.842849:  72%|███████▏  | 72/100 [22:43:05<6:33:27, 843.11s/it]"
     ]
    },
    {
     "name": "stdout",
     "output_type": "stream",
     "text": [
      "[I 2024-01-20 23:43:10,509] Trial 71 finished with value: 0.8411109582776584 and parameters: {'learning_rate': 0.1, 'depth': 12, 'boosting_type': 'Plain', 'bootstrap_type': 'MVS', 'l2_leaf_reg': 1, 'random_strength': 1e-05, 'min_data_in_leaf': 10}. Best is trial 58 with value: 0.842848644863486.\n",
      "0:\ttest: 0.8365620\ttest1: 0.8075560\tbest: 0.8075560 (0)\ttotal: 7.19s\tremaining: 9h 59m 10s\n",
      "Stopped by overfitting detector  (100 iterations wait)\n",
      "\n",
      "bestTest = 0.8411109583\n",
      "bestIteration = 112\n",
      "\n",
      "Shrink model to first 113 iterations.\n"
     ]
    },
    {
     "name": "stderr",
     "output_type": "stream",
     "text": [
      "Best trial: 58. Best value: 0.842849:  73%|███████▎  | 73/100 [23:11:29<8:15:39, 1101.46s/it]"
     ]
    },
    {
     "name": "stdout",
     "output_type": "stream",
     "text": [
      "[I 2024-01-21 00:11:34,788] Trial 72 finished with value: 0.8411109582776584 and parameters: {'learning_rate': 0.1, 'depth': 12, 'boosting_type': 'Plain', 'bootstrap_type': 'MVS', 'l2_leaf_reg': 1, 'random_strength': 1e-05, 'min_data_in_leaf': 10}. Best is trial 58 with value: 0.842848644863486.\n",
      "0:\ttest: 0.8384170\ttest1: 0.8099137\tbest: 0.8099137 (0)\ttotal: 8.33s\tremaining: 11h 33m 55s\n",
      "\n",
      "bestTest = 0.840326744\n",
      "bestIteration = 92\n",
      "\n",
      "Shrink model to first 93 iterations.\n"
     ]
    },
    {
     "name": "stderr",
     "output_type": "stream",
     "text": [
      "Best trial: 58. Best value: 0.842849:  74%|███████▍  | 74/100 [23:30:23<8:01:27, 1111.05s/it]"
     ]
    },
    {
     "name": "stdout",
     "output_type": "stream",
     "text": [
      "[I 2024-01-21 00:30:28,223] Trial 73 pruned. Trial was pruned at iteration 123.\n"
     ]
    },
    {
     "name": "stderr",
     "output_type": "stream",
     "text": [
      "Best trial: 58. Best value: 0.842849:  75%|███████▌  | 75/100 [23:30:40<5:26:12, 782.88s/it] "
     ]
    },
    {
     "name": "stdout",
     "output_type": "stream",
     "text": [
      "0:\ttest: 0.8349060\ttest1: 0.8059446\tbest: 0.8059446 (0)\ttotal: 6.32s\tremaining: 8h 46m 35s\n",
      "\n",
      "bestTest = 0.8059445762\n",
      "bestIteration = 0\n",
      "\n",
      "Shrink model to first 1 iterations.\n",
      "[I 2024-01-21 00:30:45,379] Trial 74 pruned. Trial was pruned at iteration 0.\n",
      "0:\ttest: 0.8364651\ttest1: 0.8092659\tbest: 0.8092659 (0)\ttotal: 8.28s\tremaining: 11h 29m 36s\n",
      "\n",
      "bestTest = 0.8292839266\n",
      "bestIteration = 21\n",
      "\n",
      "Shrink model to first 22 iterations.\n"
     ]
    },
    {
     "name": "stderr",
     "output_type": "stream",
     "text": [
      "Best trial: 58. Best value: 0.842849:  76%|███████▌  | 76/100 [23:33:51<4:02:06, 605.28s/it]"
     ]
    },
    {
     "name": "stdout",
     "output_type": "stream",
     "text": [
      "[I 2024-01-21 00:33:56,256] Trial 75 pruned. Trial was pruned at iteration 21.\n",
      "0:\ttest: 0.8365620\ttest1: 0.8075560\tbest: 0.8075560 (0)\ttotal: 7.23s\tremaining: 10h 2m 11s\n",
      "Stopped by overfitting detector  (100 iterations wait)\n",
      "\n",
      "bestTest = 0.8411109583\n",
      "bestIteration = 112\n",
      "\n",
      "Shrink model to first 113 iterations.\n"
     ]
    },
    {
     "name": "stderr",
     "output_type": "stream",
     "text": [
      "Best trial: 58. Best value: 0.842849:  77%|███████▋  | 77/100 [24:02:24<5:59:23, 937.56s/it]"
     ]
    },
    {
     "name": "stdout",
     "output_type": "stream",
     "text": [
      "[I 2024-01-21 01:02:29,142] Trial 76 finished with value: 0.8411109582776584 and parameters: {'learning_rate': 0.1, 'depth': 12, 'boosting_type': 'Plain', 'bootstrap_type': 'MVS', 'l2_leaf_reg': 1, 'random_strength': 1e-05, 'min_data_in_leaf': 3}. Best is trial 58 with value: 0.842848644863486.\n",
      "0:\ttest: 0.8413756\ttest1: 0.8117829\tbest: 0.8117829 (0)\ttotal: 12.6s\tremaining: 17h 26m 1s\n",
      "Stopped by overfitting detector  (100 iterations wait)\n",
      "\n",
      "bestTest = 0.8428076478\n",
      "bestIteration = 127\n",
      "\n",
      "Shrink model to first 128 iterations.\n"
     ]
    },
    {
     "name": "stderr",
     "output_type": "stream",
     "text": [
      "Best trial: 58. Best value: 0.842849:  78%|███████▊  | 78/100 [24:54:00<9:41:10, 1585.04s/it]"
     ]
    },
    {
     "name": "stdout",
     "output_type": "stream",
     "text": [
      "[I 2024-01-21 01:54:04,960] Trial 77 finished with value: 0.8428076477859792 and parameters: {'learning_rate': 0.1, 'depth': 15, 'boosting_type': 'Plain', 'bootstrap_type': 'MVS', 'l2_leaf_reg': 3, 'random_strength': 1e-05, 'min_data_in_leaf': 1}. Best is trial 58 with value: 0.842848644863486.\n",
      "0:\ttest: 0.8413756\ttest1: 0.8117829\tbest: 0.8117829 (0)\ttotal: 12.6s\tremaining: 17h 27m 33s\n"
     ]
    },
    {
     "name": "stderr",
     "output_type": "stream",
     "text": [
      "Best trial: 58. Best value: 0.842849:  79%|███████▉  | 79/100 [24:54:35<6:32:05, 1120.24s/it]"
     ]
    },
    {
     "name": "stdout",
     "output_type": "stream",
     "text": [
      "\n",
      "bestTest = 0.811854363\n",
      "bestIteration = 1\n",
      "\n",
      "Shrink model to first 2 iterations.\n",
      "[I 2024-01-21 01:54:40,662] Trial 78 pruned. Trial was pruned at iteration 1.\n",
      "0:\ttest: 0.8413756\ttest1: 0.8117829\tbest: 0.8117829 (0)\ttotal: 12.4s\tremaining: 17h 9m 12s\n",
      "Stopped by overfitting detector  (100 iterations wait)\n",
      "\n",
      "bestTest = 0.8428076478\n",
      "bestIteration = 127\n",
      "\n",
      "Shrink model to first 128 iterations.\n"
     ]
    },
    {
     "name": "stderr",
     "output_type": "stream",
     "text": [
      "Best trial: 58. Best value: 0.842849:  80%|████████  | 80/100 [25:46:07<9:30:35, 1711.79s/it]"
     ]
    },
    {
     "name": "stdout",
     "output_type": "stream",
     "text": [
      "[I 2024-01-21 02:46:12,740] Trial 79 finished with value: 0.8428076477859792 and parameters: {'learning_rate': 0.1, 'depth': 15, 'boosting_type': 'Plain', 'bootstrap_type': 'MVS', 'l2_leaf_reg': 3, 'random_strength': 1e-05, 'min_data_in_leaf': 2}. Best is trial 58 with value: 0.842848644863486.\n"
     ]
    },
    {
     "name": "stderr",
     "output_type": "stream",
     "text": [
      "Best trial: 58. Best value: 0.842849:  81%|████████  | 81/100 [25:46:33<6:21:54, 1206.04s/it]"
     ]
    },
    {
     "name": "stdout",
     "output_type": "stream",
     "text": [
      "0:\ttest: 0.8169229\ttest1: 0.7804263\tbest: 0.7804263 (0)\ttotal: 15s\tremaining: 20h 49m 7s\n",
      "\n",
      "bestTest = 0.7804262624\n",
      "bestIteration = 0\n",
      "\n",
      "Shrink model to first 1 iterations.\n",
      "[I 2024-01-21 02:46:38,700] Trial 80 pruned. Trial was pruned at iteration 0.\n",
      "0:\ttest: 0.8413756\ttest1: 0.8117829\tbest: 0.8117829 (0)\ttotal: 12.8s\tremaining: 17h 47m\n",
      "Stopped by overfitting detector  (100 iterations wait)\n",
      "\n",
      "bestTest = 0.8428076478\n",
      "bestIteration = 127\n",
      "\n",
      "Shrink model to first 128 iterations.\n"
     ]
    },
    {
     "name": "stderr",
     "output_type": "stream",
     "text": [
      "Best trial: 58. Best value: 0.842849:  82%|████████▏ | 82/100 [26:38:11<8:52:05, 1773.65s/it]"
     ]
    },
    {
     "name": "stdout",
     "output_type": "stream",
     "text": [
      "[I 2024-01-21 03:38:16,783] Trial 81 finished with value: 0.8428076477859792 and parameters: {'learning_rate': 0.1, 'depth': 15, 'boosting_type': 'Plain', 'bootstrap_type': 'MVS', 'l2_leaf_reg': 3, 'random_strength': 1e-05, 'min_data_in_leaf': 2}. Best is trial 58 with value: 0.842848644863486.\n",
      "0:\ttest: 0.8413756\ttest1: 0.8117829\tbest: 0.8117829 (0)\ttotal: 12.5s\tremaining: 17h 19m 12s\n",
      "Stopped by overfitting detector  (100 iterations wait)\n",
      "\n",
      "bestTest = 0.8428076478\n",
      "bestIteration = 127\n",
      "\n",
      "Shrink model to first 128 iterations.\n"
     ]
    },
    {
     "name": "stderr",
     "output_type": "stream",
     "text": [
      "Best trial: 58. Best value: 0.842849:  83%|████████▎ | 83/100 [27:29:55<10:15:37, 2172.80s/it]"
     ]
    },
    {
     "name": "stdout",
     "output_type": "stream",
     "text": [
      "[I 2024-01-21 04:30:00,931] Trial 82 finished with value: 0.8428076477859792 and parameters: {'learning_rate': 0.1, 'depth': 15, 'boosting_type': 'Plain', 'bootstrap_type': 'MVS', 'l2_leaf_reg': 3, 'random_strength': 1e-05, 'min_data_in_leaf': 1}. Best is trial 58 with value: 0.842848644863486.\n",
      "0:\ttest: 0.8413756\ttest1: 0.8117829\tbest: 0.8117829 (0)\ttotal: 12.4s\tremaining: 17h 11m 22s\n",
      "Stopped by overfitting detector  (100 iterations wait)\n",
      "\n",
      "bestTest = 0.8428076478\n",
      "bestIteration = 127\n",
      "\n",
      "Shrink model to first 128 iterations.\n"
     ]
    },
    {
     "name": "stderr",
     "output_type": "stream",
     "text": [
      "Best trial: 58. Best value: 0.842849:  84%|████████▍ | 84/100 [28:21:35<10:53:30, 2450.68s/it]"
     ]
    },
    {
     "name": "stdout",
     "output_type": "stream",
     "text": [
      "[I 2024-01-21 05:21:39,998] Trial 83 finished with value: 0.8428076477859792 and parameters: {'learning_rate': 0.1, 'depth': 15, 'boosting_type': 'Plain', 'bootstrap_type': 'MVS', 'l2_leaf_reg': 3, 'random_strength': 1e-05, 'min_data_in_leaf': 2}. Best is trial 58 with value: 0.842848644863486.\n",
      "0:\ttest: 0.8413756\ttest1: 0.8117829\tbest: 0.8117829 (0)\ttotal: 12.9s\tremaining: 17h 58m 57s\n",
      "Stopped by overfitting detector  (100 iterations wait)\n",
      "\n",
      "bestTest = 0.8428076478\n",
      "bestIteration = 127\n",
      "\n",
      "Shrink model to first 128 iterations.\n"
     ]
    },
    {
     "name": "stderr",
     "output_type": "stream",
     "text": [
      "Best trial: 58. Best value: 0.842849:  85%|████████▌ | 85/100 [29:13:19<11:01:40, 2646.71s/it]"
     ]
    },
    {
     "name": "stdout",
     "output_type": "stream",
     "text": [
      "[I 2024-01-21 06:13:24,124] Trial 84 finished with value: 0.8428076477859792 and parameters: {'learning_rate': 0.1, 'depth': 15, 'boosting_type': 'Plain', 'bootstrap_type': 'MVS', 'l2_leaf_reg': 3, 'random_strength': 1e-05, 'min_data_in_leaf': 2}. Best is trial 58 with value: 0.842848644863486.\n",
      "0:\ttest: 0.8413756\ttest1: 0.8117829\tbest: 0.8117829 (0)\ttotal: 12.7s\tremaining: 17h 36m\n",
      "Stopped by overfitting detector  (100 iterations wait)\n",
      "\n",
      "bestTest = 0.8428076478\n",
      "bestIteration = 127\n",
      "\n",
      "Shrink model to first 128 iterations.\n"
     ]
    },
    {
     "name": "stderr",
     "output_type": "stream",
     "text": [
      "Best trial: 58. Best value: 0.842849:  86%|████████▌ | 86/100 [30:04:55<10:49:03, 2781.66s/it]"
     ]
    },
    {
     "name": "stdout",
     "output_type": "stream",
     "text": [
      "[I 2024-01-21 07:05:00,671] Trial 85 finished with value: 0.8428076477859792 and parameters: {'learning_rate': 0.1, 'depth': 15, 'boosting_type': 'Plain', 'bootstrap_type': 'MVS', 'l2_leaf_reg': 3, 'random_strength': 1e-05, 'min_data_in_leaf': 2}. Best is trial 58 with value: 0.842848644863486.\n",
      "0:\ttest: 0.8413756\ttest1: 0.8117829\tbest: 0.8117829 (0)\ttotal: 12.5s\tremaining: 17h 21m 5s\n",
      "Stopped by overfitting detector  (100 iterations wait)\n",
      "\n",
      "bestTest = 0.8428076478\n",
      "bestIteration = 127\n",
      "\n",
      "Shrink model to first 128 iterations.\n"
     ]
    },
    {
     "name": "stderr",
     "output_type": "stream",
     "text": [
      "Best trial: 58. Best value: 0.842849:  87%|████████▋ | 87/100 [30:56:31<10:23:04, 2875.76s/it]"
     ]
    },
    {
     "name": "stdout",
     "output_type": "stream",
     "text": [
      "[I 2024-01-21 07:56:35,982] Trial 86 finished with value: 0.8428076477859792 and parameters: {'learning_rate': 0.1, 'depth': 15, 'boosting_type': 'Plain', 'bootstrap_type': 'MVS', 'l2_leaf_reg': 3, 'random_strength': 1e-05, 'min_data_in_leaf': 2}. Best is trial 58 with value: 0.842848644863486.\n",
      "0:\ttest: 0.8413756\ttest1: 0.8117829\tbest: 0.8117829 (0)\ttotal: 12.4s\tremaining: 17h 14m\n",
      "Stopped by overfitting detector  (100 iterations wait)\n",
      "\n",
      "bestTest = 0.8428076478\n",
      "bestIteration = 127\n",
      "\n",
      "Shrink model to first 128 iterations.\n"
     ]
    },
    {
     "name": "stderr",
     "output_type": "stream",
     "text": [
      "Best trial: 58. Best value: 0.842849:  88%|████████▊ | 88/100 [31:48:13<9:48:45, 2943.79s/it] "
     ]
    },
    {
     "name": "stdout",
     "output_type": "stream",
     "text": [
      "[I 2024-01-21 08:48:18,501] Trial 87 finished with value: 0.8428076477859792 and parameters: {'learning_rate': 0.1, 'depth': 15, 'boosting_type': 'Plain', 'bootstrap_type': 'MVS', 'l2_leaf_reg': 3, 'random_strength': 1e-05, 'min_data_in_leaf': 2}. Best is trial 58 with value: 0.842848644863486.\n",
      "0:\ttest: 0.8413756\ttest1: 0.8117829\tbest: 0.8117829 (0)\ttotal: 12.4s\tremaining: 17h 15m 9s\n",
      "Stopped by overfitting detector  (100 iterations wait)\n",
      "\n",
      "bestTest = 0.8428076478\n",
      "bestIteration = 127\n",
      "\n",
      "Shrink model to first 128 iterations.\n"
     ]
    },
    {
     "name": "stderr",
     "output_type": "stream",
     "text": [
      "Best trial: 58. Best value: 0.842849:  89%|████████▉ | 89/100 [32:39:44<9:07:47, 2987.97s/it]"
     ]
    },
    {
     "name": "stdout",
     "output_type": "stream",
     "text": [
      "[I 2024-01-21 09:39:49,562] Trial 88 finished with value: 0.8428076477859792 and parameters: {'learning_rate': 0.1, 'depth': 15, 'boosting_type': 'Plain', 'bootstrap_type': 'MVS', 'l2_leaf_reg': 3, 'random_strength': 1e-05, 'min_data_in_leaf': 2}. Best is trial 58 with value: 0.842848644863486.\n",
      "0:\ttest: 0.8413756\ttest1: 0.8117829\tbest: 0.8117829 (0)\ttotal: 12.5s\tremaining: 17h 22m 55s\n",
      "Stopped by overfitting detector  (100 iterations wait)\n",
      "\n",
      "bestTest = 0.8428076478\n",
      "bestIteration = 127\n",
      "\n",
      "Shrink model to first 128 iterations.\n"
     ]
    },
    {
     "name": "stderr",
     "output_type": "stream",
     "text": [
      "Best trial: 58. Best value: 0.842849:  90%|█████████ | 90/100 [33:31:16<8:23:11, 3019.12s/it]"
     ]
    },
    {
     "name": "stdout",
     "output_type": "stream",
     "text": [
      "[I 2024-01-21 10:31:21,355] Trial 89 finished with value: 0.8428076477859792 and parameters: {'learning_rate': 0.1, 'depth': 15, 'boosting_type': 'Plain', 'bootstrap_type': 'MVS', 'l2_leaf_reg': 3, 'random_strength': 1e-05, 'min_data_in_leaf': 1}. Best is trial 58 with value: 0.842848644863486.\n",
      "0:\ttest: 0.8396883\ttest1: 0.8113471\tbest: 0.8113471 (0)\ttotal: 10.1s\tremaining: 14h 2m 58s\n",
      "\n",
      "bestTest = 0.8404198136\n",
      "bestIteration = 98\n",
      "\n",
      "Shrink model to first 99 iterations.\n"
     ]
    },
    {
     "name": "stderr",
     "output_type": "stream",
     "text": [
      "Best trial: 58. Best value: 0.842849:  91%|█████████ | 91/100 [33:49:45<6:06:54, 2446.08s/it]"
     ]
    },
    {
     "name": "stdout",
     "output_type": "stream",
     "text": [
      "[I 2024-01-21 10:49:50,351] Trial 90 pruned. Trial was pruned at iteration 101.\n",
      "0:\ttest: 0.8413756\ttest1: 0.8117829\tbest: 0.8117829 (0)\ttotal: 12.4s\tremaining: 17h 16m 3s\n",
      "Stopped by overfitting detector  (100 iterations wait)\n",
      "\n",
      "bestTest = 0.8428076478\n",
      "bestIteration = 127\n",
      "\n",
      "Shrink model to first 128 iterations.\n"
     ]
    },
    {
     "name": "stderr",
     "output_type": "stream",
     "text": [
      "Best trial: 58. Best value: 0.842849:  92%|█████████▏| 92/100 [34:41:09<5:51:39, 2637.43s/it]"
     ]
    },
    {
     "name": "stdout",
     "output_type": "stream",
     "text": [
      "[I 2024-01-21 11:41:14,260] Trial 91 finished with value: 0.8428076477859792 and parameters: {'learning_rate': 0.1, 'depth': 15, 'boosting_type': 'Plain', 'bootstrap_type': 'MVS', 'l2_leaf_reg': 3, 'random_strength': 1e-05, 'min_data_in_leaf': 2}. Best is trial 58 with value: 0.842848644863486.\n",
      "0:\ttest: 0.8413756\ttest1: 0.8117829\tbest: 0.8117829 (0)\ttotal: 12.6s\tremaining: 17h 30m 22s\n",
      "Stopped by overfitting detector  (100 iterations wait)\n",
      "\n",
      "bestTest = 0.8428076478\n",
      "bestIteration = 127\n",
      "\n",
      "Shrink model to first 128 iterations.\n"
     ]
    },
    {
     "name": "stderr",
     "output_type": "stream",
     "text": [
      "Best trial: 58. Best value: 0.842849:  93%|█████████▎| 93/100 [35:32:50<5:23:55, 2776.53s/it]"
     ]
    },
    {
     "name": "stdout",
     "output_type": "stream",
     "text": [
      "[I 2024-01-21 12:32:55,347] Trial 92 finished with value: 0.8428076477859792 and parameters: {'learning_rate': 0.1, 'depth': 15, 'boosting_type': 'Plain', 'bootstrap_type': 'MVS', 'l2_leaf_reg': 3, 'random_strength': 1e-05, 'min_data_in_leaf': 2}. Best is trial 58 with value: 0.842848644863486.\n",
      "0:\ttest: 0.8396883\ttest1: 0.8113471\tbest: 0.8113471 (0)\ttotal: 9.83s\tremaining: 13h 39m 15s\n",
      "\n",
      "bestTest = 0.8404198136\n",
      "bestIteration = 98\n",
      "\n",
      "Shrink model to first 99 iterations.\n"
     ]
    },
    {
     "name": "stderr",
     "output_type": "stream",
     "text": [
      "Best trial: 58. Best value: 0.842849:  94%|█████████▍| 94/100 [35:51:20<3:47:39, 2276.54s/it]"
     ]
    },
    {
     "name": "stdout",
     "output_type": "stream",
     "text": [
      "[I 2024-01-21 12:51:25,250] Trial 93 pruned. Trial was pruned at iteration 101.\n",
      "0:\ttest: 0.8413756\ttest1: 0.8117829\tbest: 0.8117829 (0)\ttotal: 12.2s\tremaining: 16h 59m 44s\n",
      "Stopped by overfitting detector  (100 iterations wait)\n",
      "\n",
      "bestTest = 0.8428076478\n",
      "bestIteration = 127\n",
      "\n",
      "Shrink model to first 128 iterations.\n"
     ]
    },
    {
     "name": "stderr",
     "output_type": "stream",
     "text": [
      "Best trial: 58. Best value: 0.842849:  95%|█████████▌| 95/100 [36:42:55<3:30:10, 2522.12s/it]"
     ]
    },
    {
     "name": "stdout",
     "output_type": "stream",
     "text": [
      "[I 2024-01-21 13:43:00,399] Trial 94 finished with value: 0.8428076477859792 and parameters: {'learning_rate': 0.1, 'depth': 15, 'boosting_type': 'Plain', 'bootstrap_type': 'MVS', 'l2_leaf_reg': 3, 'random_strength': 1e-05, 'min_data_in_leaf': 1}. Best is trial 58 with value: 0.842848644863486.\n",
      "0:\ttest: 0.8413756\ttest1: 0.8117829\tbest: 0.8117829 (0)\ttotal: 12.7s\tremaining: 17h 36m 46s\n",
      "\n",
      "bestTest = 0.839716879\n",
      "bestIteration = 91\n",
      "\n",
      "Shrink model to first 92 iterations.\n"
     ]
    },
    {
     "name": "stderr",
     "output_type": "stream",
     "text": [
      "Best trial: 58. Best value: 0.842849:  96%|█████████▌| 96/100 [37:03:28<2:22:21, 2135.47s/it]"
     ]
    },
    {
     "name": "stdout",
     "output_type": "stream",
     "text": [
      "[I 2024-01-21 14:03:33,697] Trial 95 pruned. Trial was pruned at iteration 91.\n",
      "0:\ttest: 0.8398271\ttest1: 0.8107829\tbest: 0.8107829 (0)\ttotal: 31.3s\tremaining: 1d 19h 23m 42s\n",
      "\n",
      "bestTest = 0.8327576028\n",
      "bestIteration = 11\n",
      "\n",
      "Shrink model to first 12 iterations.\n"
     ]
    },
    {
     "name": "stderr",
     "output_type": "stream",
     "text": [
      "Best trial: 58. Best value: 0.842849:  97%|█████████▋| 97/100 [37:20:22<1:29:56, 1798.97s/it]"
     ]
    },
    {
     "name": "stdout",
     "output_type": "stream",
     "text": [
      "[I 2024-01-21 14:20:27,499] Trial 96 pruned. Trial was pruned at iteration 30.\n",
      "0:\ttest: 0.8413756\ttest1: 0.8117829\tbest: 0.8117829 (0)\ttotal: 12.4s\tremaining: 17h 17m 13s\n"
     ]
    },
    {
     "name": "stderr",
     "output_type": "stream",
     "text": [
      "Best trial: 58. Best value: 0.842849:  98%|█████████▊| 98/100 [37:21:09<42:26, 1273.27s/it]  "
     ]
    },
    {
     "name": "stdout",
     "output_type": "stream",
     "text": [
      "\n",
      "bestTest = 0.8140648558\n",
      "bestIteration = 2\n",
      "\n",
      "Shrink model to first 3 iterations.\n",
      "[I 2024-01-21 14:21:14,133] Trial 97 pruned. Trial was pruned at iteration 2.\n",
      "0:\ttest: 0.8375652\ttest1: 0.8110047\tbest: 0.8110047 (0)\ttotal: 10s\tremaining: 13h 54m 57s\n",
      "\n",
      "bestTest = 0.8364999035\n",
      "bestIteration = 43\n",
      "\n",
      "Shrink model to first 44 iterations.\n"
     ]
    },
    {
     "name": "stderr",
     "output_type": "stream",
     "text": [
      "Best trial: 58. Best value: 0.842849:  99%|█████████▉| 99/100 [37:30:07<17:32, 1052.80s/it]"
     ]
    },
    {
     "name": "stdout",
     "output_type": "stream",
     "text": [
      "[I 2024-01-21 14:30:12,509] Trial 98 pruned. Trial was pruned at iteration 50.\n",
      "0:\ttest: 0.8413756\ttest1: 0.8117829\tbest: 0.8117829 (0)\ttotal: 12.5s\tremaining: 17h 17m 58s\n",
      "Stopped by overfitting detector  (100 iterations wait)\n",
      "\n",
      "bestTest = 0.8428076478\n",
      "bestIteration = 127\n",
      "\n",
      "Shrink model to first 128 iterations.\n"
     ]
    },
    {
     "name": "stderr",
     "output_type": "stream",
     "text": [
      "Best trial: 58. Best value: 0.842849: 100%|██████████| 100/100 [38:21:42<00:00, 1381.03s/it]"
     ]
    },
    {
     "name": "stdout",
     "output_type": "stream",
     "text": [
      "[I 2024-01-21 15:21:47,801] Trial 99 finished with value: 0.8428076477859792 and parameters: {'learning_rate': 0.1, 'depth': 15, 'boosting_type': 'Plain', 'bootstrap_type': 'MVS', 'l2_leaf_reg': 3, 'random_strength': 1e-05, 'min_data_in_leaf': 3}. Best is trial 58 with value: 0.842848644863486.\n",
      "Best trial : score 0.842848644863486, \n",
      " params = {'learning_rate': 0.1, 'depth': 14, 'boosting_type': 'Plain', 'bootstrap_type': 'Bayesian', 'l2_leaf_reg': 1, 'random_strength': 1e-05, 'min_data_in_leaf': 10, 'bagging_temperature': 0.08355159789317312} \n",
      "\n"
     ]
    },
    {
     "name": "stderr",
     "output_type": "stream",
     "text": [
      "\n"
     ]
    }
   ],
   "source": [
    "# Study Optuna\n",
    "study = optuna.create_study(direction = 'maximize', sampler = TPESampler(seed = SEED))\n",
    "study.optimize(lambda trial : objective_CAT_CLF(trial, X_train, y_train, X_valid, y_valid), show_progress_bar = True, n_trials = 100)\n",
    "print(f'Best trial : score {study.best_trial.value}, \\n params = {study.best_trial.params} \\n')"
   ]
  },
  {
   "cell_type": "markdown",
   "metadata": {},
   "source": [
    "### Train"
   ]
  },
  {
   "cell_type": "code",
   "execution_count": 20,
   "metadata": {},
   "outputs": [
    {
     "data": {
      "text/html": [
       "Finishing last run (ID:4nd7673p) before initializing another..."
      ],
      "text/plain": [
       "<IPython.core.display.HTML object>"
      ]
     },
     "metadata": {},
     "output_type": "display_data"
    },
    {
     "name": "stderr",
     "output_type": "stream",
     "text": [
      "wandb: WARNING Source type is set to 'repo' but some required information is missing from the environment. A job will not be created from this run. See https://docs.wandb.ai/guides/launch/create-job\n"
     ]
    },
    {
     "data": {
      "text/html": [
       " View run <strong style=\"color:#cdcd00\">sage-plant-6</strong> at: <a href='https://wandb.ai/teemo-dkt/ML_ljw/runs/4nd7673p' target=\"_blank\">https://wandb.ai/teemo-dkt/ML_ljw/runs/4nd7673p</a><br/>Synced 5 W&B file(s), 0 media file(s), 0 artifact file(s) and 0 other file(s)"
      ],
      "text/plain": [
       "<IPython.core.display.HTML object>"
      ]
     },
     "metadata": {},
     "output_type": "display_data"
    },
    {
     "data": {
      "text/html": [
       "Find logs at: <code>./wandb/run-20240123_164139-4nd7673p/logs</code>"
      ],
      "text/plain": [
       "<IPython.core.display.HTML object>"
      ]
     },
     "metadata": {},
     "output_type": "display_data"
    },
    {
     "data": {
      "text/html": [
       "Successfully finished last run (ID:4nd7673p). Initializing new run:<br/>"
      ],
      "text/plain": [
       "<IPython.core.display.HTML object>"
      ]
     },
     "metadata": {},
     "output_type": "display_data"
    },
    {
     "data": {
      "text/html": [
       "Tracking run with wandb version 0.16.2"
      ],
      "text/plain": [
       "<IPython.core.display.HTML object>"
      ]
     },
     "metadata": {},
     "output_type": "display_data"
    },
    {
     "data": {
      "text/html": [
       "Run data is saved locally in <code>/data/ephemeral/ML_Models/wandb/run-20240123_164327-0tqldiox</code>"
      ],
      "text/plain": [
       "<IPython.core.display.HTML object>"
      ]
     },
     "metadata": {},
     "output_type": "display_data"
    },
    {
     "data": {
      "text/html": [
       "Syncing run <strong><a href='https://wandb.ai/teemo-dkt/ML_ljw/runs/0tqldiox' target=\"_blank\">sage-eon-7</a></strong> to <a href='https://wandb.ai/teemo-dkt/ML_ljw' target=\"_blank\">Weights & Biases</a> (<a href='https://wandb.me/run' target=\"_blank\">docs</a>)<br/>"
      ],
      "text/plain": [
       "<IPython.core.display.HTML object>"
      ]
     },
     "metadata": {},
     "output_type": "display_data"
    },
    {
     "data": {
      "text/html": [
       " View project at <a href='https://wandb.ai/teemo-dkt/ML_ljw' target=\"_blank\">https://wandb.ai/teemo-dkt/ML_ljw</a>"
      ],
      "text/plain": [
       "<IPython.core.display.HTML object>"
      ]
     },
     "metadata": {},
     "output_type": "display_data"
    },
    {
     "data": {
      "text/html": [
       " View run at <a href='https://wandb.ai/teemo-dkt/ML_ljw/runs/0tqldiox' target=\"_blank\">https://wandb.ai/teemo-dkt/ML_ljw/runs/0tqldiox</a>"
      ],
      "text/plain": [
       "<IPython.core.display.HTML object>"
      ]
     },
     "metadata": {},
     "output_type": "display_data"
    },
    {
     "name": "stdout",
     "output_type": "stream",
     "text": [
      "0:\ttest: 0.8251162\ttest1: 0.7897648\tbest: 0.7897648 (0)\ttotal: 7.93s\tremaining: 11h 26s\n",
      "Stopped by overfitting detector  (100 iterations wait)\n",
      "\n",
      "bestTest = 0.8416924201\n",
      "bestIteration = 196\n",
      "\n",
      "Shrink model to first 197 iterations.\n",
      "ROC-AUC Score : 0.8417 / Accuracy : 0.7563 / Logloss : 0.4914\n"
     ]
    },
    {
     "data": {
      "image/png": "[encoded data removed]",
      "text/plain": [
       "<Figure size 640x480 with 1 Axes>"
      ]
     },
     "metadata": {},
     "output_type": "display_data"
    },
    {
     "data": {
      "image/png": "[encoded data removed]",
      "text/plain": [
       "<Figure size 1000x1500 with 1 Axes>"
      ]
     },
     "metadata": {},
     "output_type": "display_data"
    },
    {
     "name": "stderr",
     "output_type": "stream",
     "text": [
      "wandb: WARNING Source type is set to 'repo' but some required information is missing from the environment. A job will not be created from this run. See https://docs.wandb.ai/guides/launch/create-job\n"
     ]
    },
    {
     "data": {
      "text/html": [
       "<style>\n",
       "    table.wandb td:nth-child(1) { padding: 0 10px; text-align: left ; width: auto;} td:nth-child(2) {text-align: left ; width: 100%}\n",
       "    .wandb-row { display: flex; flex-direction: row; flex-wrap: wrap; justify-content: flex-start; width: 100% }\n",
       "    .wandb-col { display: flex; flex-direction: column; flex-basis: 100%; flex: 1; padding: 10px; }\n",
       "    </style>\n",
       "<div class=\"wandb-row\"><div class=\"wandb-col\"><h3>Run history:</h3><br/><table class=\"wandb\"><tr><td>Accuracy</td><td>▁</td></tr><tr><td>Logloss</td><td>▁</td></tr><tr><td>ROC-AUC</td><td>▁</td></tr><tr><td>iteration@metric-period-1</td><td>▁▁▁▁▂▂▂▂▂▃▃▃▃▃▃▄▄▄▄▄▅▅▅▅▅▅▆▆▆▆▆▇▇▇▇▇▇███</td></tr><tr><td>learn-Logloss</td><td>█▇▆▆▆▆▆▅▅▅▄▄▄▄▄▄▄▄▄▄▄▄▃▃▃▃▃▂▂▂▂▂▂▂▁▁▁▁▁▁</td></tr><tr><td>validation_0-AUC</td><td>▁▁▂▃▃▃▃▂▂▂▅▅▅▅▅▅▅▅▅▅▅▅▆▆▆▇▇▇▇▇▇▇████████</td></tr><tr><td>validation_0-Logloss</td><td>█▇▆▅▅▅▅▅▅▅▄▄▄▄▄▄▄▄▄▄▄▄▃▃▃▂▂▃▃▃▂▂▂▂▂▁▁▁▁▁</td></tr><tr><td>validation_1-AUC</td><td>▁▂▄▅▆▆▆▇▇▇▇▇▇▇▇█████████████████▇▇▇▇▇▇▇▇</td></tr><tr><td>validation_1-Logloss</td><td>█▅▃▂▂▂▂▂▂▁▁▁▁▁▁▁▁▁▁▁▁▁▁▁▁▁▁▁▁▁▁▁▁▁▁▁▂▁▂▂</td></tr></table><br/></div><div class=\"wandb-col\"><h3>Run summary:</h3><br/><table class=\"wandb\"><tr><td>Accuracy</td><td>0.75635</td></tr><tr><td>Logloss</td><td>0.49141</td></tr><tr><td>ROC-AUC</td><td>0.84169</td></tr><tr><td>iteration@metric-period-1</td><td>297</td></tr><tr><td>learn-Logloss</td><td>0.17922</td></tr><tr><td>validation_0-AUC</td><td>0.98319</td></tr><tr><td>validation_0-Logloss</td><td>0.19037</td></tr><tr><td>validation_1-AUC</td><td>0.83684</td></tr><tr><td>validation_1-Logloss</td><td>0.49964</td></tr></table><br/></div></div>"
      ],
      "text/plain": [
       "<IPython.core.display.HTML object>"
      ]
     },
     "metadata": {},
     "output_type": "display_data"
    },
    {
     "data": {
      "text/html": [
       " View run <strong style=\"color:#cdcd00\">sage-eon-7</strong> at: <a href='https://wandb.ai/teemo-dkt/ML_ljw/runs/0tqldiox' target=\"_blank\">https://wandb.ai/teemo-dkt/ML_ljw/runs/0tqldiox</a><br/>Synced 5 W&B file(s), 0 media file(s), 0 artifact file(s) and 0 other file(s)"
      ],
      "text/plain": [
       "<IPython.core.display.HTML object>"
      ]
     },
     "metadata": {},
     "output_type": "display_data"
    },
    {
     "data": {
      "text/html": [
       "Find logs at: <code>./wandb/run-20240123_164327-0tqldiox/logs</code>"
      ],
      "text/plain": [
       "<IPython.core.display.HTML object>"
      ]
     },
     "metadata": {},
     "output_type": "display_data"
    }
   ],
   "source": [
    "wandb.init(project = 'ML_ljw')\n",
    "wandb.run.name = 'CAT_VS8_Feature53_CPU'\n",
    "wandb.run.save()\n",
    "\n",
    "train_data = Pool(data = X_train, label = y_train, cat_features = [col for col in X_train.select_dtypes('category').columns])\n",
    "valid_data = Pool(data = X_valid, label = y_valid, cat_features = [col for col in X_train.select_dtypes('category').columns])\n",
    "\n",
    "# Best Parameter 학습\n",
    "# param = study.best_params\n",
    "param = {'learning_rate': 0.1, 'depth': 12, 'boosting_type': 'Plain', 'bootstrap_type': 'MVS'} ## Best\n",
    "\n",
    "cat_clf = CatBoostClassifier(**param, iterations = 5000, \n",
    "                             loss_function = 'Logloss', eval_metric = 'AUC',\n",
    "                             use_best_model = True, random_state = SEED, # task_type = 'GPU', devices = '0',\n",
    "                             cat_features = [X_train.columns.get_loc(col) for col in X_train.select_dtypes('category').columns])\n",
    "cat_clf.fit(train_data, eval_set = [train_data, valid_data], verbose = 100, early_stopping_rounds = 100,\n",
    "            callbacks = [CatBoostWandbCallback()])\n",
    "\n",
    "# 모델 지표 출력\n",
    "proba = cat_clf.predict_proba(X_valid)\n",
    "roc_auc = roc_auc_score(y_valid, proba[:, 1])\n",
    "accuracy = accuracy_score(y_valid, np.where(proba[:, 1] >= 0.5, 1, 0))\n",
    "logloss = log_loss(y_valid, proba[:, 1])\n",
    "print(f'ROC-AUC Score : {roc_auc:.4f} / Accuracy : {accuracy:.4f} / Logloss : {logloss:.4f}')\n",
    "sns.distplot(proba) ; plt.xlim([0, 1]) ; plt.show()\n",
    "\n",
    "# Feature Importance 출력\n",
    "plt.figure(figsize = (10, 15))\n",
    "importances = cat_clf.get_feature_importance(type = 'PredictionValuesChange') # LossFunctionChange\n",
    "feature_importances = pd.Series(importances, index = X_train.columns).sort_values()\n",
    "plt.barh(feature_importances.index, feature_importances.values)\n",
    "plt.title('CatBoost Feature Importance')\n",
    "plt.xlabel('Importance') ; plt.ylabel('Features') ; plt.show()\n",
    "\n",
    "wandb.finish()"
   ]
  },
  {
   "cell_type": "code",
   "execution_count": 15,
   "metadata": {},
   "outputs": [],
   "source": [
    "# cat_clf.load_model('./model/CAT_Feature91_0112')\n",
    "# cat_clf.save_model('./model/CATCLF_Feature91_Wandb_0115')"
   ]
  },
  {
   "cell_type": "code",
   "execution_count": 21,
   "metadata": {},
   "outputs": [
    {
     "name": "stdout",
     "output_type": "stream",
     "text": [
      "394 / 744\n"
     ]
    },
    {
     "data": {
      "image/png": "[encoded data removed]",
      "text/plain": [
       "<Figure size 640x480 with 1 Axes>"
      ]
     },
     "metadata": {},
     "output_type": "display_data"
    }
   ],
   "source": [
    "pred = cat_clf.predict(test_df)\n",
    "proba = cat_clf.predict_proba(test_df)[:, 1]\n",
    "print(f'{sum(pred)} / {len(pred)}')\n",
    "sns.distplot(proba) ; plt.xlim([0, 1]) ; plt.show()"
   ]
  },
  {
   "cell_type": "code",
   "execution_count": 22,
   "metadata": {},
   "outputs": [
    {
     "name": "stdout",
     "output_type": "stream",
     "text": [
      "Writing Prediction : /data/ephemeral/submit/CATCLF_VS8_Feature53_CPU.csv\n"
     ]
    }
   ],
   "source": [
    "# SAVE OUTPUT\n",
    "output_dir = '/data/ephemeral/submit/'\n",
    "write_path = os.path.join(output_dir, 'CATCLF_VS8_Feature53_CPU.csv')\n",
    "if not os.path.exists(output_dir) :\n",
    "    os.makedirs(output_dir)\n",
    "with open(write_path, 'w', encoding = 'utf8') as w :\n",
    "    print('Writing Prediction : {}'.format(write_path))\n",
    "    w.write('id,prediction\\n')\n",
    "    for id, p in enumerate(proba) :\n",
    "        w.write('{},{}\\n'.format(id, p))"
   ]
  },
  {
   "cell_type": "markdown",
   "metadata": {},
   "source": [
    "## SelectFromModel"
   ]
  },
  {
   "cell_type": "code",
   "execution_count": 80,
   "metadata": {},
   "outputs": [],
   "source": [
    "# train_data = Pool(data = X_train, label = y_train, cat_features = cat_col)\n",
    "# valid_data = Pool(data = X_valid, label = y_valid, cat_features = cat_col)\n",
    "\n",
    "# Best Parameter 학습\n",
    "# param = study.best_params\n",
    "param = {'learning_rate': 0.1, 'depth': 12, 'boosting_type': 'Plain', 'bootstrap_type': 'MVS'} ## Best\n",
    "\n",
    "cat_clf = CatBoostClassifier(**param, iterations = 5000, \n",
    "                             loss_function = 'Logloss', eval_metric = 'AUC',\n",
    "                             use_best_model = True, random_state = SEED, task_type = 'GPU', devices = '0',\n",
    "                             cat_features = [X_train.columns.get_loc(col) for col in X_train.select_dtypes('category').columns])"
   ]
  },
  {
   "cell_type": "code",
   "execution_count": 81,
   "metadata": {},
   "outputs": [
    {
     "name": "stderr",
     "output_type": "stream",
     "text": [
      "Default metric period is 5 because AUC is/are not implemented for GPU\n"
     ]
    },
    {
     "name": "stdout",
     "output_type": "stream",
     "text": [
      "0:\ttest: 0.8113666\tbest: 0.8113666 (0)\ttotal: 1.05s\tremaining: 1h 27m 13s\n",
      "bestTest = 0.8399555087\n",
      "bestIteration = 115\n",
      "Shrink model to first 116 iterations.\n",
      "Threshold : 0.8\n"
     ]
    }
   ],
   "source": [
    "from sklearn.feature_selection import SelectFromModel\n",
    "selector = SelectFromModel(estimator = cat_clf, threshold = 0.8 \\\n",
    "    ).fit(X_train, y_train, eval_set = [(X_valid, y_valid)], verbose = 300, early_stopping_rounds = 100)\n",
    "print(f'Threshold : {selector.threshold_}')"
   ]
  },
  {
   "cell_type": "code",
   "execution_count": 83,
   "metadata": {},
   "outputs": [
    {
     "name": "stdout",
     "output_type": "stream",
     "text": [
      "(2519258, 28) (2519258,) (6698, 28) (6698,) (744, 28)\n"
     ]
    }
   ],
   "source": [
    "X_train_sel = pd.DataFrame(selector.transform(X_train), columns = selector.get_feature_names_out())\n",
    "X_valid_sel = pd.DataFrame(selector.transform(X_valid), columns = selector.get_feature_names_out())\n",
    "test_sel  = pd.DataFrame(selector.transform(test_df), columns = selector.get_feature_names_out())\n",
    "print(X_train_sel.shape, y_train.shape, X_valid_sel.shape, y_valid.shape, test_sel.shape)"
   ]
  },
  {
   "cell_type": "code",
   "execution_count": 88,
   "metadata": {},
   "outputs": [
    {
     "name": "stderr",
     "output_type": "stream",
     "text": [
      "100%|██████████| 6/6 [00:00<00:00, 340.17it/s]\n",
      "100%|██████████| 6/6 [00:00<00:00, 217.89it/s]\n",
      "100%|██████████| 16/16 [00:00<00:00, 18.00it/s]\n"
     ]
    }
   ],
   "source": [
    "cat_sel_col = ['userID', 'assessmentItemID', 'KnowledgeTag', 'testCode', 'testNum', 'is_correct_before1']\n",
    "int_sel_col = ['user_cnt', 'user_testID_sum', 'user_testCode_cnt', 'itemID_sum', 'testID_cnt', 'testCode_sum']\n",
    "flt_sel_col = ['ElapsedTime', 'testCode_ElaspedTime_avg', 'problemID_ElaspedTime_avg', 'tag_ElaspedTime_avg', 'Correct_User_ElapsedTime', 'Wrong_User_ElapsedTime',\n",
    "               'user_acc', 'user_testID_acc', 'user_testCode_acc', 'itemID_acc', 'testID_acc', 'problemID_acc', \n",
    "               'correct_rate_before1', 'relative_correct_rate_before1', 'correct_rate_before2', 'relative_correct_rate_before2']\n",
    "\n",
    "for col in tqdm.tqdm(cat_sel_col) :\n",
    "    X_train_sel[col] = X_train_sel[col].astype('category')\n",
    "    X_valid_sel[col] = X_valid_sel[col].astype('category')\n",
    "    test_sel[col] = test_sel[col].astype('category')\n",
    "\n",
    "for col in tqdm.tqdm(int_sel_col) :\n",
    "    X_train_sel[col] = X_train_sel[col].astype('int32')\n",
    "    X_valid_sel[col] = X_valid_sel[col].astype('int32')\n",
    "    test_sel[col] = test_sel[col].astype('int32')\n",
    "\n",
    "for col in tqdm.tqdm(flt_sel_col) :\n",
    "    X_train_sel[col] = X_train_sel[col].astype('float64')\n",
    "    X_valid_sel[col] = X_valid_sel[col].astype('float64')\n",
    "    test_sel[col] = test_sel[col].astype('float64')"
   ]
  },
  {
   "cell_type": "code",
   "execution_count": 89,
   "metadata": {},
   "outputs": [
    {
     "name": "stderr",
     "output_type": "stream",
     "text": [
      "Default metric period is 5 because AUC is/are not implemented for GPU\n"
     ]
    },
    {
     "name": "stdout",
     "output_type": "stream",
     "text": [
      "0:\ttest: 0.8105677\tbest: 0.8105677 (0)\ttotal: 784ms\tremaining: 1h 5m 17s\n",
      "bestTest = 0.8396823406\n",
      "bestIteration = 180\n",
      "Shrink model to first 181 iterations.\n",
      "ROC-AUC Score : 0.8397 / Accuracy : 0.7565 / Logloss : 0.4920\n"
     ]
    },
    {
     "data": {
      "image/png": "[encoded data removed]",
      "text/plain": [
       "<Figure size 640x480 with 1 Axes>"
      ]
     },
     "metadata": {},
     "output_type": "display_data"
    },
    {
     "data": {
      "image/png": "[encoded data removed]",
      "text/plain": [
       "<Figure size 1000x1500 with 1 Axes>"
      ]
     },
     "metadata": {},
     "output_type": "display_data"
    }
   ],
   "source": [
    "train_sel_data = Pool(data = X_train_sel, label = y_train, cat_features = cat_sel_col)\n",
    "valid_sel_data = Pool(data = X_valid_sel, label = y_valid, cat_features = cat_sel_col)\n",
    "\n",
    "# Best Parameter 학습\n",
    "# param = study.best_params\n",
    "param = {'learning_rate': 0.1, 'depth': 12, 'boosting_type': 'Plain', 'bootstrap_type': 'MVS'} ## Best\n",
    "\n",
    "cat_clf = CatBoostClassifier(**param, iterations = 5000, \n",
    "                             loss_function = 'Logloss', eval_metric = 'AUC',\n",
    "                             use_best_model = True, random_state = SEED, task_type = 'GPU', devices = '0',\n",
    "                             cat_features = [X_train_sel.columns.get_loc(col) for col in X_train_sel.select_dtypes('category').columns])\n",
    "cat_clf.fit(train_sel_data, eval_set = [valid_sel_data], verbose = 300, early_stopping_rounds = 100)\n",
    "# train_data # callbacks = [CatBoostWandbCallback()]\n",
    "\n",
    "# 모델 지표 출력\n",
    "proba = cat_clf.predict_proba(X_valid_sel)\n",
    "roc_auc = roc_auc_score(y_valid, proba[:, 1])\n",
    "accuracy = accuracy_score(y_valid, np.where(proba[:, 1] >= 0.5, 1, 0))\n",
    "logloss = log_loss(y_valid, proba[:, 1])\n",
    "# wandb.log({'ROC-AUC' : roc_auc, 'Accuracy' : accuracy, 'Logloss' : logloss})\n",
    "print(f'ROC-AUC Score : {roc_auc:.4f} / Accuracy : {accuracy:.4f} / Logloss : {logloss:.4f}')\n",
    "sns.distplot(proba) ; plt.xlim([0, 1]) ; plt.show()\n",
    "\n",
    "# Feature Importance 출력\n",
    "plt.figure(figsize = (10, 15))\n",
    "importances = cat_clf.get_feature_importance(type = 'PredictionValuesChange') # LossFunctionChange\n",
    "feature_importances = pd.Series(importances, index = X_train_sel.columns).sort_values()\n",
    "plt.barh(feature_importances.index, feature_importances.values)\n",
    "plt.title('CatBoost Feature Importance')\n",
    "plt.xlabel('Importance') ; plt.ylabel('Features') ; plt.show()\n",
    "# wandb.finish()"
   ]
  },
  {
   "cell_type": "code",
   "execution_count": 90,
   "metadata": {},
   "outputs": [
    {
     "name": "stdout",
     "output_type": "stream",
     "text": [
      "368 / 744\n"
     ]
    },
    {
     "data": {
      "image/png": "[encoded data removed]",
      "text/plain": [
       "<Figure size 640x480 with 1 Axes>"
      ]
     },
     "metadata": {},
     "output_type": "display_data"
    }
   ],
   "source": [
    "pred = cat_clf.predict(test_sel)\n",
    "proba = cat_clf.predict_proba(test_sel)[:, 1]\n",
    "print(f'{sum(pred)} / {len(pred)}')\n",
    "sns.distplot(proba) ; plt.xlim([0, 1]) ; plt.show()"
   ]
  },
  {
   "cell_type": "code",
   "execution_count": 91,
   "metadata": {},
   "outputs": [
    {
     "name": "stdout",
     "output_type": "stream",
     "text": [
      "Writing Prediction : /data/ephemeral/submit/CATCLF_SFM8_F28.csv\n"
     ]
    }
   ],
   "source": [
    "# SAVE OUTPUT\n",
    "output_dir = '/data/ephemeral/submit/'\n",
    "write_path = os.path.join(output_dir, 'CATCLF_SFM8_F28.csv')\n",
    "if not os.path.exists(output_dir) :\n",
    "    os.makedirs(output_dir)\n",
    "with open(write_path, 'w', encoding = 'utf8') as w :\n",
    "    print('Writing Prediction : {}'.format(write_path))\n",
    "    w.write('id,prediction\\n')\n",
    "    for id, p in enumerate(proba) :\n",
    "        w.write('{},{}\\n'.format(id, p))"
   ]
  }
 ],
 "metadata": {
  "kernelspec": {
   "display_name": "level2-dkt-recsys-05-ywsvzukT-py3.10",
   "language": "python",
   "name": "python3"
  },
  "language_info": {
   "codemirror_mode": {
    "name": "ipython",
    "version": 3
   },
   "file_extension": ".py",
   "mimetype": "text/x-python",
   "name": "python",
   "nbconvert_exporter": "python",
   "pygments_lexer": "ipython3",
   "version": "3.10.13"
  }
 },
 "nbformat": 4,
 "nbformat_minor": 2
}
